{
 "cells": [
  {
   "cell_type": "markdown",
   "metadata": {},
   "source": [
    "# 1 - Introduction"
   ]
  },
  {
   "cell_type": "markdown",
   "metadata": {},
   "source": [
    "Name : Gilang Wiradhyaksa\n",
    "\n",
    "Data : [Credit Card Default](https://console.cloud.google.com/bigquery?p=bigquery-public-data&d=ml_datasets&t=credit_card_default&page=table)\n",
    "\n",
    "Objective : The purpose of this project is to create a supervised machine learning to predict whether the customer will pay their credit card bills or not for the next month. Data set used is Credit Card Default from Google BigQuery. The model used in this project is classification model `Logistic Regression`, `SVM` and `KNN`. Metrics used to measure model performance is `Precision` because we want the model to have a more correct prediction."
   ]
  },
  {
   "cell_type": "markdown",
   "metadata": {},
   "source": [
    "# 2 - Import Libraries"
   ]
  },
  {
   "cell_type": "code",
   "execution_count": 1106,
   "metadata": {},
   "outputs": [],
   "source": [
    "import pandas as pd\n",
    "import numpy as np\n",
    "from scipy import stats\n",
    "import matplotlib.pyplot as plt\n",
    "import seaborn as sns\n",
    "\n",
    "from sklearn.model_selection import train_test_split\n",
    "from sklearn.linear_model import LogisticRegression\n",
    "from sklearn.neighbors import KNeighborsClassifier\n",
    "from sklearn.svm import SVC\n",
    "from sklearn.metrics import classification_report, precision_score, confusion_matrix, ConfusionMatrixDisplay\n",
    "from sklearn.preprocessing import MinMaxScaler, OrdinalEncoder, OneHotEncoder\n",
    "from sklearn.model_selection import cross_val_score, GridSearchCV #, RandomizedSearchCV\n",
    "import pickle\n",
    "\n",
    "import warnings\n",
    "warnings.filterwarnings('ignore')"
   ]
  },
  {
   "cell_type": "markdown",
   "metadata": {},
   "source": [
    "# 3 - Data Loading"
   ]
  },
  {
   "cell_type": "markdown",
   "metadata": {},
   "source": [
    "Data load from Google BigQuery with this SQL :\n",
    "\n",
    "```sql\n",
    "SELECT \n",
    "\n",
    "limit_balance, CAST(sex AS INT64) sex, CAST(education_level AS INT64) education_level, CAST(marital_status AS INT64) marital_status, \n",
    "\n",
    "age, pay_0, pay_2, pay_3, pay_4, CAST(pay_5 AS FLOAT64) pay_5, CAST(pay_6 AS FLOAT64) pay_6, \n",
    "\n",
    "bill_amt_1, bill_amt_2, bill_amt_3, bill_amt_4, bill_amt_5, bill_amt_6, pay_amt_1, pay_amt_2, pay_amt_3, pay_amt_4, pay_amt_5, pay_amt_6, \n",
    "\n",
    "CAST(default_payment_next_month AS INT64) default_payment_next_month \n",
    "\n",
    "FROM bigquery-public-data.ml_datasets.credit_card_default LIMIT 1992\n",
    "```"
   ]
  },
  {
   "cell_type": "code",
   "execution_count": 1107,
   "metadata": {},
   "outputs": [],
   "source": [
    "pd.set_option('display.max_columns', None)"
   ]
  },
  {
   "cell_type": "code",
   "execution_count": 1108,
   "metadata": {},
   "outputs": [],
   "source": [
    "#Data Asli\n",
    "df_ori = pd.read_csv('credit_card_data.csv')"
   ]
  },
  {
   "cell_type": "code",
   "execution_count": 1109,
   "metadata": {},
   "outputs": [
    {
     "data": {
      "text/html": [
       "<div>\n",
       "<style scoped>\n",
       "    .dataframe tbody tr th:only-of-type {\n",
       "        vertical-align: middle;\n",
       "    }\n",
       "\n",
       "    .dataframe tbody tr th {\n",
       "        vertical-align: top;\n",
       "    }\n",
       "\n",
       "    .dataframe thead th {\n",
       "        text-align: right;\n",
       "    }\n",
       "</style>\n",
       "<table border=\"1\" class=\"dataframe\">\n",
       "  <thead>\n",
       "    <tr style=\"text-align: right;\">\n",
       "      <th></th>\n",
       "      <th>limit_balance</th>\n",
       "      <th>sex</th>\n",
       "      <th>education_level</th>\n",
       "      <th>marital_status</th>\n",
       "      <th>age</th>\n",
       "      <th>pay_0</th>\n",
       "      <th>pay_2</th>\n",
       "      <th>pay_3</th>\n",
       "      <th>pay_4</th>\n",
       "      <th>pay_5</th>\n",
       "      <th>pay_6</th>\n",
       "      <th>bill_amt_1</th>\n",
       "      <th>bill_amt_2</th>\n",
       "      <th>bill_amt_3</th>\n",
       "      <th>bill_amt_4</th>\n",
       "      <th>bill_amt_5</th>\n",
       "      <th>bill_amt_6</th>\n",
       "      <th>pay_amt_1</th>\n",
       "      <th>pay_amt_2</th>\n",
       "      <th>pay_amt_3</th>\n",
       "      <th>pay_amt_4</th>\n",
       "      <th>pay_amt_5</th>\n",
       "      <th>pay_amt_6</th>\n",
       "      <th>default_payment_next_month</th>\n",
       "    </tr>\n",
       "  </thead>\n",
       "  <tbody>\n",
       "    <tr>\n",
       "      <th>0</th>\n",
       "      <td>80000.0</td>\n",
       "      <td>1</td>\n",
       "      <td>6</td>\n",
       "      <td>1</td>\n",
       "      <td>54.0</td>\n",
       "      <td>0.0</td>\n",
       "      <td>0.0</td>\n",
       "      <td>0.0</td>\n",
       "      <td>0.0</td>\n",
       "      <td>0.0</td>\n",
       "      <td>0.0</td>\n",
       "      <td>61454.0</td>\n",
       "      <td>61808.0</td>\n",
       "      <td>62290.0</td>\n",
       "      <td>29296.0</td>\n",
       "      <td>26210.0</td>\n",
       "      <td>17643.0</td>\n",
       "      <td>2545.0</td>\n",
       "      <td>2208.0</td>\n",
       "      <td>1336.0</td>\n",
       "      <td>2232.0</td>\n",
       "      <td>542.0</td>\n",
       "      <td>348.0</td>\n",
       "      <td>1</td>\n",
       "    </tr>\n",
       "    <tr>\n",
       "      <th>1</th>\n",
       "      <td>200000.0</td>\n",
       "      <td>1</td>\n",
       "      <td>4</td>\n",
       "      <td>1</td>\n",
       "      <td>49.0</td>\n",
       "      <td>0.0</td>\n",
       "      <td>0.0</td>\n",
       "      <td>0.0</td>\n",
       "      <td>0.0</td>\n",
       "      <td>0.0</td>\n",
       "      <td>0.0</td>\n",
       "      <td>49221.0</td>\n",
       "      <td>49599.0</td>\n",
       "      <td>50942.0</td>\n",
       "      <td>50146.0</td>\n",
       "      <td>50235.0</td>\n",
       "      <td>48984.0</td>\n",
       "      <td>1689.0</td>\n",
       "      <td>2164.0</td>\n",
       "      <td>2500.0</td>\n",
       "      <td>3480.0</td>\n",
       "      <td>2500.0</td>\n",
       "      <td>3000.0</td>\n",
       "      <td>0</td>\n",
       "    </tr>\n",
       "    <tr>\n",
       "      <th>2</th>\n",
       "      <td>20000.0</td>\n",
       "      <td>2</td>\n",
       "      <td>6</td>\n",
       "      <td>2</td>\n",
       "      <td>22.0</td>\n",
       "      <td>0.0</td>\n",
       "      <td>0.0</td>\n",
       "      <td>0.0</td>\n",
       "      <td>0.0</td>\n",
       "      <td>0.0</td>\n",
       "      <td>0.0</td>\n",
       "      <td>19568.0</td>\n",
       "      <td>19420.0</td>\n",
       "      <td>15535.0</td>\n",
       "      <td>1434.0</td>\n",
       "      <td>500.0</td>\n",
       "      <td>0.0</td>\n",
       "      <td>4641.0</td>\n",
       "      <td>1019.0</td>\n",
       "      <td>900.0</td>\n",
       "      <td>0.0</td>\n",
       "      <td>1500.0</td>\n",
       "      <td>0.0</td>\n",
       "      <td>1</td>\n",
       "    </tr>\n",
       "    <tr>\n",
       "      <th>3</th>\n",
       "      <td>260000.0</td>\n",
       "      <td>2</td>\n",
       "      <td>4</td>\n",
       "      <td>2</td>\n",
       "      <td>33.0</td>\n",
       "      <td>0.0</td>\n",
       "      <td>0.0</td>\n",
       "      <td>0.0</td>\n",
       "      <td>0.0</td>\n",
       "      <td>0.0</td>\n",
       "      <td>0.0</td>\n",
       "      <td>18457.0</td>\n",
       "      <td>22815.0</td>\n",
       "      <td>27086.0</td>\n",
       "      <td>27821.0</td>\n",
       "      <td>30767.0</td>\n",
       "      <td>29890.0</td>\n",
       "      <td>5000.0</td>\n",
       "      <td>5000.0</td>\n",
       "      <td>1137.0</td>\n",
       "      <td>5000.0</td>\n",
       "      <td>1085.0</td>\n",
       "      <td>5000.0</td>\n",
       "      <td>0</td>\n",
       "    </tr>\n",
       "    <tr>\n",
       "      <th>4</th>\n",
       "      <td>150000.0</td>\n",
       "      <td>1</td>\n",
       "      <td>4</td>\n",
       "      <td>2</td>\n",
       "      <td>32.0</td>\n",
       "      <td>0.0</td>\n",
       "      <td>0.0</td>\n",
       "      <td>0.0</td>\n",
       "      <td>-1.0</td>\n",
       "      <td>0.0</td>\n",
       "      <td>0.0</td>\n",
       "      <td>159919.0</td>\n",
       "      <td>68686.0</td>\n",
       "      <td>161192.0</td>\n",
       "      <td>150464.0</td>\n",
       "      <td>143375.0</td>\n",
       "      <td>146411.0</td>\n",
       "      <td>4019.0</td>\n",
       "      <td>146896.0</td>\n",
       "      <td>157436.0</td>\n",
       "      <td>4600.0</td>\n",
       "      <td>4709.0</td>\n",
       "      <td>5600.0</td>\n",
       "      <td>0</td>\n",
       "    </tr>\n",
       "    <tr>\n",
       "      <th>5</th>\n",
       "      <td>300000.0</td>\n",
       "      <td>2</td>\n",
       "      <td>4</td>\n",
       "      <td>2</td>\n",
       "      <td>32.0</td>\n",
       "      <td>0.0</td>\n",
       "      <td>0.0</td>\n",
       "      <td>0.0</td>\n",
       "      <td>0.0</td>\n",
       "      <td>0.0</td>\n",
       "      <td>-1.0</td>\n",
       "      <td>54053.0</td>\n",
       "      <td>65235.0</td>\n",
       "      <td>64747.0</td>\n",
       "      <td>65150.0</td>\n",
       "      <td>-450.0</td>\n",
       "      <td>700.0</td>\n",
       "      <td>15235.0</td>\n",
       "      <td>1491.0</td>\n",
       "      <td>1303.0</td>\n",
       "      <td>0.0</td>\n",
       "      <td>2000.0</td>\n",
       "      <td>1400.0</td>\n",
       "      <td>0</td>\n",
       "    </tr>\n",
       "    <tr>\n",
       "      <th>6</th>\n",
       "      <td>130000.0</td>\n",
       "      <td>1</td>\n",
       "      <td>1</td>\n",
       "      <td>1</td>\n",
       "      <td>45.0</td>\n",
       "      <td>0.0</td>\n",
       "      <td>0.0</td>\n",
       "      <td>0.0</td>\n",
       "      <td>0.0</td>\n",
       "      <td>0.0</td>\n",
       "      <td>0.0</td>\n",
       "      <td>58180.0</td>\n",
       "      <td>59134.0</td>\n",
       "      <td>61156.0</td>\n",
       "      <td>62377.0</td>\n",
       "      <td>63832.0</td>\n",
       "      <td>65099.0</td>\n",
       "      <td>2886.0</td>\n",
       "      <td>2908.0</td>\n",
       "      <td>2129.0</td>\n",
       "      <td>2354.0</td>\n",
       "      <td>2366.0</td>\n",
       "      <td>2291.0</td>\n",
       "      <td>0</td>\n",
       "    </tr>\n",
       "    <tr>\n",
       "      <th>7</th>\n",
       "      <td>200000.0</td>\n",
       "      <td>1</td>\n",
       "      <td>1</td>\n",
       "      <td>1</td>\n",
       "      <td>58.0</td>\n",
       "      <td>0.0</td>\n",
       "      <td>0.0</td>\n",
       "      <td>0.0</td>\n",
       "      <td>0.0</td>\n",
       "      <td>0.0</td>\n",
       "      <td>0.0</td>\n",
       "      <td>192461.0</td>\n",
       "      <td>195970.0</td>\n",
       "      <td>122214.0</td>\n",
       "      <td>124647.0</td>\n",
       "      <td>126921.0</td>\n",
       "      <td>129167.0</td>\n",
       "      <td>7822.0</td>\n",
       "      <td>4417.0</td>\n",
       "      <td>4446.0</td>\n",
       "      <td>4597.0</td>\n",
       "      <td>4677.0</td>\n",
       "      <td>4698.0</td>\n",
       "      <td>0</td>\n",
       "    </tr>\n",
       "    <tr>\n",
       "      <th>8</th>\n",
       "      <td>500000.0</td>\n",
       "      <td>1</td>\n",
       "      <td>1</td>\n",
       "      <td>1</td>\n",
       "      <td>39.0</td>\n",
       "      <td>0.0</td>\n",
       "      <td>0.0</td>\n",
       "      <td>0.0</td>\n",
       "      <td>0.0</td>\n",
       "      <td>0.0</td>\n",
       "      <td>0.0</td>\n",
       "      <td>133598.0</td>\n",
       "      <td>167378.0</td>\n",
       "      <td>171106.0</td>\n",
       "      <td>174500.0</td>\n",
       "      <td>137406.0</td>\n",
       "      <td>204975.0</td>\n",
       "      <td>54209.0</td>\n",
       "      <td>4607.0</td>\n",
       "      <td>4603.0</td>\n",
       "      <td>5224.0</td>\n",
       "      <td>207440.0</td>\n",
       "      <td>7509.0</td>\n",
       "      <td>0</td>\n",
       "    </tr>\n",
       "    <tr>\n",
       "      <th>9</th>\n",
       "      <td>230000.0</td>\n",
       "      <td>1</td>\n",
       "      <td>1</td>\n",
       "      <td>1</td>\n",
       "      <td>48.0</td>\n",
       "      <td>0.0</td>\n",
       "      <td>0.0</td>\n",
       "      <td>0.0</td>\n",
       "      <td>0.0</td>\n",
       "      <td>0.0</td>\n",
       "      <td>0.0</td>\n",
       "      <td>160879.0</td>\n",
       "      <td>161797.0</td>\n",
       "      <td>165107.0</td>\n",
       "      <td>105508.0</td>\n",
       "      <td>108101.0</td>\n",
       "      <td>110094.0</td>\n",
       "      <td>7000.0</td>\n",
       "      <td>6607.0</td>\n",
       "      <td>3773.0</td>\n",
       "      <td>4290.0</td>\n",
       "      <td>4164.0</td>\n",
       "      <td>2000.0</td>\n",
       "      <td>0</td>\n",
       "    </tr>\n",
       "  </tbody>\n",
       "</table>\n",
       "</div>"
      ],
      "text/plain": [
       "   limit_balance  sex  education_level  marital_status   age  pay_0  pay_2  \\\n",
       "0        80000.0    1                6               1  54.0    0.0    0.0   \n",
       "1       200000.0    1                4               1  49.0    0.0    0.0   \n",
       "2        20000.0    2                6               2  22.0    0.0    0.0   \n",
       "3       260000.0    2                4               2  33.0    0.0    0.0   \n",
       "4       150000.0    1                4               2  32.0    0.0    0.0   \n",
       "5       300000.0    2                4               2  32.0    0.0    0.0   \n",
       "6       130000.0    1                1               1  45.0    0.0    0.0   \n",
       "7       200000.0    1                1               1  58.0    0.0    0.0   \n",
       "8       500000.0    1                1               1  39.0    0.0    0.0   \n",
       "9       230000.0    1                1               1  48.0    0.0    0.0   \n",
       "\n",
       "   pay_3  pay_4  pay_5  pay_6  bill_amt_1  bill_amt_2  bill_amt_3  bill_amt_4  \\\n",
       "0    0.0    0.0    0.0    0.0     61454.0     61808.0     62290.0     29296.0   \n",
       "1    0.0    0.0    0.0    0.0     49221.0     49599.0     50942.0     50146.0   \n",
       "2    0.0    0.0    0.0    0.0     19568.0     19420.0     15535.0      1434.0   \n",
       "3    0.0    0.0    0.0    0.0     18457.0     22815.0     27086.0     27821.0   \n",
       "4    0.0   -1.0    0.0    0.0    159919.0     68686.0    161192.0    150464.0   \n",
       "5    0.0    0.0    0.0   -1.0     54053.0     65235.0     64747.0     65150.0   \n",
       "6    0.0    0.0    0.0    0.0     58180.0     59134.0     61156.0     62377.0   \n",
       "7    0.0    0.0    0.0    0.0    192461.0    195970.0    122214.0    124647.0   \n",
       "8    0.0    0.0    0.0    0.0    133598.0    167378.0    171106.0    174500.0   \n",
       "9    0.0    0.0    0.0    0.0    160879.0    161797.0    165107.0    105508.0   \n",
       "\n",
       "   bill_amt_5  bill_amt_6  pay_amt_1  pay_amt_2  pay_amt_3  pay_amt_4  \\\n",
       "0     26210.0     17643.0     2545.0     2208.0     1336.0     2232.0   \n",
       "1     50235.0     48984.0     1689.0     2164.0     2500.0     3480.0   \n",
       "2       500.0         0.0     4641.0     1019.0      900.0        0.0   \n",
       "3     30767.0     29890.0     5000.0     5000.0     1137.0     5000.0   \n",
       "4    143375.0    146411.0     4019.0   146896.0   157436.0     4600.0   \n",
       "5      -450.0       700.0    15235.0     1491.0     1303.0        0.0   \n",
       "6     63832.0     65099.0     2886.0     2908.0     2129.0     2354.0   \n",
       "7    126921.0    129167.0     7822.0     4417.0     4446.0     4597.0   \n",
       "8    137406.0    204975.0    54209.0     4607.0     4603.0     5224.0   \n",
       "9    108101.0    110094.0     7000.0     6607.0     3773.0     4290.0   \n",
       "\n",
       "   pay_amt_5  pay_amt_6  default_payment_next_month  \n",
       "0      542.0      348.0                           1  \n",
       "1     2500.0     3000.0                           0  \n",
       "2     1500.0        0.0                           1  \n",
       "3     1085.0     5000.0                           0  \n",
       "4     4709.0     5600.0                           0  \n",
       "5     2000.0     1400.0                           0  \n",
       "6     2366.0     2291.0                           0  \n",
       "7     4677.0     4698.0                           0  \n",
       "8   207440.0     7509.0                           0  \n",
       "9     4164.0     2000.0                           0  "
      ]
     },
     "execution_count": 1109,
     "metadata": {},
     "output_type": "execute_result"
    }
   ],
   "source": [
    "df = df_ori.copy()\n",
    "df.head(10)"
   ]
  },
  {
   "cell_type": "code",
   "execution_count": 1110,
   "metadata": {},
   "outputs": [
    {
     "data": {
      "text/html": [
       "<div>\n",
       "<style scoped>\n",
       "    .dataframe tbody tr th:only-of-type {\n",
       "        vertical-align: middle;\n",
       "    }\n",
       "\n",
       "    .dataframe tbody tr th {\n",
       "        vertical-align: top;\n",
       "    }\n",
       "\n",
       "    .dataframe thead th {\n",
       "        text-align: right;\n",
       "    }\n",
       "</style>\n",
       "<table border=\"1\" class=\"dataframe\">\n",
       "  <thead>\n",
       "    <tr style=\"text-align: right;\">\n",
       "      <th></th>\n",
       "      <th>limit_balance</th>\n",
       "      <th>sex</th>\n",
       "      <th>education_level</th>\n",
       "      <th>marital_status</th>\n",
       "      <th>age</th>\n",
       "      <th>pay_0</th>\n",
       "      <th>pay_2</th>\n",
       "      <th>pay_3</th>\n",
       "      <th>pay_4</th>\n",
       "      <th>pay_5</th>\n",
       "      <th>pay_6</th>\n",
       "      <th>bill_amt_1</th>\n",
       "      <th>bill_amt_2</th>\n",
       "      <th>bill_amt_3</th>\n",
       "      <th>bill_amt_4</th>\n",
       "      <th>bill_amt_5</th>\n",
       "      <th>bill_amt_6</th>\n",
       "      <th>pay_amt_1</th>\n",
       "      <th>pay_amt_2</th>\n",
       "      <th>pay_amt_3</th>\n",
       "      <th>pay_amt_4</th>\n",
       "      <th>pay_amt_5</th>\n",
       "      <th>pay_amt_6</th>\n",
       "      <th>default_payment_next_month</th>\n",
       "    </tr>\n",
       "  </thead>\n",
       "  <tbody>\n",
       "    <tr>\n",
       "      <th>1982</th>\n",
       "      <td>240000.0</td>\n",
       "      <td>2</td>\n",
       "      <td>1</td>\n",
       "      <td>1</td>\n",
       "      <td>41.0</td>\n",
       "      <td>0.0</td>\n",
       "      <td>0.0</td>\n",
       "      <td>0.0</td>\n",
       "      <td>2.0</td>\n",
       "      <td>3.0</td>\n",
       "      <td>3.0</td>\n",
       "      <td>102488.0</td>\n",
       "      <td>105785.0</td>\n",
       "      <td>109082.0</td>\n",
       "      <td>119221.0</td>\n",
       "      <td>118144.0</td>\n",
       "      <td>118029.0</td>\n",
       "      <td>6500.0</td>\n",
       "      <td>6500.0</td>\n",
       "      <td>13500.0</td>\n",
       "      <td>2300.0</td>\n",
       "      <td>2002.0</td>\n",
       "      <td>0.0</td>\n",
       "      <td>0</td>\n",
       "    </tr>\n",
       "    <tr>\n",
       "      <th>1983</th>\n",
       "      <td>320000.0</td>\n",
       "      <td>2</td>\n",
       "      <td>2</td>\n",
       "      <td>2</td>\n",
       "      <td>29.0</td>\n",
       "      <td>1.0</td>\n",
       "      <td>2.0</td>\n",
       "      <td>0.0</td>\n",
       "      <td>0.0</td>\n",
       "      <td>3.0</td>\n",
       "      <td>2.0</td>\n",
       "      <td>93070.0</td>\n",
       "      <td>90725.0</td>\n",
       "      <td>92697.0</td>\n",
       "      <td>106221.0</td>\n",
       "      <td>104313.0</td>\n",
       "      <td>103251.0</td>\n",
       "      <td>0.0</td>\n",
       "      <td>3500.0</td>\n",
       "      <td>15100.0</td>\n",
       "      <td>11.0</td>\n",
       "      <td>3129.0</td>\n",
       "      <td>11.0</td>\n",
       "      <td>1</td>\n",
       "    </tr>\n",
       "    <tr>\n",
       "      <th>1984</th>\n",
       "      <td>30000.0</td>\n",
       "      <td>1</td>\n",
       "      <td>2</td>\n",
       "      <td>2</td>\n",
       "      <td>41.0</td>\n",
       "      <td>-1.0</td>\n",
       "      <td>0.0</td>\n",
       "      <td>0.0</td>\n",
       "      <td>0.0</td>\n",
       "      <td>3.0</td>\n",
       "      <td>2.0</td>\n",
       "      <td>9736.0</td>\n",
       "      <td>10453.0</td>\n",
       "      <td>11771.0</td>\n",
       "      <td>13032.0</td>\n",
       "      <td>12538.0</td>\n",
       "      <td>12187.0</td>\n",
       "      <td>1182.0</td>\n",
       "      <td>1500.0</td>\n",
       "      <td>1761.0</td>\n",
       "      <td>0.0</td>\n",
       "      <td>0.0</td>\n",
       "      <td>1100.0</td>\n",
       "      <td>0</td>\n",
       "    </tr>\n",
       "    <tr>\n",
       "      <th>1985</th>\n",
       "      <td>80000.0</td>\n",
       "      <td>2</td>\n",
       "      <td>1</td>\n",
       "      <td>1</td>\n",
       "      <td>25.0</td>\n",
       "      <td>3.0</td>\n",
       "      <td>2.0</td>\n",
       "      <td>2.0</td>\n",
       "      <td>2.0</td>\n",
       "      <td>3.0</td>\n",
       "      <td>3.0</td>\n",
       "      <td>6269.0</td>\n",
       "      <td>7212.0</td>\n",
       "      <td>7246.0</td>\n",
       "      <td>8073.0</td>\n",
       "      <td>8349.0</td>\n",
       "      <td>8420.0</td>\n",
       "      <td>1200.0</td>\n",
       "      <td>300.0</td>\n",
       "      <td>1100.0</td>\n",
       "      <td>700.0</td>\n",
       "      <td>500.0</td>\n",
       "      <td>0.0</td>\n",
       "      <td>1</td>\n",
       "    </tr>\n",
       "    <tr>\n",
       "      <th>1986</th>\n",
       "      <td>20000.0</td>\n",
       "      <td>1</td>\n",
       "      <td>2</td>\n",
       "      <td>2</td>\n",
       "      <td>36.0</td>\n",
       "      <td>0.0</td>\n",
       "      <td>0.0</td>\n",
       "      <td>2.0</td>\n",
       "      <td>2.0</td>\n",
       "      <td>3.0</td>\n",
       "      <td>2.0</td>\n",
       "      <td>11423.0</td>\n",
       "      <td>13976.0</td>\n",
       "      <td>13455.0</td>\n",
       "      <td>15227.0</td>\n",
       "      <td>14699.0</td>\n",
       "      <td>14313.0</td>\n",
       "      <td>2749.0</td>\n",
       "      <td>0.0</td>\n",
       "      <td>2000.0</td>\n",
       "      <td>0.0</td>\n",
       "      <td>0.0</td>\n",
       "      <td>1230.0</td>\n",
       "      <td>0</td>\n",
       "    </tr>\n",
       "    <tr>\n",
       "      <th>1987</th>\n",
       "      <td>10000.0</td>\n",
       "      <td>2</td>\n",
       "      <td>2</td>\n",
       "      <td>2</td>\n",
       "      <td>46.0</td>\n",
       "      <td>0.0</td>\n",
       "      <td>0.0</td>\n",
       "      <td>2.0</td>\n",
       "      <td>2.0</td>\n",
       "      <td>3.0</td>\n",
       "      <td>2.0</td>\n",
       "      <td>2496.0</td>\n",
       "      <td>4245.0</td>\n",
       "      <td>4525.0</td>\n",
       "      <td>5450.0</td>\n",
       "      <td>5073.0</td>\n",
       "      <td>4843.0</td>\n",
       "      <td>1800.0</td>\n",
       "      <td>500.0</td>\n",
       "      <td>1000.0</td>\n",
       "      <td>0.0</td>\n",
       "      <td>0.0</td>\n",
       "      <td>800.0</td>\n",
       "      <td>1</td>\n",
       "    </tr>\n",
       "    <tr>\n",
       "      <th>1988</th>\n",
       "      <td>100000.0</td>\n",
       "      <td>1</td>\n",
       "      <td>2</td>\n",
       "      <td>1</td>\n",
       "      <td>44.0</td>\n",
       "      <td>2.0</td>\n",
       "      <td>2.0</td>\n",
       "      <td>2.0</td>\n",
       "      <td>2.0</td>\n",
       "      <td>3.0</td>\n",
       "      <td>2.0</td>\n",
       "      <td>59586.0</td>\n",
       "      <td>60842.0</td>\n",
       "      <td>61749.0</td>\n",
       "      <td>65130.0</td>\n",
       "      <td>63816.0</td>\n",
       "      <td>65011.0</td>\n",
       "      <td>2800.0</td>\n",
       "      <td>2500.0</td>\n",
       "      <td>5000.0</td>\n",
       "      <td>0.0</td>\n",
       "      <td>2400.0</td>\n",
       "      <td>2400.0</td>\n",
       "      <td>1</td>\n",
       "    </tr>\n",
       "    <tr>\n",
       "      <th>1989</th>\n",
       "      <td>20000.0</td>\n",
       "      <td>1</td>\n",
       "      <td>2</td>\n",
       "      <td>2</td>\n",
       "      <td>24.0</td>\n",
       "      <td>2.0</td>\n",
       "      <td>3.0</td>\n",
       "      <td>2.0</td>\n",
       "      <td>2.0</td>\n",
       "      <td>3.0</td>\n",
       "      <td>2.0</td>\n",
       "      <td>21034.0</td>\n",
       "      <td>19839.0</td>\n",
       "      <td>18663.0</td>\n",
       "      <td>20394.0</td>\n",
       "      <td>19228.0</td>\n",
       "      <td>19615.0</td>\n",
       "      <td>0.0</td>\n",
       "      <td>0.0</td>\n",
       "      <td>2616.0</td>\n",
       "      <td>0.0</td>\n",
       "      <td>1400.0</td>\n",
       "      <td>0.0</td>\n",
       "      <td>0</td>\n",
       "    </tr>\n",
       "    <tr>\n",
       "      <th>1990</th>\n",
       "      <td>130000.0</td>\n",
       "      <td>1</td>\n",
       "      <td>2</td>\n",
       "      <td>2</td>\n",
       "      <td>31.0</td>\n",
       "      <td>3.0</td>\n",
       "      <td>2.0</td>\n",
       "      <td>2.0</td>\n",
       "      <td>3.0</td>\n",
       "      <td>3.0</td>\n",
       "      <td>2.0</td>\n",
       "      <td>300.0</td>\n",
       "      <td>300.0</td>\n",
       "      <td>300.0</td>\n",
       "      <td>300.0</td>\n",
       "      <td>300.0</td>\n",
       "      <td>150.0</td>\n",
       "      <td>0.0</td>\n",
       "      <td>0.0</td>\n",
       "      <td>0.0</td>\n",
       "      <td>0.0</td>\n",
       "      <td>0.0</td>\n",
       "      <td>1000.0</td>\n",
       "      <td>1</td>\n",
       "    </tr>\n",
       "    <tr>\n",
       "      <th>1991</th>\n",
       "      <td>30000.0</td>\n",
       "      <td>1</td>\n",
       "      <td>2</td>\n",
       "      <td>2</td>\n",
       "      <td>30.0</td>\n",
       "      <td>1.0</td>\n",
       "      <td>3.0</td>\n",
       "      <td>2.0</td>\n",
       "      <td>2.0</td>\n",
       "      <td>3.0</td>\n",
       "      <td>2.0</td>\n",
       "      <td>25907.0</td>\n",
       "      <td>25209.0</td>\n",
       "      <td>24524.0</td>\n",
       "      <td>29397.0</td>\n",
       "      <td>28628.0</td>\n",
       "      <td>32009.0</td>\n",
       "      <td>0.0</td>\n",
       "      <td>0.0</td>\n",
       "      <td>5621.0</td>\n",
       "      <td>0.0</td>\n",
       "      <td>4000.0</td>\n",
       "      <td>1500.0</td>\n",
       "      <td>1</td>\n",
       "    </tr>\n",
       "  </tbody>\n",
       "</table>\n",
       "</div>"
      ],
      "text/plain": [
       "      limit_balance  sex  education_level  marital_status   age  pay_0  pay_2  \\\n",
       "1982       240000.0    2                1               1  41.0    0.0    0.0   \n",
       "1983       320000.0    2                2               2  29.0    1.0    2.0   \n",
       "1984        30000.0    1                2               2  41.0   -1.0    0.0   \n",
       "1985        80000.0    2                1               1  25.0    3.0    2.0   \n",
       "1986        20000.0    1                2               2  36.0    0.0    0.0   \n",
       "1987        10000.0    2                2               2  46.0    0.0    0.0   \n",
       "1988       100000.0    1                2               1  44.0    2.0    2.0   \n",
       "1989        20000.0    1                2               2  24.0    2.0    3.0   \n",
       "1990       130000.0    1                2               2  31.0    3.0    2.0   \n",
       "1991        30000.0    1                2               2  30.0    1.0    3.0   \n",
       "\n",
       "      pay_3  pay_4  pay_5  pay_6  bill_amt_1  bill_amt_2  bill_amt_3  \\\n",
       "1982    0.0    2.0    3.0    3.0    102488.0    105785.0    109082.0   \n",
       "1983    0.0    0.0    3.0    2.0     93070.0     90725.0     92697.0   \n",
       "1984    0.0    0.0    3.0    2.0      9736.0     10453.0     11771.0   \n",
       "1985    2.0    2.0    3.0    3.0      6269.0      7212.0      7246.0   \n",
       "1986    2.0    2.0    3.0    2.0     11423.0     13976.0     13455.0   \n",
       "1987    2.0    2.0    3.0    2.0      2496.0      4245.0      4525.0   \n",
       "1988    2.0    2.0    3.0    2.0     59586.0     60842.0     61749.0   \n",
       "1989    2.0    2.0    3.0    2.0     21034.0     19839.0     18663.0   \n",
       "1990    2.0    3.0    3.0    2.0       300.0       300.0       300.0   \n",
       "1991    2.0    2.0    3.0    2.0     25907.0     25209.0     24524.0   \n",
       "\n",
       "      bill_amt_4  bill_amt_5  bill_amt_6  pay_amt_1  pay_amt_2  pay_amt_3  \\\n",
       "1982    119221.0    118144.0    118029.0     6500.0     6500.0    13500.0   \n",
       "1983    106221.0    104313.0    103251.0        0.0     3500.0    15100.0   \n",
       "1984     13032.0     12538.0     12187.0     1182.0     1500.0     1761.0   \n",
       "1985      8073.0      8349.0      8420.0     1200.0      300.0     1100.0   \n",
       "1986     15227.0     14699.0     14313.0     2749.0        0.0     2000.0   \n",
       "1987      5450.0      5073.0      4843.0     1800.0      500.0     1000.0   \n",
       "1988     65130.0     63816.0     65011.0     2800.0     2500.0     5000.0   \n",
       "1989     20394.0     19228.0     19615.0        0.0        0.0     2616.0   \n",
       "1990       300.0       300.0       150.0        0.0        0.0        0.0   \n",
       "1991     29397.0     28628.0     32009.0        0.0        0.0     5621.0   \n",
       "\n",
       "      pay_amt_4  pay_amt_5  pay_amt_6  default_payment_next_month  \n",
       "1982     2300.0     2002.0        0.0                           0  \n",
       "1983       11.0     3129.0       11.0                           1  \n",
       "1984        0.0        0.0     1100.0                           0  \n",
       "1985      700.0      500.0        0.0                           1  \n",
       "1986        0.0        0.0     1230.0                           0  \n",
       "1987        0.0        0.0      800.0                           1  \n",
       "1988        0.0     2400.0     2400.0                           1  \n",
       "1989        0.0     1400.0        0.0                           0  \n",
       "1990        0.0        0.0     1000.0                           1  \n",
       "1991        0.0     4000.0     1500.0                           1  "
      ]
     },
     "execution_count": 1110,
     "metadata": {},
     "output_type": "execute_result"
    }
   ],
   "source": [
    "df.tail(10)"
   ]
  },
  {
   "cell_type": "markdown",
   "metadata": {},
   "source": [
    "Display the first 10 data and the last 10 data"
   ]
  },
  {
   "cell_type": "markdown",
   "metadata": {},
   "source": [
    "Description for each column :\n",
    "- `Sex` : 1=Male, 2=Female\n",
    "- `Education Level` : 1=Graduate School, 2=University, 3=High School, 4=Others, 5=Unknown, 6=Unknown\n",
    "- `Marital Status` : 1=Married, 2=Single, 3=Others\n",
    "- `Pay` : -2=Paid but Inactive, -1=Paid in full, 0=Pay minimum amount, 1=Payment Delay for 1 month, 2=Payment Delay for 2 month, . . . , 6=Payment Delay for 9 month"
   ]
  },
  {
   "cell_type": "code",
   "execution_count": 1111,
   "metadata": {},
   "outputs": [
    {
     "name": "stdout",
     "output_type": "stream",
     "text": [
      "<class 'pandas.core.frame.DataFrame'>\n",
      "RangeIndex: 1992 entries, 0 to 1991\n",
      "Data columns (total 24 columns):\n",
      " #   Column                      Non-Null Count  Dtype  \n",
      "---  ------                      --------------  -----  \n",
      " 0   limit_balance               1992 non-null   float64\n",
      " 1   sex                         1992 non-null   int64  \n",
      " 2   education_level             1992 non-null   int64  \n",
      " 3   marital_status              1992 non-null   int64  \n",
      " 4   age                         1992 non-null   float64\n",
      " 5   pay_0                       1992 non-null   float64\n",
      " 6   pay_2                       1992 non-null   float64\n",
      " 7   pay_3                       1992 non-null   float64\n",
      " 8   pay_4                       1992 non-null   float64\n",
      " 9   pay_5                       1992 non-null   float64\n",
      " 10  pay_6                       1992 non-null   float64\n",
      " 11  bill_amt_1                  1992 non-null   float64\n",
      " 12  bill_amt_2                  1992 non-null   float64\n",
      " 13  bill_amt_3                  1992 non-null   float64\n",
      " 14  bill_amt_4                  1992 non-null   float64\n",
      " 15  bill_amt_5                  1992 non-null   float64\n",
      " 16  bill_amt_6                  1992 non-null   float64\n",
      " 17  pay_amt_1                   1992 non-null   float64\n",
      " 18  pay_amt_2                   1992 non-null   float64\n",
      " 19  pay_amt_3                   1992 non-null   float64\n",
      " 20  pay_amt_4                   1992 non-null   float64\n",
      " 21  pay_amt_5                   1992 non-null   float64\n",
      " 22  pay_amt_6                   1992 non-null   float64\n",
      " 23  default_payment_next_month  1992 non-null   int64  \n",
      "dtypes: float64(20), int64(4)\n",
      "memory usage: 373.6 KB\n"
     ]
    }
   ],
   "source": [
    "df.info()"
   ]
  },
  {
   "cell_type": "code",
   "execution_count": 1112,
   "metadata": {},
   "outputs": [
    {
     "data": {
      "text/html": [
       "<div>\n",
       "<style scoped>\n",
       "    .dataframe tbody tr th:only-of-type {\n",
       "        vertical-align: middle;\n",
       "    }\n",
       "\n",
       "    .dataframe tbody tr th {\n",
       "        vertical-align: top;\n",
       "    }\n",
       "\n",
       "    .dataframe thead th {\n",
       "        text-align: right;\n",
       "    }\n",
       "</style>\n",
       "<table border=\"1\" class=\"dataframe\">\n",
       "  <thead>\n",
       "    <tr style=\"text-align: right;\">\n",
       "      <th></th>\n",
       "      <th>limit_balance</th>\n",
       "      <th>sex</th>\n",
       "      <th>education_level</th>\n",
       "      <th>marital_status</th>\n",
       "      <th>age</th>\n",
       "      <th>pay_0</th>\n",
       "      <th>pay_2</th>\n",
       "      <th>pay_3</th>\n",
       "      <th>pay_4</th>\n",
       "      <th>pay_5</th>\n",
       "      <th>pay_6</th>\n",
       "      <th>bill_amt_1</th>\n",
       "      <th>bill_amt_2</th>\n",
       "      <th>bill_amt_3</th>\n",
       "      <th>bill_amt_4</th>\n",
       "      <th>bill_amt_5</th>\n",
       "      <th>bill_amt_6</th>\n",
       "      <th>pay_amt_1</th>\n",
       "      <th>pay_amt_2</th>\n",
       "      <th>pay_amt_3</th>\n",
       "      <th>pay_amt_4</th>\n",
       "      <th>pay_amt_5</th>\n",
       "      <th>pay_amt_6</th>\n",
       "      <th>default_payment_next_month</th>\n",
       "    </tr>\n",
       "  </thead>\n",
       "  <tbody>\n",
       "    <tr>\n",
       "      <th>count</th>\n",
       "      <td>1992.000000</td>\n",
       "      <td>1992.000000</td>\n",
       "      <td>1992.000000</td>\n",
       "      <td>1992.000000</td>\n",
       "      <td>1992.000000</td>\n",
       "      <td>1992.000000</td>\n",
       "      <td>1992.000000</td>\n",
       "      <td>1992.000000</td>\n",
       "      <td>1992.000000</td>\n",
       "      <td>1992.000000</td>\n",
       "      <td>1992.000000</td>\n",
       "      <td>1992.000000</td>\n",
       "      <td>1992.000000</td>\n",
       "      <td>1992.000000</td>\n",
       "      <td>1992.000000</td>\n",
       "      <td>1992.000000</td>\n",
       "      <td>1992.000000</td>\n",
       "      <td>1992.000000</td>\n",
       "      <td>1.992000e+03</td>\n",
       "      <td>1992.000000</td>\n",
       "      <td>1992.000000</td>\n",
       "      <td>1992.000000</td>\n",
       "      <td>1992.000000</td>\n",
       "      <td>1992.000000</td>\n",
       "    </tr>\n",
       "    <tr>\n",
       "      <th>mean</th>\n",
       "      <td>147429.718876</td>\n",
       "      <td>1.594880</td>\n",
       "      <td>1.902610</td>\n",
       "      <td>1.582831</td>\n",
       "      <td>34.642068</td>\n",
       "      <td>0.256024</td>\n",
       "      <td>0.251004</td>\n",
       "      <td>0.251004</td>\n",
       "      <td>0.248494</td>\n",
       "      <td>0.296185</td>\n",
       "      <td>0.176205</td>\n",
       "      <td>69521.157129</td>\n",
       "      <td>68598.183735</td>\n",
       "      <td>66350.431727</td>\n",
       "      <td>61828.153614</td>\n",
       "      <td>57099.735944</td>\n",
       "      <td>54759.527610</td>\n",
       "      <td>6778.048695</td>\n",
       "      <td>6.903594e+03</td>\n",
       "      <td>5651.228916</td>\n",
       "      <td>3824.274096</td>\n",
       "      <td>4630.805221</td>\n",
       "      <td>5141.704819</td>\n",
       "      <td>0.237952</td>\n",
       "    </tr>\n",
       "    <tr>\n",
       "      <th>std</th>\n",
       "      <td>123071.849507</td>\n",
       "      <td>0.491039</td>\n",
       "      <td>0.763661</td>\n",
       "      <td>0.519017</td>\n",
       "      <td>9.222998</td>\n",
       "      <td>0.893480</td>\n",
       "      <td>0.947782</td>\n",
       "      <td>0.888709</td>\n",
       "      <td>0.797408</td>\n",
       "      <td>0.721086</td>\n",
       "      <td>0.849602</td>\n",
       "      <td>76998.969894</td>\n",
       "      <td>75470.887202</td>\n",
       "      <td>72973.120126</td>\n",
       "      <td>65723.397462</td>\n",
       "      <td>62359.251508</td>\n",
       "      <td>61496.281138</td>\n",
       "      <td>22685.713071</td>\n",
       "      <td>3.348283e+04</td>\n",
       "      <td>15157.064893</td>\n",
       "      <td>9233.368231</td>\n",
       "      <td>15325.689807</td>\n",
       "      <td>13881.461447</td>\n",
       "      <td>0.425936</td>\n",
       "    </tr>\n",
       "    <tr>\n",
       "      <th>min</th>\n",
       "      <td>10000.000000</td>\n",
       "      <td>1.000000</td>\n",
       "      <td>1.000000</td>\n",
       "      <td>0.000000</td>\n",
       "      <td>21.000000</td>\n",
       "      <td>-2.000000</td>\n",
       "      <td>-2.000000</td>\n",
       "      <td>-2.000000</td>\n",
       "      <td>-1.000000</td>\n",
       "      <td>0.000000</td>\n",
       "      <td>-2.000000</td>\n",
       "      <td>-3309.000000</td>\n",
       "      <td>-67526.000000</td>\n",
       "      <td>-9850.000000</td>\n",
       "      <td>11.000000</td>\n",
       "      <td>-3000.000000</td>\n",
       "      <td>-73895.000000</td>\n",
       "      <td>0.000000</td>\n",
       "      <td>0.000000e+00</td>\n",
       "      <td>0.000000</td>\n",
       "      <td>0.000000</td>\n",
       "      <td>0.000000</td>\n",
       "      <td>0.000000</td>\n",
       "      <td>0.000000</td>\n",
       "    </tr>\n",
       "    <tr>\n",
       "      <th>25%</th>\n",
       "      <td>50000.000000</td>\n",
       "      <td>1.000000</td>\n",
       "      <td>1.000000</td>\n",
       "      <td>1.000000</td>\n",
       "      <td>27.000000</td>\n",
       "      <td>0.000000</td>\n",
       "      <td>0.000000</td>\n",
       "      <td>0.000000</td>\n",
       "      <td>0.000000</td>\n",
       "      <td>0.000000</td>\n",
       "      <td>0.000000</td>\n",
       "      <td>17613.750000</td>\n",
       "      <td>17688.000000</td>\n",
       "      <td>18252.500000</td>\n",
       "      <td>18205.500000</td>\n",
       "      <td>16668.000000</td>\n",
       "      <td>15014.500000</td>\n",
       "      <td>1562.750000</td>\n",
       "      <td>1.500000e+03</td>\n",
       "      <td>1100.000000</td>\n",
       "      <td>736.000000</td>\n",
       "      <td>924.750000</td>\n",
       "      <td>700.000000</td>\n",
       "      <td>0.000000</td>\n",
       "    </tr>\n",
       "    <tr>\n",
       "      <th>50%</th>\n",
       "      <td>110000.000000</td>\n",
       "      <td>2.000000</td>\n",
       "      <td>2.000000</td>\n",
       "      <td>2.000000</td>\n",
       "      <td>33.000000</td>\n",
       "      <td>0.000000</td>\n",
       "      <td>0.000000</td>\n",
       "      <td>0.000000</td>\n",
       "      <td>0.000000</td>\n",
       "      <td>0.000000</td>\n",
       "      <td>0.000000</td>\n",
       "      <td>45210.000000</td>\n",
       "      <td>44664.500000</td>\n",
       "      <td>42654.000000</td>\n",
       "      <td>38153.500000</td>\n",
       "      <td>31983.000000</td>\n",
       "      <td>30106.500000</td>\n",
       "      <td>2984.500000</td>\n",
       "      <td>2.736500e+03</td>\n",
       "      <td>2200.000000</td>\n",
       "      <td>2000.000000</td>\n",
       "      <td>2000.000000</td>\n",
       "      <td>2000.000000</td>\n",
       "      <td>0.000000</td>\n",
       "    </tr>\n",
       "    <tr>\n",
       "      <th>75%</th>\n",
       "      <td>210000.000000</td>\n",
       "      <td>2.000000</td>\n",
       "      <td>2.000000</td>\n",
       "      <td>2.000000</td>\n",
       "      <td>41.000000</td>\n",
       "      <td>0.000000</td>\n",
       "      <td>0.000000</td>\n",
       "      <td>0.000000</td>\n",
       "      <td>0.000000</td>\n",
       "      <td>0.000000</td>\n",
       "      <td>0.000000</td>\n",
       "      <td>94699.500000</td>\n",
       "      <td>93349.500000</td>\n",
       "      <td>89990.500000</td>\n",
       "      <td>85356.000000</td>\n",
       "      <td>79777.500000</td>\n",
       "      <td>76914.500000</td>\n",
       "      <td>5500.000000</td>\n",
       "      <td>5.200000e+03</td>\n",
       "      <td>5000.000000</td>\n",
       "      <td>4058.250000</td>\n",
       "      <td>4268.500000</td>\n",
       "      <td>4500.000000</td>\n",
       "      <td>0.000000</td>\n",
       "    </tr>\n",
       "    <tr>\n",
       "      <th>max</th>\n",
       "      <td>800000.000000</td>\n",
       "      <td>2.000000</td>\n",
       "      <td>6.000000</td>\n",
       "      <td>3.000000</td>\n",
       "      <td>69.000000</td>\n",
       "      <td>6.000000</td>\n",
       "      <td>5.000000</td>\n",
       "      <td>4.000000</td>\n",
       "      <td>3.000000</td>\n",
       "      <td>3.000000</td>\n",
       "      <td>4.000000</td>\n",
       "      <td>613860.000000</td>\n",
       "      <td>512526.000000</td>\n",
       "      <td>578971.000000</td>\n",
       "      <td>488808.000000</td>\n",
       "      <td>441981.000000</td>\n",
       "      <td>436172.000000</td>\n",
       "      <td>493358.000000</td>\n",
       "      <td>1.227082e+06</td>\n",
       "      <td>199209.000000</td>\n",
       "      <td>170039.000000</td>\n",
       "      <td>388071.000000</td>\n",
       "      <td>171574.000000</td>\n",
       "      <td>1.000000</td>\n",
       "    </tr>\n",
       "  </tbody>\n",
       "</table>\n",
       "</div>"
      ],
      "text/plain": [
       "       limit_balance          sex  education_level  marital_status  \\\n",
       "count    1992.000000  1992.000000      1992.000000     1992.000000   \n",
       "mean   147429.718876     1.594880         1.902610        1.582831   \n",
       "std    123071.849507     0.491039         0.763661        0.519017   \n",
       "min     10000.000000     1.000000         1.000000        0.000000   \n",
       "25%     50000.000000     1.000000         1.000000        1.000000   \n",
       "50%    110000.000000     2.000000         2.000000        2.000000   \n",
       "75%    210000.000000     2.000000         2.000000        2.000000   \n",
       "max    800000.000000     2.000000         6.000000        3.000000   \n",
       "\n",
       "               age        pay_0        pay_2        pay_3        pay_4  \\\n",
       "count  1992.000000  1992.000000  1992.000000  1992.000000  1992.000000   \n",
       "mean     34.642068     0.256024     0.251004     0.251004     0.248494   \n",
       "std       9.222998     0.893480     0.947782     0.888709     0.797408   \n",
       "min      21.000000    -2.000000    -2.000000    -2.000000    -1.000000   \n",
       "25%      27.000000     0.000000     0.000000     0.000000     0.000000   \n",
       "50%      33.000000     0.000000     0.000000     0.000000     0.000000   \n",
       "75%      41.000000     0.000000     0.000000     0.000000     0.000000   \n",
       "max      69.000000     6.000000     5.000000     4.000000     3.000000   \n",
       "\n",
       "             pay_5        pay_6     bill_amt_1     bill_amt_2     bill_amt_3  \\\n",
       "count  1992.000000  1992.000000    1992.000000    1992.000000    1992.000000   \n",
       "mean      0.296185     0.176205   69521.157129   68598.183735   66350.431727   \n",
       "std       0.721086     0.849602   76998.969894   75470.887202   72973.120126   \n",
       "min       0.000000    -2.000000   -3309.000000  -67526.000000   -9850.000000   \n",
       "25%       0.000000     0.000000   17613.750000   17688.000000   18252.500000   \n",
       "50%       0.000000     0.000000   45210.000000   44664.500000   42654.000000   \n",
       "75%       0.000000     0.000000   94699.500000   93349.500000   89990.500000   \n",
       "max       3.000000     4.000000  613860.000000  512526.000000  578971.000000   \n",
       "\n",
       "          bill_amt_4     bill_amt_5     bill_amt_6      pay_amt_1  \\\n",
       "count    1992.000000    1992.000000    1992.000000    1992.000000   \n",
       "mean    61828.153614   57099.735944   54759.527610    6778.048695   \n",
       "std     65723.397462   62359.251508   61496.281138   22685.713071   \n",
       "min        11.000000   -3000.000000  -73895.000000       0.000000   \n",
       "25%     18205.500000   16668.000000   15014.500000    1562.750000   \n",
       "50%     38153.500000   31983.000000   30106.500000    2984.500000   \n",
       "75%     85356.000000   79777.500000   76914.500000    5500.000000   \n",
       "max    488808.000000  441981.000000  436172.000000  493358.000000   \n",
       "\n",
       "          pay_amt_2      pay_amt_3      pay_amt_4      pay_amt_5  \\\n",
       "count  1.992000e+03    1992.000000    1992.000000    1992.000000   \n",
       "mean   6.903594e+03    5651.228916    3824.274096    4630.805221   \n",
       "std    3.348283e+04   15157.064893    9233.368231   15325.689807   \n",
       "min    0.000000e+00       0.000000       0.000000       0.000000   \n",
       "25%    1.500000e+03    1100.000000     736.000000     924.750000   \n",
       "50%    2.736500e+03    2200.000000    2000.000000    2000.000000   \n",
       "75%    5.200000e+03    5000.000000    4058.250000    4268.500000   \n",
       "max    1.227082e+06  199209.000000  170039.000000  388071.000000   \n",
       "\n",
       "           pay_amt_6  default_payment_next_month  \n",
       "count    1992.000000                 1992.000000  \n",
       "mean     5141.704819                    0.237952  \n",
       "std     13881.461447                    0.425936  \n",
       "min         0.000000                    0.000000  \n",
       "25%       700.000000                    0.000000  \n",
       "50%      2000.000000                    0.000000  \n",
       "75%      4500.000000                    0.000000  \n",
       "max    171574.000000                    1.000000  "
      ]
     },
     "execution_count": 1112,
     "metadata": {},
     "output_type": "execute_result"
    }
   ],
   "source": [
    "df.describe()"
   ]
  },
  {
   "cell_type": "code",
   "execution_count": 1113,
   "metadata": {},
   "outputs": [
    {
     "data": {
      "text/plain": [
       "Index(['limit_balance', 'sex', 'education_level', 'marital_status', 'age',\n",
       "       'pay_0', 'pay_2', 'pay_3', 'pay_4', 'pay_5', 'pay_6', 'bill_amt_1',\n",
       "       'bill_amt_2', 'bill_amt_3', 'bill_amt_4', 'bill_amt_5', 'bill_amt_6',\n",
       "       'pay_amt_1', 'pay_amt_2', 'pay_amt_3', 'pay_amt_4', 'pay_amt_5',\n",
       "       'pay_amt_6', 'default_payment_next_month'],\n",
       "      dtype='object')"
      ]
     },
     "execution_count": 1113,
     "metadata": {},
     "output_type": "execute_result"
    }
   ],
   "source": [
    "df.columns"
   ]
  },
  {
   "cell_type": "code",
   "execution_count": 1114,
   "metadata": {},
   "outputs": [
    {
     "data": {
      "text/plain": [
       "0"
      ]
     },
     "execution_count": 1114,
     "metadata": {},
     "output_type": "execute_result"
    }
   ],
   "source": [
    "# Check duplicated data\n",
    "df.duplicated().sum()"
   ]
  },
  {
   "cell_type": "markdown",
   "metadata": {},
   "source": [
    "Based on those calculation, there is no duplicate data found from the dataset."
   ]
  },
  {
   "cell_type": "code",
   "execution_count": 1115,
   "metadata": {},
   "outputs": [
    {
     "data": {
      "text/plain": [
       "limit_balance                 0\n",
       "sex                           0\n",
       "education_level               0\n",
       "marital_status                0\n",
       "age                           0\n",
       "pay_0                         0\n",
       "pay_2                         0\n",
       "pay_3                         0\n",
       "pay_4                         0\n",
       "pay_5                         0\n",
       "pay_6                         0\n",
       "bill_amt_1                    0\n",
       "bill_amt_2                    0\n",
       "bill_amt_3                    0\n",
       "bill_amt_4                    0\n",
       "bill_amt_5                    0\n",
       "bill_amt_6                    0\n",
       "pay_amt_1                     0\n",
       "pay_amt_2                     0\n",
       "pay_amt_3                     0\n",
       "pay_amt_4                     0\n",
       "pay_amt_5                     0\n",
       "pay_amt_6                     0\n",
       "default_payment_next_month    0\n",
       "dtype: int64"
      ]
     },
     "execution_count": 1115,
     "metadata": {},
     "output_type": "execute_result"
    }
   ],
   "source": [
    "df.isnull().sum()"
   ]
  },
  {
   "cell_type": "markdown",
   "metadata": {},
   "source": [
    "Based on those information, there is no missing value found from the dataset."
   ]
  },
  {
   "cell_type": "markdown",
   "metadata": {},
   "source": [
    "# 4 - Exploratory Data Analysis (EDA)"
   ]
  },
  {
   "cell_type": "code",
   "execution_count": 1116,
   "metadata": {},
   "outputs": [
    {
     "data": {
      "text/html": [
       "<div>\n",
       "<style scoped>\n",
       "    .dataframe tbody tr th:only-of-type {\n",
       "        vertical-align: middle;\n",
       "    }\n",
       "\n",
       "    .dataframe tbody tr th {\n",
       "        vertical-align: top;\n",
       "    }\n",
       "\n",
       "    .dataframe thead th {\n",
       "        text-align: right;\n",
       "    }\n",
       "</style>\n",
       "<table border=\"1\" class=\"dataframe\">\n",
       "  <thead>\n",
       "    <tr style=\"text-align: right;\">\n",
       "      <th></th>\n",
       "      <th>limit_balance</th>\n",
       "      <th>sex</th>\n",
       "      <th>education_level</th>\n",
       "      <th>marital_status</th>\n",
       "      <th>age</th>\n",
       "      <th>pay_0</th>\n",
       "      <th>pay_2</th>\n",
       "      <th>pay_3</th>\n",
       "      <th>pay_4</th>\n",
       "      <th>pay_5</th>\n",
       "      <th>pay_6</th>\n",
       "      <th>bill_amt_1</th>\n",
       "      <th>bill_amt_2</th>\n",
       "      <th>bill_amt_3</th>\n",
       "      <th>bill_amt_4</th>\n",
       "      <th>bill_amt_5</th>\n",
       "      <th>bill_amt_6</th>\n",
       "      <th>pay_amt_1</th>\n",
       "      <th>pay_amt_2</th>\n",
       "      <th>pay_amt_3</th>\n",
       "      <th>pay_amt_4</th>\n",
       "      <th>pay_amt_5</th>\n",
       "      <th>pay_amt_6</th>\n",
       "      <th>default_payment_next_month</th>\n",
       "    </tr>\n",
       "  </thead>\n",
       "  <tbody>\n",
       "    <tr>\n",
       "      <th>0</th>\n",
       "      <td>80000.0</td>\n",
       "      <td>1</td>\n",
       "      <td>6</td>\n",
       "      <td>1</td>\n",
       "      <td>54.0</td>\n",
       "      <td>0.0</td>\n",
       "      <td>0.0</td>\n",
       "      <td>0.0</td>\n",
       "      <td>0.0</td>\n",
       "      <td>0.0</td>\n",
       "      <td>0.0</td>\n",
       "      <td>61454.0</td>\n",
       "      <td>61808.0</td>\n",
       "      <td>62290.0</td>\n",
       "      <td>29296.0</td>\n",
       "      <td>26210.0</td>\n",
       "      <td>17643.0</td>\n",
       "      <td>2545.0</td>\n",
       "      <td>2208.0</td>\n",
       "      <td>1336.0</td>\n",
       "      <td>2232.0</td>\n",
       "      <td>542.0</td>\n",
       "      <td>348.0</td>\n",
       "      <td>1</td>\n",
       "    </tr>\n",
       "    <tr>\n",
       "      <th>1</th>\n",
       "      <td>200000.0</td>\n",
       "      <td>1</td>\n",
       "      <td>4</td>\n",
       "      <td>1</td>\n",
       "      <td>49.0</td>\n",
       "      <td>0.0</td>\n",
       "      <td>0.0</td>\n",
       "      <td>0.0</td>\n",
       "      <td>0.0</td>\n",
       "      <td>0.0</td>\n",
       "      <td>0.0</td>\n",
       "      <td>49221.0</td>\n",
       "      <td>49599.0</td>\n",
       "      <td>50942.0</td>\n",
       "      <td>50146.0</td>\n",
       "      <td>50235.0</td>\n",
       "      <td>48984.0</td>\n",
       "      <td>1689.0</td>\n",
       "      <td>2164.0</td>\n",
       "      <td>2500.0</td>\n",
       "      <td>3480.0</td>\n",
       "      <td>2500.0</td>\n",
       "      <td>3000.0</td>\n",
       "      <td>0</td>\n",
       "    </tr>\n",
       "    <tr>\n",
       "      <th>2</th>\n",
       "      <td>20000.0</td>\n",
       "      <td>2</td>\n",
       "      <td>6</td>\n",
       "      <td>2</td>\n",
       "      <td>22.0</td>\n",
       "      <td>0.0</td>\n",
       "      <td>0.0</td>\n",
       "      <td>0.0</td>\n",
       "      <td>0.0</td>\n",
       "      <td>0.0</td>\n",
       "      <td>0.0</td>\n",
       "      <td>19568.0</td>\n",
       "      <td>19420.0</td>\n",
       "      <td>15535.0</td>\n",
       "      <td>1434.0</td>\n",
       "      <td>500.0</td>\n",
       "      <td>0.0</td>\n",
       "      <td>4641.0</td>\n",
       "      <td>1019.0</td>\n",
       "      <td>900.0</td>\n",
       "      <td>0.0</td>\n",
       "      <td>1500.0</td>\n",
       "      <td>0.0</td>\n",
       "      <td>1</td>\n",
       "    </tr>\n",
       "    <tr>\n",
       "      <th>3</th>\n",
       "      <td>260000.0</td>\n",
       "      <td>2</td>\n",
       "      <td>4</td>\n",
       "      <td>2</td>\n",
       "      <td>33.0</td>\n",
       "      <td>0.0</td>\n",
       "      <td>0.0</td>\n",
       "      <td>0.0</td>\n",
       "      <td>0.0</td>\n",
       "      <td>0.0</td>\n",
       "      <td>0.0</td>\n",
       "      <td>18457.0</td>\n",
       "      <td>22815.0</td>\n",
       "      <td>27086.0</td>\n",
       "      <td>27821.0</td>\n",
       "      <td>30767.0</td>\n",
       "      <td>29890.0</td>\n",
       "      <td>5000.0</td>\n",
       "      <td>5000.0</td>\n",
       "      <td>1137.0</td>\n",
       "      <td>5000.0</td>\n",
       "      <td>1085.0</td>\n",
       "      <td>5000.0</td>\n",
       "      <td>0</td>\n",
       "    </tr>\n",
       "    <tr>\n",
       "      <th>4</th>\n",
       "      <td>150000.0</td>\n",
       "      <td>1</td>\n",
       "      <td>4</td>\n",
       "      <td>2</td>\n",
       "      <td>32.0</td>\n",
       "      <td>0.0</td>\n",
       "      <td>0.0</td>\n",
       "      <td>0.0</td>\n",
       "      <td>-1.0</td>\n",
       "      <td>0.0</td>\n",
       "      <td>0.0</td>\n",
       "      <td>159919.0</td>\n",
       "      <td>68686.0</td>\n",
       "      <td>161192.0</td>\n",
       "      <td>150464.0</td>\n",
       "      <td>143375.0</td>\n",
       "      <td>146411.0</td>\n",
       "      <td>4019.0</td>\n",
       "      <td>146896.0</td>\n",
       "      <td>157436.0</td>\n",
       "      <td>4600.0</td>\n",
       "      <td>4709.0</td>\n",
       "      <td>5600.0</td>\n",
       "      <td>0</td>\n",
       "    </tr>\n",
       "  </tbody>\n",
       "</table>\n",
       "</div>"
      ],
      "text/plain": [
       "   limit_balance  sex  education_level  marital_status   age  pay_0  pay_2  \\\n",
       "0        80000.0    1                6               1  54.0    0.0    0.0   \n",
       "1       200000.0    1                4               1  49.0    0.0    0.0   \n",
       "2        20000.0    2                6               2  22.0    0.0    0.0   \n",
       "3       260000.0    2                4               2  33.0    0.0    0.0   \n",
       "4       150000.0    1                4               2  32.0    0.0    0.0   \n",
       "\n",
       "   pay_3  pay_4  pay_5  pay_6  bill_amt_1  bill_amt_2  bill_amt_3  bill_amt_4  \\\n",
       "0    0.0    0.0    0.0    0.0     61454.0     61808.0     62290.0     29296.0   \n",
       "1    0.0    0.0    0.0    0.0     49221.0     49599.0     50942.0     50146.0   \n",
       "2    0.0    0.0    0.0    0.0     19568.0     19420.0     15535.0      1434.0   \n",
       "3    0.0    0.0    0.0    0.0     18457.0     22815.0     27086.0     27821.0   \n",
       "4    0.0   -1.0    0.0    0.0    159919.0     68686.0    161192.0    150464.0   \n",
       "\n",
       "   bill_amt_5  bill_amt_6  pay_amt_1  pay_amt_2  pay_amt_3  pay_amt_4  \\\n",
       "0     26210.0     17643.0     2545.0     2208.0     1336.0     2232.0   \n",
       "1     50235.0     48984.0     1689.0     2164.0     2500.0     3480.0   \n",
       "2       500.0         0.0     4641.0     1019.0      900.0        0.0   \n",
       "3     30767.0     29890.0     5000.0     5000.0     1137.0     5000.0   \n",
       "4    143375.0    146411.0     4019.0   146896.0   157436.0     4600.0   \n",
       "\n",
       "   pay_amt_5  pay_amt_6  default_payment_next_month  \n",
       "0      542.0      348.0                           1  \n",
       "1     2500.0     3000.0                           0  \n",
       "2     1500.0        0.0                           1  \n",
       "3     1085.0     5000.0                           0  \n",
       "4     4709.0     5600.0                           0  "
      ]
     },
     "execution_count": 1116,
     "metadata": {},
     "output_type": "execute_result"
    }
   ],
   "source": [
    "df.head()"
   ]
  },
  {
   "cell_type": "markdown",
   "metadata": {},
   "source": [
    "## 4.1 - Numerical Column"
   ]
  },
  {
   "cell_type": "code",
   "execution_count": 1117,
   "metadata": {},
   "outputs": [],
   "source": [
    "def exploreNumCol(df,  col):\n",
    "    mean = df[col].mean()\n",
    "    median = df[col].median()\n",
    "    modus = df[col].mode().values[0]\n",
    "\n",
    "    min = df[col].min()\n",
    "    max = df[col].max()\n",
    "\n",
    "    print(f'Mean {col} = {mean:.2f}')\n",
    "    print(f'Median {col} = {median}')\n",
    "    print(f'Modus {col} = {modus}')\n",
    "    print(f'Min {col} = {min}')\n",
    "    print(f'Max {col} = {max}')\n",
    "\n",
    "    skew = df[col].skew()\n",
    "    if skew < 0.5:\n",
    "        print(f'Skewness {col} = {skew}, data distribution is normal')\n",
    "    else:\n",
    "        print(f'Skewness {col} = {skew}, data distribution is not normal')"
   ]
  },
  {
   "cell_type": "code",
   "execution_count": 1118,
   "metadata": {},
   "outputs": [
    {
     "name": "stdout",
     "output_type": "stream",
     "text": [
      "Mean age = 34.64\n",
      "Median age = 33.0\n",
      "Modus age = 27.0\n",
      "Min age = 21.0\n",
      "Max age = 69.0\n",
      "Skewness age = 0.8297977986849201, data distribution is not normal\n"
     ]
    }
   ],
   "source": [
    "exploreNumCol(df, 'age')"
   ]
  },
  {
   "cell_type": "code",
   "execution_count": 1119,
   "metadata": {},
   "outputs": [
    {
     "data": {
      "text/plain": [
       "[Text(0.5, 1.0, 'Age')]"
      ]
     },
     "execution_count": 1119,
     "metadata": {},
     "output_type": "execute_result"
    },
    {
     "data": {
      "image/png": "[encoded data removed]",
      "text/plain": [
       "<Figure size 640x480 with 1 Axes>"
      ]
     },
     "metadata": {},
     "output_type": "display_data"
    }
   ],
   "source": [
    "sns.histplot(df['age'], bins=20, kde=True).set(title='Age')"
   ]
  },
  {
   "cell_type": "markdown",
   "metadata": {},
   "source": [
    "Based on skewness calculation, column _age_ skewness is 0.83 which is skew positive, meaning the data distribution is not normal."
   ]
  },
  {
   "cell_type": "code",
   "execution_count": 1120,
   "metadata": {},
   "outputs": [
    {
     "name": "stdout",
     "output_type": "stream",
     "text": [
      "Mean limit_balance = 147429.72\n",
      "Median limit_balance = 110000.0\n",
      "Modus limit_balance = 50000.0\n",
      "Min limit_balance = 10000.0\n",
      "Max limit_balance = 800000.0\n",
      "Skewness limit_balance = 1.2787334518886846, data distribution is not normal\n"
     ]
    }
   ],
   "source": [
    "exploreNumCol(df, 'limit_balance')"
   ]
  },
  {
   "cell_type": "code",
   "execution_count": 1121,
   "metadata": {},
   "outputs": [
    {
     "data": {
      "text/plain": [
       "[Text(0.5, 1.0, 'limit_balance')]"
      ]
     },
     "execution_count": 1121,
     "metadata": {},
     "output_type": "execute_result"
    },
    {
     "data": {
      "image/png": "[encoded data removed]",
      "text/plain": [
       "<Figure size 640x480 with 1 Axes>"
      ]
     },
     "metadata": {},
     "output_type": "display_data"
    }
   ],
   "source": [
    "sns.histplot(df['limit_balance'], bins=20, kde=True).set(title='limit_balance')"
   ]
  },
  {
   "cell_type": "markdown",
   "metadata": {},
   "source": [
    "Based on skewness calculation, column _limit\\_balance_ skewness is 1.27 which is skew positive, meaning the data distribution is not normal."
   ]
  },
  {
   "cell_type": "code",
   "execution_count": 1122,
   "metadata": {},
   "outputs": [
    {
     "data": {
      "text/html": [
       "<div>\n",
       "<style scoped>\n",
       "    .dataframe tbody tr th:only-of-type {\n",
       "        vertical-align: middle;\n",
       "    }\n",
       "\n",
       "    .dataframe tbody tr th {\n",
       "        vertical-align: top;\n",
       "    }\n",
       "\n",
       "    .dataframe thead th {\n",
       "        text-align: right;\n",
       "    }\n",
       "</style>\n",
       "<table border=\"1\" class=\"dataframe\">\n",
       "  <thead>\n",
       "    <tr style=\"text-align: right;\">\n",
       "      <th></th>\n",
       "      <th>bill_amt</th>\n",
       "      <th>pay_amt</th>\n",
       "    </tr>\n",
       "  </thead>\n",
       "  <tbody>\n",
       "    <tr>\n",
       "      <th>0</th>\n",
       "      <td>69521.157129</td>\n",
       "      <td>6778.048695</td>\n",
       "    </tr>\n",
       "    <tr>\n",
       "      <th>1</th>\n",
       "      <td>68598.183735</td>\n",
       "      <td>6903.594378</td>\n",
       "    </tr>\n",
       "    <tr>\n",
       "      <th>2</th>\n",
       "      <td>66350.431727</td>\n",
       "      <td>5651.228916</td>\n",
       "    </tr>\n",
       "    <tr>\n",
       "      <th>3</th>\n",
       "      <td>61828.153614</td>\n",
       "      <td>3824.274096</td>\n",
       "    </tr>\n",
       "    <tr>\n",
       "      <th>4</th>\n",
       "      <td>57099.735944</td>\n",
       "      <td>4630.805221</td>\n",
       "    </tr>\n",
       "    <tr>\n",
       "      <th>5</th>\n",
       "      <td>54759.527610</td>\n",
       "      <td>5141.704819</td>\n",
       "    </tr>\n",
       "  </tbody>\n",
       "</table>\n",
       "</div>"
      ],
      "text/plain": [
       "       bill_amt      pay_amt\n",
       "0  69521.157129  6778.048695\n",
       "1  68598.183735  6903.594378\n",
       "2  66350.431727  5651.228916\n",
       "3  61828.153614  3824.274096\n",
       "4  57099.735944  4630.805221\n",
       "5  54759.527610  5141.704819"
      ]
     },
     "execution_count": 1122,
     "metadata": {},
     "output_type": "execute_result"
    }
   ],
   "source": [
    "df_amt = pd.DataFrame()\n",
    "bill_amt = []\n",
    "pay_amt = []\n",
    "for i in range(1, 7):\n",
    "    bill_amt.append(df['bill_amt_' + str(i)].mean())\n",
    "    pay_amt.append(df['pay_amt_' + str(i)].mean())\n",
    "df_amt['bill_amt'] = bill_amt\n",
    "df_amt['pay_amt'] = pay_amt\n",
    "df_amt"
   ]
  },
  {
   "cell_type": "code",
   "execution_count": 1123,
   "metadata": {},
   "outputs": [],
   "source": [
    "# df_amt = pd.DataFrame(columns=['month', 'bill_type', 'amount'])\n",
    "# for i in range(1, 7):\n",
    "#     df_amt.loc[len(df_amt)] = [i, 'Bill Amount', df['bill_amt_' + str(i)].mean()]\n",
    "#     df_amt.loc[len(df_amt)] = [i, 'Payment Amount', df['pay_amt_' + str(i)].mean()]\n",
    "# df_amt"
   ]
  },
  {
   "cell_type": "code",
   "execution_count": 1124,
   "metadata": {},
   "outputs": [
    {
     "data": {
      "text/plain": [
       "Text(0.5, 1.0, 'Payment')"
      ]
     },
     "execution_count": 1124,
     "metadata": {},
     "output_type": "execute_result"
    },
    {
     "data": {
      "image/png": "[encoded data removed]",
      "text/plain": [
       "<Figure size 1000x500 with 2 Axes>"
      ]
     },
     "metadata": {},
     "output_type": "display_data"
    }
   ],
   "source": [
    "fig, ax = plt.subplots(ncols=2, figsize=(10, 5))\n",
    "axis_label = sns.barplot(ax=ax[0], data=df_amt, x=df_amt['bill_amt'].index, y=bill_amt, orient='v')\n",
    "ax[0].set_title('Bill Statement')\n",
    "# axis_label.bar_label(axis_label.containers[0])\n",
    "\n",
    "axis_label = sns.barplot(ax=ax[1], data=df_amt, x=df_amt['pay_amt'].index, y=pay_amt, orient='v')\n",
    "ax[1].set_title('Payment')\n",
    "# axis_label.bar_label(axis_label.containers[0])"
   ]
  },
  {
   "cell_type": "markdown",
   "metadata": {},
   "source": [
    "Average amount of bill statement is decrease every month, showing people using their credit card less during this period."
   ]
  },
  {
   "cell_type": "markdown",
   "metadata": {},
   "source": [
    "## 4.2 - Categorical Column"
   ]
  },
  {
   "cell_type": "markdown",
   "metadata": {},
   "source": [
    "### 4.2.1 - Nominal"
   ]
  },
  {
   "cell_type": "code",
   "execution_count": 1125,
   "metadata": {},
   "outputs": [],
   "source": [
    "df.rename(columns={\"pay_0\": \"pay_1\", \"default_payment_next_month\": \"def_pay\"}, inplace=True)"
   ]
  },
  {
   "cell_type": "markdown",
   "metadata": {},
   "source": [
    "Renaming pay_0 to pay_1 to fit the name with bill_amt1 column and pay_amt1 column. Also renaming default_payment_next_month to def_pay to make it easy to type and read."
   ]
  },
  {
   "cell_type": "code",
   "execution_count": 1126,
   "metadata": {},
   "outputs": [],
   "source": [
    "def sns_barplot(groupby_column, label):\n",
    "    df_barplot = df.groupby(groupby_column).size().reset_index(name='counts')\n",
    "    ax = sns.barplot(data=df_barplot, x=groupby_column, y='counts', orient='v')\n",
    "    ax.bar_label(ax.containers[0]) if label == True else None\n",
    "    ax.set(title=f'Count of {groupby_column}')\n",
    "    plt.show()"
   ]
  },
  {
   "cell_type": "code",
   "execution_count": 1127,
   "metadata": {},
   "outputs": [
    {
     "data": {
      "image/png": "[encoded data removed]",
      "text/plain": [
       "<Figure size 640x480 with 1 Axes>"
      ]
     },
     "metadata": {},
     "output_type": "display_data"
    }
   ],
   "source": [
    "sns_barplot('education_level', True)"
   ]
  },
  {
   "cell_type": "markdown",
   "metadata": {},
   "source": [
    "There is 6 category of education level with 5 and 6 as 'Unknown'. Let's assume this as 'Other' education level category which is number 4."
   ]
  },
  {
   "cell_type": "code",
   "execution_count": 1128,
   "metadata": {},
   "outputs": [
    {
     "data": {
      "text/plain": [
       "education_level\n",
       "2    1011\n",
       "1     612\n",
       "3     343\n",
       "4      26\n",
       "Name: count, dtype: int64"
      ]
     },
     "execution_count": 1128,
     "metadata": {},
     "output_type": "execute_result"
    }
   ],
   "source": [
    "# df = df[df['education_level'] < 5]\n",
    "df['education_level'].replace({5: 4, 6: 4}, inplace=True)\n",
    "df['education_level'].value_counts()"
   ]
  },
  {
   "cell_type": "markdown",
   "metadata": {},
   "source": [
    "Education Level 5 and 6 successfully replaced with 4."
   ]
  },
  {
   "cell_type": "code",
   "execution_count": 1129,
   "metadata": {},
   "outputs": [
    {
     "data": {
      "image/png": "[encoded data removed]",
      "text/plain": [
       "<Figure size 640x480 with 1 Axes>"
      ]
     },
     "metadata": {},
     "output_type": "display_data"
    }
   ],
   "source": [
    "sns_barplot('marital_status', True)"
   ]
  },
  {
   "cell_type": "markdown",
   "metadata": {},
   "source": [
    "There is 3 category of marital status 1 is married, 2 is single and 3 is others. We don't have any information about 0, so let's assume 0 as 'Others'."
   ]
  },
  {
   "cell_type": "code",
   "execution_count": 1130,
   "metadata": {},
   "outputs": [
    {
     "data": {
      "text/plain": [
       "marital_status\n",
       "2    1115\n",
       "1     851\n",
       "3      26\n",
       "Name: count, dtype: int64"
      ]
     },
     "execution_count": 1130,
     "metadata": {},
     "output_type": "execute_result"
    }
   ],
   "source": [
    "df['marital_status'].replace({0: 3}, inplace=True)\n",
    "df['marital_status'].value_counts()"
   ]
  },
  {
   "cell_type": "markdown",
   "metadata": {},
   "source": [
    "Marital status 0 successfully replaced with 3 and will be considered as 'Others'."
   ]
  },
  {
   "cell_type": "code",
   "execution_count": 1131,
   "metadata": {},
   "outputs": [
    {
     "data": {
      "image/png": "[encoded data removed]",
      "text/plain": [
       "<Figure size 640x480 with 1 Axes>"
      ]
     },
     "metadata": {},
     "output_type": "display_data"
    }
   ],
   "source": [
    "sns_barplot('sex', True)"
   ]
  },
  {
   "cell_type": "markdown",
   "metadata": {},
   "source": [
    "Gender data is fine, 1 is male and 2 is female. Already good, we don't touch it."
   ]
  },
  {
   "cell_type": "markdown",
   "metadata": {},
   "source": [
    "### 4.2.2 - Ordinal"
   ]
  },
  {
   "cell_type": "code",
   "execution_count": 1132,
   "metadata": {},
   "outputs": [
    {
     "data": {
      "text/plain": [
       "array([ 0.,  2.,  1., -1., -2.,  3.,  4.,  5.,  6.])"
      ]
     },
     "execution_count": 1132,
     "metadata": {},
     "output_type": "execute_result"
    }
   ],
   "source": [
    "df['pay_1'].unique()"
   ]
  },
  {
   "cell_type": "code",
   "execution_count": 1133,
   "metadata": {},
   "outputs": [
    {
     "data": {
      "text/plain": [
       "pay_1\n",
       " 0.0    1345\n",
       " 2.0     223\n",
       " 1.0     193\n",
       "-1.0     176\n",
       "-2.0      26\n",
       " 3.0      21\n",
       " 4.0       5\n",
       " 5.0       2\n",
       " 6.0       1\n",
       "Name: count, dtype: int64"
      ]
     },
     "execution_count": 1133,
     "metadata": {},
     "output_type": "execute_result"
    }
   ],
   "source": [
    "df['pay_1'].value_counts()"
   ]
  },
  {
   "cell_type": "code",
   "execution_count": 1134,
   "metadata": {},
   "outputs": [],
   "source": [
    "def countMultiBarplot(groupby_column, ax, row, col):\n",
    "    df_barplot = df.groupby(groupby_column).size().reset_index(name='counts')\n",
    "    sns.barplot(ax=ax[row, col], data=df_barplot, x=groupby_column, y='counts', orient='v')\n",
    "    # ax[row, col].set_title(groupby_column)"
   ]
  },
  {
   "cell_type": "code",
   "execution_count": 1135,
   "metadata": {},
   "outputs": [
    {
     "data": {
      "image/png": "[encoded data removed]",
      "text/plain": [
       "<Figure size 1500x1000 with 6 Axes>"
      ]
     },
     "metadata": {},
     "output_type": "display_data"
    }
   ],
   "source": [
    "col = 3\n",
    "row = 2\n",
    "pay = 1\n",
    "fig, ax = plt.subplots(ncols=col, nrows=row, figsize=(15, 10))\n",
    "for i in range (0, row):\n",
    "    for j in range (0, col):\n",
    "        countMultiBarplot('pay_'+str(pay), ax, i, j)\n",
    "        pay+=1"
   ]
  },
  {
   "cell_type": "markdown",
   "metadata": {},
   "source": [
    "As we can see from the chart, in all six months most people only paid the minimum amount of their bill."
   ]
  },
  {
   "cell_type": "markdown",
   "metadata": {},
   "source": [
    "## 4.3 - Feature Creation"
   ]
  },
  {
   "cell_type": "code",
   "execution_count": 1136,
   "metadata": {},
   "outputs": [],
   "source": [
    "def ageCat(row):\n",
    "   if row['age'] < 16:\n",
    "      return 'Children'\n",
    "   elif row['age'] < 31:\n",
    "      return 'Young Adult'\n",
    "   elif row['age'] < 41:\n",
    "      return 'Adult'\n",
    "   elif row['age'] < 51:\n",
    "      return 'Middle Age'\n",
    "   else:\n",
    "      return 'Old Age'"
   ]
  },
  {
   "cell_type": "code",
   "execution_count": 1137,
   "metadata": {},
   "outputs": [],
   "source": [
    "df['age_cat'] = df.apply(lambda row: ageCat(row), axis=1)"
   ]
  },
  {
   "cell_type": "markdown",
   "metadata": {},
   "source": [
    "Create a new column `age_cat` to categorize age to minimalize its unique number from 48 to 5."
   ]
  },
  {
   "cell_type": "markdown",
   "metadata": {},
   "source": [
    "# 5 - Feature Engineering"
   ]
  },
  {
   "cell_type": "markdown",
   "metadata": {},
   "source": [
    "## 5.1 - Feature Selection"
   ]
  },
  {
   "cell_type": "markdown",
   "metadata": {},
   "source": [
    "Based on EDA on point 4, we decided to use all the column on the dataset to create the Model. But replace `age` column with `age_cat` to minimalize unique values."
   ]
  },
  {
   "cell_type": "code",
   "execution_count": 1138,
   "metadata": {},
   "outputs": [
    {
     "data": {
      "text/plain": [
       "Index(['limit_balance', 'sex', 'education_level', 'marital_status', 'age',\n",
       "       'pay_1', 'pay_2', 'pay_3', 'pay_4', 'pay_5', 'pay_6', 'bill_amt_1',\n",
       "       'bill_amt_2', 'bill_amt_3', 'bill_amt_4', 'bill_amt_5', 'bill_amt_6',\n",
       "       'pay_amt_1', 'pay_amt_2', 'pay_amt_3', 'pay_amt_4', 'pay_amt_5',\n",
       "       'pay_amt_6', 'def_pay', 'age_cat'],\n",
       "      dtype='object')"
      ]
     },
     "execution_count": 1138,
     "metadata": {},
     "output_type": "execute_result"
    }
   ],
   "source": [
    "df.columns"
   ]
  },
  {
   "cell_type": "code",
   "execution_count": 1139,
   "metadata": {},
   "outputs": [
    {
     "data": {
      "text/html": [
       "<div>\n",
       "<style scoped>\n",
       "    .dataframe tbody tr th:only-of-type {\n",
       "        vertical-align: middle;\n",
       "    }\n",
       "\n",
       "    .dataframe tbody tr th {\n",
       "        vertical-align: top;\n",
       "    }\n",
       "\n",
       "    .dataframe thead th {\n",
       "        text-align: right;\n",
       "    }\n",
       "</style>\n",
       "<table border=\"1\" class=\"dataframe\">\n",
       "  <thead>\n",
       "    <tr style=\"text-align: right;\">\n",
       "      <th></th>\n",
       "      <th>limit_balance</th>\n",
       "      <th>sex</th>\n",
       "      <th>education_level</th>\n",
       "      <th>marital_status</th>\n",
       "      <th>pay_1</th>\n",
       "      <th>pay_2</th>\n",
       "      <th>pay_3</th>\n",
       "      <th>pay_4</th>\n",
       "      <th>pay_5</th>\n",
       "      <th>pay_6</th>\n",
       "      <th>bill_amt_1</th>\n",
       "      <th>bill_amt_2</th>\n",
       "      <th>bill_amt_3</th>\n",
       "      <th>bill_amt_4</th>\n",
       "      <th>bill_amt_5</th>\n",
       "      <th>bill_amt_6</th>\n",
       "      <th>pay_amt_1</th>\n",
       "      <th>pay_amt_2</th>\n",
       "      <th>pay_amt_3</th>\n",
       "      <th>pay_amt_4</th>\n",
       "      <th>pay_amt_5</th>\n",
       "      <th>pay_amt_6</th>\n",
       "      <th>def_pay</th>\n",
       "      <th>age_cat</th>\n",
       "    </tr>\n",
       "  </thead>\n",
       "  <tbody>\n",
       "    <tr>\n",
       "      <th>0</th>\n",
       "      <td>80000.0</td>\n",
       "      <td>1</td>\n",
       "      <td>4</td>\n",
       "      <td>1</td>\n",
       "      <td>0.0</td>\n",
       "      <td>0.0</td>\n",
       "      <td>0.0</td>\n",
       "      <td>0.0</td>\n",
       "      <td>0.0</td>\n",
       "      <td>0.0</td>\n",
       "      <td>61454.0</td>\n",
       "      <td>61808.0</td>\n",
       "      <td>62290.0</td>\n",
       "      <td>29296.0</td>\n",
       "      <td>26210.0</td>\n",
       "      <td>17643.0</td>\n",
       "      <td>2545.0</td>\n",
       "      <td>2208.0</td>\n",
       "      <td>1336.0</td>\n",
       "      <td>2232.0</td>\n",
       "      <td>542.0</td>\n",
       "      <td>348.0</td>\n",
       "      <td>1</td>\n",
       "      <td>Old Age</td>\n",
       "    </tr>\n",
       "    <tr>\n",
       "      <th>1</th>\n",
       "      <td>200000.0</td>\n",
       "      <td>1</td>\n",
       "      <td>4</td>\n",
       "      <td>1</td>\n",
       "      <td>0.0</td>\n",
       "      <td>0.0</td>\n",
       "      <td>0.0</td>\n",
       "      <td>0.0</td>\n",
       "      <td>0.0</td>\n",
       "      <td>0.0</td>\n",
       "      <td>49221.0</td>\n",
       "      <td>49599.0</td>\n",
       "      <td>50942.0</td>\n",
       "      <td>50146.0</td>\n",
       "      <td>50235.0</td>\n",
       "      <td>48984.0</td>\n",
       "      <td>1689.0</td>\n",
       "      <td>2164.0</td>\n",
       "      <td>2500.0</td>\n",
       "      <td>3480.0</td>\n",
       "      <td>2500.0</td>\n",
       "      <td>3000.0</td>\n",
       "      <td>0</td>\n",
       "      <td>Middle Age</td>\n",
       "    </tr>\n",
       "    <tr>\n",
       "      <th>2</th>\n",
       "      <td>20000.0</td>\n",
       "      <td>2</td>\n",
       "      <td>4</td>\n",
       "      <td>2</td>\n",
       "      <td>0.0</td>\n",
       "      <td>0.0</td>\n",
       "      <td>0.0</td>\n",
       "      <td>0.0</td>\n",
       "      <td>0.0</td>\n",
       "      <td>0.0</td>\n",
       "      <td>19568.0</td>\n",
       "      <td>19420.0</td>\n",
       "      <td>15535.0</td>\n",
       "      <td>1434.0</td>\n",
       "      <td>500.0</td>\n",
       "      <td>0.0</td>\n",
       "      <td>4641.0</td>\n",
       "      <td>1019.0</td>\n",
       "      <td>900.0</td>\n",
       "      <td>0.0</td>\n",
       "      <td>1500.0</td>\n",
       "      <td>0.0</td>\n",
       "      <td>1</td>\n",
       "      <td>Young Adult</td>\n",
       "    </tr>\n",
       "    <tr>\n",
       "      <th>3</th>\n",
       "      <td>260000.0</td>\n",
       "      <td>2</td>\n",
       "      <td>4</td>\n",
       "      <td>2</td>\n",
       "      <td>0.0</td>\n",
       "      <td>0.0</td>\n",
       "      <td>0.0</td>\n",
       "      <td>0.0</td>\n",
       "      <td>0.0</td>\n",
       "      <td>0.0</td>\n",
       "      <td>18457.0</td>\n",
       "      <td>22815.0</td>\n",
       "      <td>27086.0</td>\n",
       "      <td>27821.0</td>\n",
       "      <td>30767.0</td>\n",
       "      <td>29890.0</td>\n",
       "      <td>5000.0</td>\n",
       "      <td>5000.0</td>\n",
       "      <td>1137.0</td>\n",
       "      <td>5000.0</td>\n",
       "      <td>1085.0</td>\n",
       "      <td>5000.0</td>\n",
       "      <td>0</td>\n",
       "      <td>Adult</td>\n",
       "    </tr>\n",
       "    <tr>\n",
       "      <th>4</th>\n",
       "      <td>150000.0</td>\n",
       "      <td>1</td>\n",
       "      <td>4</td>\n",
       "      <td>2</td>\n",
       "      <td>0.0</td>\n",
       "      <td>0.0</td>\n",
       "      <td>0.0</td>\n",
       "      <td>-1.0</td>\n",
       "      <td>0.0</td>\n",
       "      <td>0.0</td>\n",
       "      <td>159919.0</td>\n",
       "      <td>68686.0</td>\n",
       "      <td>161192.0</td>\n",
       "      <td>150464.0</td>\n",
       "      <td>143375.0</td>\n",
       "      <td>146411.0</td>\n",
       "      <td>4019.0</td>\n",
       "      <td>146896.0</td>\n",
       "      <td>157436.0</td>\n",
       "      <td>4600.0</td>\n",
       "      <td>4709.0</td>\n",
       "      <td>5600.0</td>\n",
       "      <td>0</td>\n",
       "      <td>Adult</td>\n",
       "    </tr>\n",
       "    <tr>\n",
       "      <th>...</th>\n",
       "      <td>...</td>\n",
       "      <td>...</td>\n",
       "      <td>...</td>\n",
       "      <td>...</td>\n",
       "      <td>...</td>\n",
       "      <td>...</td>\n",
       "      <td>...</td>\n",
       "      <td>...</td>\n",
       "      <td>...</td>\n",
       "      <td>...</td>\n",
       "      <td>...</td>\n",
       "      <td>...</td>\n",
       "      <td>...</td>\n",
       "      <td>...</td>\n",
       "      <td>...</td>\n",
       "      <td>...</td>\n",
       "      <td>...</td>\n",
       "      <td>...</td>\n",
       "      <td>...</td>\n",
       "      <td>...</td>\n",
       "      <td>...</td>\n",
       "      <td>...</td>\n",
       "      <td>...</td>\n",
       "      <td>...</td>\n",
       "    </tr>\n",
       "    <tr>\n",
       "      <th>1987</th>\n",
       "      <td>10000.0</td>\n",
       "      <td>2</td>\n",
       "      <td>2</td>\n",
       "      <td>2</td>\n",
       "      <td>0.0</td>\n",
       "      <td>0.0</td>\n",
       "      <td>2.0</td>\n",
       "      <td>2.0</td>\n",
       "      <td>3.0</td>\n",
       "      <td>2.0</td>\n",
       "      <td>2496.0</td>\n",
       "      <td>4245.0</td>\n",
       "      <td>4525.0</td>\n",
       "      <td>5450.0</td>\n",
       "      <td>5073.0</td>\n",
       "      <td>4843.0</td>\n",
       "      <td>1800.0</td>\n",
       "      <td>500.0</td>\n",
       "      <td>1000.0</td>\n",
       "      <td>0.0</td>\n",
       "      <td>0.0</td>\n",
       "      <td>800.0</td>\n",
       "      <td>1</td>\n",
       "      <td>Middle Age</td>\n",
       "    </tr>\n",
       "    <tr>\n",
       "      <th>1988</th>\n",
       "      <td>100000.0</td>\n",
       "      <td>1</td>\n",
       "      <td>2</td>\n",
       "      <td>1</td>\n",
       "      <td>2.0</td>\n",
       "      <td>2.0</td>\n",
       "      <td>2.0</td>\n",
       "      <td>2.0</td>\n",
       "      <td>3.0</td>\n",
       "      <td>2.0</td>\n",
       "      <td>59586.0</td>\n",
       "      <td>60842.0</td>\n",
       "      <td>61749.0</td>\n",
       "      <td>65130.0</td>\n",
       "      <td>63816.0</td>\n",
       "      <td>65011.0</td>\n",
       "      <td>2800.0</td>\n",
       "      <td>2500.0</td>\n",
       "      <td>5000.0</td>\n",
       "      <td>0.0</td>\n",
       "      <td>2400.0</td>\n",
       "      <td>2400.0</td>\n",
       "      <td>1</td>\n",
       "      <td>Middle Age</td>\n",
       "    </tr>\n",
       "    <tr>\n",
       "      <th>1989</th>\n",
       "      <td>20000.0</td>\n",
       "      <td>1</td>\n",
       "      <td>2</td>\n",
       "      <td>2</td>\n",
       "      <td>2.0</td>\n",
       "      <td>3.0</td>\n",
       "      <td>2.0</td>\n",
       "      <td>2.0</td>\n",
       "      <td>3.0</td>\n",
       "      <td>2.0</td>\n",
       "      <td>21034.0</td>\n",
       "      <td>19839.0</td>\n",
       "      <td>18663.0</td>\n",
       "      <td>20394.0</td>\n",
       "      <td>19228.0</td>\n",
       "      <td>19615.0</td>\n",
       "      <td>0.0</td>\n",
       "      <td>0.0</td>\n",
       "      <td>2616.0</td>\n",
       "      <td>0.0</td>\n",
       "      <td>1400.0</td>\n",
       "      <td>0.0</td>\n",
       "      <td>0</td>\n",
       "      <td>Young Adult</td>\n",
       "    </tr>\n",
       "    <tr>\n",
       "      <th>1990</th>\n",
       "      <td>130000.0</td>\n",
       "      <td>1</td>\n",
       "      <td>2</td>\n",
       "      <td>2</td>\n",
       "      <td>3.0</td>\n",
       "      <td>2.0</td>\n",
       "      <td>2.0</td>\n",
       "      <td>3.0</td>\n",
       "      <td>3.0</td>\n",
       "      <td>2.0</td>\n",
       "      <td>300.0</td>\n",
       "      <td>300.0</td>\n",
       "      <td>300.0</td>\n",
       "      <td>300.0</td>\n",
       "      <td>300.0</td>\n",
       "      <td>150.0</td>\n",
       "      <td>0.0</td>\n",
       "      <td>0.0</td>\n",
       "      <td>0.0</td>\n",
       "      <td>0.0</td>\n",
       "      <td>0.0</td>\n",
       "      <td>1000.0</td>\n",
       "      <td>1</td>\n",
       "      <td>Adult</td>\n",
       "    </tr>\n",
       "    <tr>\n",
       "      <th>1991</th>\n",
       "      <td>30000.0</td>\n",
       "      <td>1</td>\n",
       "      <td>2</td>\n",
       "      <td>2</td>\n",
       "      <td>1.0</td>\n",
       "      <td>3.0</td>\n",
       "      <td>2.0</td>\n",
       "      <td>2.0</td>\n",
       "      <td>3.0</td>\n",
       "      <td>2.0</td>\n",
       "      <td>25907.0</td>\n",
       "      <td>25209.0</td>\n",
       "      <td>24524.0</td>\n",
       "      <td>29397.0</td>\n",
       "      <td>28628.0</td>\n",
       "      <td>32009.0</td>\n",
       "      <td>0.0</td>\n",
       "      <td>0.0</td>\n",
       "      <td>5621.0</td>\n",
       "      <td>0.0</td>\n",
       "      <td>4000.0</td>\n",
       "      <td>1500.0</td>\n",
       "      <td>1</td>\n",
       "      <td>Young Adult</td>\n",
       "    </tr>\n",
       "  </tbody>\n",
       "</table>\n",
       "<p>1992 rows × 24 columns</p>\n",
       "</div>"
      ],
      "text/plain": [
       "      limit_balance  sex  education_level  marital_status  pay_1  pay_2  \\\n",
       "0           80000.0    1                4               1    0.0    0.0   \n",
       "1          200000.0    1                4               1    0.0    0.0   \n",
       "2           20000.0    2                4               2    0.0    0.0   \n",
       "3          260000.0    2                4               2    0.0    0.0   \n",
       "4          150000.0    1                4               2    0.0    0.0   \n",
       "...             ...  ...              ...             ...    ...    ...   \n",
       "1987        10000.0    2                2               2    0.0    0.0   \n",
       "1988       100000.0    1                2               1    2.0    2.0   \n",
       "1989        20000.0    1                2               2    2.0    3.0   \n",
       "1990       130000.0    1                2               2    3.0    2.0   \n",
       "1991        30000.0    1                2               2    1.0    3.0   \n",
       "\n",
       "      pay_3  pay_4  pay_5  pay_6  bill_amt_1  bill_amt_2  bill_amt_3  \\\n",
       "0       0.0    0.0    0.0    0.0     61454.0     61808.0     62290.0   \n",
       "1       0.0    0.0    0.0    0.0     49221.0     49599.0     50942.0   \n",
       "2       0.0    0.0    0.0    0.0     19568.0     19420.0     15535.0   \n",
       "3       0.0    0.0    0.0    0.0     18457.0     22815.0     27086.0   \n",
       "4       0.0   -1.0    0.0    0.0    159919.0     68686.0    161192.0   \n",
       "...     ...    ...    ...    ...         ...         ...         ...   \n",
       "1987    2.0    2.0    3.0    2.0      2496.0      4245.0      4525.0   \n",
       "1988    2.0    2.0    3.0    2.0     59586.0     60842.0     61749.0   \n",
       "1989    2.0    2.0    3.0    2.0     21034.0     19839.0     18663.0   \n",
       "1990    2.0    3.0    3.0    2.0       300.0       300.0       300.0   \n",
       "1991    2.0    2.0    3.0    2.0     25907.0     25209.0     24524.0   \n",
       "\n",
       "      bill_amt_4  bill_amt_5  bill_amt_6  pay_amt_1  pay_amt_2  pay_amt_3  \\\n",
       "0        29296.0     26210.0     17643.0     2545.0     2208.0     1336.0   \n",
       "1        50146.0     50235.0     48984.0     1689.0     2164.0     2500.0   \n",
       "2         1434.0       500.0         0.0     4641.0     1019.0      900.0   \n",
       "3        27821.0     30767.0     29890.0     5000.0     5000.0     1137.0   \n",
       "4       150464.0    143375.0    146411.0     4019.0   146896.0   157436.0   \n",
       "...          ...         ...         ...        ...        ...        ...   \n",
       "1987      5450.0      5073.0      4843.0     1800.0      500.0     1000.0   \n",
       "1988     65130.0     63816.0     65011.0     2800.0     2500.0     5000.0   \n",
       "1989     20394.0     19228.0     19615.0        0.0        0.0     2616.0   \n",
       "1990       300.0       300.0       150.0        0.0        0.0        0.0   \n",
       "1991     29397.0     28628.0     32009.0        0.0        0.0     5621.0   \n",
       "\n",
       "      pay_amt_4  pay_amt_5  pay_amt_6  def_pay      age_cat  \n",
       "0        2232.0      542.0      348.0        1      Old Age  \n",
       "1        3480.0     2500.0     3000.0        0   Middle Age  \n",
       "2           0.0     1500.0        0.0        1  Young Adult  \n",
       "3        5000.0     1085.0     5000.0        0        Adult  \n",
       "4        4600.0     4709.0     5600.0        0        Adult  \n",
       "...         ...        ...        ...      ...          ...  \n",
       "1987        0.0        0.0      800.0        1   Middle Age  \n",
       "1988        0.0     2400.0     2400.0        1   Middle Age  \n",
       "1989        0.0     1400.0        0.0        0  Young Adult  \n",
       "1990        0.0        0.0     1000.0        1        Adult  \n",
       "1991        0.0     4000.0     1500.0        1  Young Adult  \n",
       "\n",
       "[1992 rows x 24 columns]"
      ]
     },
     "execution_count": 1139,
     "metadata": {},
     "output_type": "execute_result"
    }
   ],
   "source": [
    "df_formodel = df[['limit_balance', 'sex', 'education_level', 'marital_status',\n",
    "       'pay_1', 'pay_2', 'pay_3', 'pay_4', 'pay_5', 'pay_6', 'bill_amt_1',\n",
    "       'bill_amt_2', 'bill_amt_3', 'bill_amt_4', 'bill_amt_5', 'bill_amt_6',\n",
    "       'pay_amt_1', 'pay_amt_2', 'pay_amt_3', 'pay_amt_4', 'pay_amt_5',\n",
    "       'pay_amt_6', 'def_pay', 'age_cat']]\n",
    "df_formodel"
   ]
  },
  {
   "cell_type": "code",
   "execution_count": 1140,
   "metadata": {},
   "outputs": [
    {
     "name": "stdout",
     "output_type": "stream",
     "text": [
      "<class 'pandas.core.frame.DataFrame'>\n",
      "RangeIndex: 1992 entries, 0 to 1991\n",
      "Data columns (total 24 columns):\n",
      " #   Column           Non-Null Count  Dtype  \n",
      "---  ------           --------------  -----  \n",
      " 0   limit_balance    1992 non-null   float64\n",
      " 1   sex              1992 non-null   int64  \n",
      " 2   education_level  1992 non-null   int64  \n",
      " 3   marital_status   1992 non-null   int64  \n",
      " 4   pay_1            1992 non-null   float64\n",
      " 5   pay_2            1992 non-null   float64\n",
      " 6   pay_3            1992 non-null   float64\n",
      " 7   pay_4            1992 non-null   float64\n",
      " 8   pay_5            1992 non-null   float64\n",
      " 9   pay_6            1992 non-null   float64\n",
      " 10  bill_amt_1       1992 non-null   float64\n",
      " 11  bill_amt_2       1992 non-null   float64\n",
      " 12  bill_amt_3       1992 non-null   float64\n",
      " 13  bill_amt_4       1992 non-null   float64\n",
      " 14  bill_amt_5       1992 non-null   float64\n",
      " 15  bill_amt_6       1992 non-null   float64\n",
      " 16  pay_amt_1        1992 non-null   float64\n",
      " 17  pay_amt_2        1992 non-null   float64\n",
      " 18  pay_amt_3        1992 non-null   float64\n",
      " 19  pay_amt_4        1992 non-null   float64\n",
      " 20  pay_amt_5        1992 non-null   float64\n",
      " 21  pay_amt_6        1992 non-null   float64\n",
      " 22  def_pay          1992 non-null   int64  \n",
      " 23  age_cat          1992 non-null   object \n",
      "dtypes: float64(19), int64(4), object(1)\n",
      "memory usage: 373.6+ KB\n"
     ]
    }
   ],
   "source": [
    "df_formodel.info()"
   ]
  },
  {
   "cell_type": "markdown",
   "metadata": {},
   "source": [
    "## 5.2 - Split Feature(X) and Target(y)"
   ]
  },
  {
   "cell_type": "code",
   "execution_count": 1141,
   "metadata": {},
   "outputs": [],
   "source": [
    "X = df_formodel.drop('def_pay', axis=1)\n",
    "y = df_formodel['def_pay']"
   ]
  },
  {
   "cell_type": "code",
   "execution_count": 1142,
   "metadata": {},
   "outputs": [
    {
     "data": {
      "text/html": [
       "<div>\n",
       "<style scoped>\n",
       "    .dataframe tbody tr th:only-of-type {\n",
       "        vertical-align: middle;\n",
       "    }\n",
       "\n",
       "    .dataframe tbody tr th {\n",
       "        vertical-align: top;\n",
       "    }\n",
       "\n",
       "    .dataframe thead th {\n",
       "        text-align: right;\n",
       "    }\n",
       "</style>\n",
       "<table border=\"1\" class=\"dataframe\">\n",
       "  <thead>\n",
       "    <tr style=\"text-align: right;\">\n",
       "      <th></th>\n",
       "      <th>limit_balance</th>\n",
       "      <th>sex</th>\n",
       "      <th>education_level</th>\n",
       "      <th>marital_status</th>\n",
       "      <th>pay_1</th>\n",
       "      <th>pay_2</th>\n",
       "      <th>pay_3</th>\n",
       "      <th>pay_4</th>\n",
       "      <th>pay_5</th>\n",
       "      <th>pay_6</th>\n",
       "      <th>bill_amt_1</th>\n",
       "      <th>bill_amt_2</th>\n",
       "      <th>bill_amt_3</th>\n",
       "      <th>bill_amt_4</th>\n",
       "      <th>bill_amt_5</th>\n",
       "      <th>bill_amt_6</th>\n",
       "      <th>pay_amt_1</th>\n",
       "      <th>pay_amt_2</th>\n",
       "      <th>pay_amt_3</th>\n",
       "      <th>pay_amt_4</th>\n",
       "      <th>pay_amt_5</th>\n",
       "      <th>pay_amt_6</th>\n",
       "      <th>age_cat</th>\n",
       "    </tr>\n",
       "  </thead>\n",
       "  <tbody>\n",
       "    <tr>\n",
       "      <th>0</th>\n",
       "      <td>80000.0</td>\n",
       "      <td>1</td>\n",
       "      <td>4</td>\n",
       "      <td>1</td>\n",
       "      <td>0.0</td>\n",
       "      <td>0.0</td>\n",
       "      <td>0.0</td>\n",
       "      <td>0.0</td>\n",
       "      <td>0.0</td>\n",
       "      <td>0.0</td>\n",
       "      <td>61454.0</td>\n",
       "      <td>61808.0</td>\n",
       "      <td>62290.0</td>\n",
       "      <td>29296.0</td>\n",
       "      <td>26210.0</td>\n",
       "      <td>17643.0</td>\n",
       "      <td>2545.0</td>\n",
       "      <td>2208.0</td>\n",
       "      <td>1336.0</td>\n",
       "      <td>2232.0</td>\n",
       "      <td>542.0</td>\n",
       "      <td>348.0</td>\n",
       "      <td>Old Age</td>\n",
       "    </tr>\n",
       "    <tr>\n",
       "      <th>1</th>\n",
       "      <td>200000.0</td>\n",
       "      <td>1</td>\n",
       "      <td>4</td>\n",
       "      <td>1</td>\n",
       "      <td>0.0</td>\n",
       "      <td>0.0</td>\n",
       "      <td>0.0</td>\n",
       "      <td>0.0</td>\n",
       "      <td>0.0</td>\n",
       "      <td>0.0</td>\n",
       "      <td>49221.0</td>\n",
       "      <td>49599.0</td>\n",
       "      <td>50942.0</td>\n",
       "      <td>50146.0</td>\n",
       "      <td>50235.0</td>\n",
       "      <td>48984.0</td>\n",
       "      <td>1689.0</td>\n",
       "      <td>2164.0</td>\n",
       "      <td>2500.0</td>\n",
       "      <td>3480.0</td>\n",
       "      <td>2500.0</td>\n",
       "      <td>3000.0</td>\n",
       "      <td>Middle Age</td>\n",
       "    </tr>\n",
       "    <tr>\n",
       "      <th>2</th>\n",
       "      <td>20000.0</td>\n",
       "      <td>2</td>\n",
       "      <td>4</td>\n",
       "      <td>2</td>\n",
       "      <td>0.0</td>\n",
       "      <td>0.0</td>\n",
       "      <td>0.0</td>\n",
       "      <td>0.0</td>\n",
       "      <td>0.0</td>\n",
       "      <td>0.0</td>\n",
       "      <td>19568.0</td>\n",
       "      <td>19420.0</td>\n",
       "      <td>15535.0</td>\n",
       "      <td>1434.0</td>\n",
       "      <td>500.0</td>\n",
       "      <td>0.0</td>\n",
       "      <td>4641.0</td>\n",
       "      <td>1019.0</td>\n",
       "      <td>900.0</td>\n",
       "      <td>0.0</td>\n",
       "      <td>1500.0</td>\n",
       "      <td>0.0</td>\n",
       "      <td>Young Adult</td>\n",
       "    </tr>\n",
       "    <tr>\n",
       "      <th>3</th>\n",
       "      <td>260000.0</td>\n",
       "      <td>2</td>\n",
       "      <td>4</td>\n",
       "      <td>2</td>\n",
       "      <td>0.0</td>\n",
       "      <td>0.0</td>\n",
       "      <td>0.0</td>\n",
       "      <td>0.0</td>\n",
       "      <td>0.0</td>\n",
       "      <td>0.0</td>\n",
       "      <td>18457.0</td>\n",
       "      <td>22815.0</td>\n",
       "      <td>27086.0</td>\n",
       "      <td>27821.0</td>\n",
       "      <td>30767.0</td>\n",
       "      <td>29890.0</td>\n",
       "      <td>5000.0</td>\n",
       "      <td>5000.0</td>\n",
       "      <td>1137.0</td>\n",
       "      <td>5000.0</td>\n",
       "      <td>1085.0</td>\n",
       "      <td>5000.0</td>\n",
       "      <td>Adult</td>\n",
       "    </tr>\n",
       "    <tr>\n",
       "      <th>4</th>\n",
       "      <td>150000.0</td>\n",
       "      <td>1</td>\n",
       "      <td>4</td>\n",
       "      <td>2</td>\n",
       "      <td>0.0</td>\n",
       "      <td>0.0</td>\n",
       "      <td>0.0</td>\n",
       "      <td>-1.0</td>\n",
       "      <td>0.0</td>\n",
       "      <td>0.0</td>\n",
       "      <td>159919.0</td>\n",
       "      <td>68686.0</td>\n",
       "      <td>161192.0</td>\n",
       "      <td>150464.0</td>\n",
       "      <td>143375.0</td>\n",
       "      <td>146411.0</td>\n",
       "      <td>4019.0</td>\n",
       "      <td>146896.0</td>\n",
       "      <td>157436.0</td>\n",
       "      <td>4600.0</td>\n",
       "      <td>4709.0</td>\n",
       "      <td>5600.0</td>\n",
       "      <td>Adult</td>\n",
       "    </tr>\n",
       "  </tbody>\n",
       "</table>\n",
       "</div>"
      ],
      "text/plain": [
       "   limit_balance  sex  education_level  marital_status  pay_1  pay_2  pay_3  \\\n",
       "0        80000.0    1                4               1    0.0    0.0    0.0   \n",
       "1       200000.0    1                4               1    0.0    0.0    0.0   \n",
       "2        20000.0    2                4               2    0.0    0.0    0.0   \n",
       "3       260000.0    2                4               2    0.0    0.0    0.0   \n",
       "4       150000.0    1                4               2    0.0    0.0    0.0   \n",
       "\n",
       "   pay_4  pay_5  pay_6  bill_amt_1  bill_amt_2  bill_amt_3  bill_amt_4  \\\n",
       "0    0.0    0.0    0.0     61454.0     61808.0     62290.0     29296.0   \n",
       "1    0.0    0.0    0.0     49221.0     49599.0     50942.0     50146.0   \n",
       "2    0.0    0.0    0.0     19568.0     19420.0     15535.0      1434.0   \n",
       "3    0.0    0.0    0.0     18457.0     22815.0     27086.0     27821.0   \n",
       "4   -1.0    0.0    0.0    159919.0     68686.0    161192.0    150464.0   \n",
       "\n",
       "   bill_amt_5  bill_amt_6  pay_amt_1  pay_amt_2  pay_amt_3  pay_amt_4  \\\n",
       "0     26210.0     17643.0     2545.0     2208.0     1336.0     2232.0   \n",
       "1     50235.0     48984.0     1689.0     2164.0     2500.0     3480.0   \n",
       "2       500.0         0.0     4641.0     1019.0      900.0        0.0   \n",
       "3     30767.0     29890.0     5000.0     5000.0     1137.0     5000.0   \n",
       "4    143375.0    146411.0     4019.0   146896.0   157436.0     4600.0   \n",
       "\n",
       "   pay_amt_5  pay_amt_6      age_cat  \n",
       "0      542.0      348.0      Old Age  \n",
       "1     2500.0     3000.0   Middle Age  \n",
       "2     1500.0        0.0  Young Adult  \n",
       "3     1085.0     5000.0        Adult  \n",
       "4     4709.0     5600.0        Adult  "
      ]
     },
     "execution_count": 1142,
     "metadata": {},
     "output_type": "execute_result"
    }
   ],
   "source": [
    "X.head()"
   ]
  },
  {
   "cell_type": "markdown",
   "metadata": {},
   "source": [
    "## 5.3 - Split Train set and Test set"
   ]
  },
  {
   "cell_type": "code",
   "execution_count": 1143,
   "metadata": {},
   "outputs": [
    {
     "name": "stdout",
     "output_type": "stream",
     "text": [
      "Train Size :  (1593, 23)\n",
      "Test Size :  (399, 23)\n",
      "y Train Size :  (1593,)\n",
      "y Test Size :  (399,)\n"
     ]
    }
   ],
   "source": [
    "#Split train and test (80% Train, 20% test)\n",
    "X_train, X_test, y_train, y_test = train_test_split(X, y, test_size=0.2 , random_state=21)\n",
    "print('Train Size : ', X_train.shape)\n",
    "print('Test Size : ', X_test.shape)\n",
    "print('y Train Size : ', y_train.shape)\n",
    "print('y Test Size : ', y_test.shape)"
   ]
  },
  {
   "cell_type": "code",
   "execution_count": 1144,
   "metadata": {},
   "outputs": [
    {
     "data": {
      "text/html": [
       "<div>\n",
       "<style scoped>\n",
       "    .dataframe tbody tr th:only-of-type {\n",
       "        vertical-align: middle;\n",
       "    }\n",
       "\n",
       "    .dataframe tbody tr th {\n",
       "        vertical-align: top;\n",
       "    }\n",
       "\n",
       "    .dataframe thead th {\n",
       "        text-align: right;\n",
       "    }\n",
       "</style>\n",
       "<table border=\"1\" class=\"dataframe\">\n",
       "  <thead>\n",
       "    <tr style=\"text-align: right;\">\n",
       "      <th></th>\n",
       "      <th>limit_balance</th>\n",
       "      <th>sex</th>\n",
       "      <th>education_level</th>\n",
       "      <th>marital_status</th>\n",
       "      <th>pay_1</th>\n",
       "      <th>pay_2</th>\n",
       "      <th>pay_3</th>\n",
       "      <th>pay_4</th>\n",
       "      <th>pay_5</th>\n",
       "      <th>pay_6</th>\n",
       "      <th>bill_amt_1</th>\n",
       "      <th>bill_amt_2</th>\n",
       "      <th>bill_amt_3</th>\n",
       "      <th>bill_amt_4</th>\n",
       "      <th>bill_amt_5</th>\n",
       "      <th>bill_amt_6</th>\n",
       "      <th>pay_amt_1</th>\n",
       "      <th>pay_amt_2</th>\n",
       "      <th>pay_amt_3</th>\n",
       "      <th>pay_amt_4</th>\n",
       "      <th>pay_amt_5</th>\n",
       "      <th>pay_amt_6</th>\n",
       "      <th>age_cat</th>\n",
       "    </tr>\n",
       "  </thead>\n",
       "  <tbody>\n",
       "    <tr>\n",
       "      <th>1613</th>\n",
       "      <td>20000.0</td>\n",
       "      <td>2</td>\n",
       "      <td>2</td>\n",
       "      <td>2</td>\n",
       "      <td>-1.0</td>\n",
       "      <td>-1.0</td>\n",
       "      <td>-1.0</td>\n",
       "      <td>2.0</td>\n",
       "      <td>0.0</td>\n",
       "      <td>0.0</td>\n",
       "      <td>396.0</td>\n",
       "      <td>1301.0</td>\n",
       "      <td>12056.0</td>\n",
       "      <td>11151.0</td>\n",
       "      <td>11219.0</td>\n",
       "      <td>18120.0</td>\n",
       "      <td>1301.0</td>\n",
       "      <td>11151.0</td>\n",
       "      <td>0.0</td>\n",
       "      <td>600.0</td>\n",
       "      <td>8120.0</td>\n",
       "      <td>1500.0</td>\n",
       "      <td>Young Adult</td>\n",
       "    </tr>\n",
       "    <tr>\n",
       "      <th>430</th>\n",
       "      <td>50000.0</td>\n",
       "      <td>1</td>\n",
       "      <td>2</td>\n",
       "      <td>1</td>\n",
       "      <td>0.0</td>\n",
       "      <td>0.0</td>\n",
       "      <td>0.0</td>\n",
       "      <td>0.0</td>\n",
       "      <td>0.0</td>\n",
       "      <td>0.0</td>\n",
       "      <td>25809.0</td>\n",
       "      <td>14888.0</td>\n",
       "      <td>20803.0</td>\n",
       "      <td>18395.0</td>\n",
       "      <td>18386.0</td>\n",
       "      <td>18420.0</td>\n",
       "      <td>2000.0</td>\n",
       "      <td>20000.0</td>\n",
       "      <td>700.0</td>\n",
       "      <td>665.0</td>\n",
       "      <td>727.0</td>\n",
       "      <td>505.0</td>\n",
       "      <td>Adult</td>\n",
       "    </tr>\n",
       "    <tr>\n",
       "      <th>1640</th>\n",
       "      <td>10000.0</td>\n",
       "      <td>2</td>\n",
       "      <td>3</td>\n",
       "      <td>2</td>\n",
       "      <td>1.0</td>\n",
       "      <td>2.0</td>\n",
       "      <td>-1.0</td>\n",
       "      <td>2.0</td>\n",
       "      <td>0.0</td>\n",
       "      <td>0.0</td>\n",
       "      <td>4474.0</td>\n",
       "      <td>189.0</td>\n",
       "      <td>3510.0</td>\n",
       "      <td>3306.0</td>\n",
       "      <td>3551.0</td>\n",
       "      <td>5577.0</td>\n",
       "      <td>0.0</td>\n",
       "      <td>3510.0</td>\n",
       "      <td>0.0</td>\n",
       "      <td>300.0</td>\n",
       "      <td>2260.0</td>\n",
       "      <td>2000.0</td>\n",
       "      <td>Middle Age</td>\n",
       "    </tr>\n",
       "    <tr>\n",
       "      <th>1436</th>\n",
       "      <td>20000.0</td>\n",
       "      <td>1</td>\n",
       "      <td>2</td>\n",
       "      <td>2</td>\n",
       "      <td>1.0</td>\n",
       "      <td>2.0</td>\n",
       "      <td>2.0</td>\n",
       "      <td>0.0</td>\n",
       "      <td>0.0</td>\n",
       "      <td>0.0</td>\n",
       "      <td>6962.0</td>\n",
       "      <td>7898.0</td>\n",
       "      <td>7626.0</td>\n",
       "      <td>8692.0</td>\n",
       "      <td>9541.0</td>\n",
       "      <td>9885.0</td>\n",
       "      <td>1200.0</td>\n",
       "      <td>0.0</td>\n",
       "      <td>1200.0</td>\n",
       "      <td>1000.0</td>\n",
       "      <td>500.0</td>\n",
       "      <td>500.0</td>\n",
       "      <td>Young Adult</td>\n",
       "    </tr>\n",
       "    <tr>\n",
       "      <th>547</th>\n",
       "      <td>30000.0</td>\n",
       "      <td>1</td>\n",
       "      <td>2</td>\n",
       "      <td>2</td>\n",
       "      <td>0.0</td>\n",
       "      <td>0.0</td>\n",
       "      <td>0.0</td>\n",
       "      <td>0.0</td>\n",
       "      <td>0.0</td>\n",
       "      <td>0.0</td>\n",
       "      <td>26788.0</td>\n",
       "      <td>28352.0</td>\n",
       "      <td>86253.0</td>\n",
       "      <td>28351.0</td>\n",
       "      <td>28571.0</td>\n",
       "      <td>23400.0</td>\n",
       "      <td>2001.0</td>\n",
       "      <td>1600.0</td>\n",
       "      <td>600.0</td>\n",
       "      <td>1000.0</td>\n",
       "      <td>468.0</td>\n",
       "      <td>0.0</td>\n",
       "      <td>Adult</td>\n",
       "    </tr>\n",
       "    <tr>\n",
       "      <th>...</th>\n",
       "      <td>...</td>\n",
       "      <td>...</td>\n",
       "      <td>...</td>\n",
       "      <td>...</td>\n",
       "      <td>...</td>\n",
       "      <td>...</td>\n",
       "      <td>...</td>\n",
       "      <td>...</td>\n",
       "      <td>...</td>\n",
       "      <td>...</td>\n",
       "      <td>...</td>\n",
       "      <td>...</td>\n",
       "      <td>...</td>\n",
       "      <td>...</td>\n",
       "      <td>...</td>\n",
       "      <td>...</td>\n",
       "      <td>...</td>\n",
       "      <td>...</td>\n",
       "      <td>...</td>\n",
       "      <td>...</td>\n",
       "      <td>...</td>\n",
       "      <td>...</td>\n",
       "      <td>...</td>\n",
       "    </tr>\n",
       "    <tr>\n",
       "      <th>48</th>\n",
       "      <td>310000.0</td>\n",
       "      <td>1</td>\n",
       "      <td>1</td>\n",
       "      <td>2</td>\n",
       "      <td>0.0</td>\n",
       "      <td>0.0</td>\n",
       "      <td>0.0</td>\n",
       "      <td>0.0</td>\n",
       "      <td>0.0</td>\n",
       "      <td>0.0</td>\n",
       "      <td>313268.0</td>\n",
       "      <td>278821.0</td>\n",
       "      <td>283847.0</td>\n",
       "      <td>290135.0</td>\n",
       "      <td>293350.0</td>\n",
       "      <td>300623.0</td>\n",
       "      <td>10010.0</td>\n",
       "      <td>11500.0</td>\n",
       "      <td>11015.0</td>\n",
       "      <td>11000.0</td>\n",
       "      <td>12000.0</td>\n",
       "      <td>23035.0</td>\n",
       "      <td>Middle Age</td>\n",
       "    </tr>\n",
       "    <tr>\n",
       "      <th>772</th>\n",
       "      <td>120000.0</td>\n",
       "      <td>2</td>\n",
       "      <td>2</td>\n",
       "      <td>2</td>\n",
       "      <td>0.0</td>\n",
       "      <td>0.0</td>\n",
       "      <td>0.0</td>\n",
       "      <td>0.0</td>\n",
       "      <td>0.0</td>\n",
       "      <td>0.0</td>\n",
       "      <td>15234.0</td>\n",
       "      <td>8247.0</td>\n",
       "      <td>9624.0</td>\n",
       "      <td>20129.0</td>\n",
       "      <td>10388.0</td>\n",
       "      <td>13316.0</td>\n",
       "      <td>1137.0</td>\n",
       "      <td>1514.0</td>\n",
       "      <td>1069.0</td>\n",
       "      <td>278.0</td>\n",
       "      <td>3000.0</td>\n",
       "      <td>0.0</td>\n",
       "      <td>Young Adult</td>\n",
       "    </tr>\n",
       "    <tr>\n",
       "      <th>1848</th>\n",
       "      <td>60000.0</td>\n",
       "      <td>2</td>\n",
       "      <td>2</td>\n",
       "      <td>1</td>\n",
       "      <td>0.0</td>\n",
       "      <td>0.0</td>\n",
       "      <td>2.0</td>\n",
       "      <td>2.0</td>\n",
       "      <td>2.0</td>\n",
       "      <td>2.0</td>\n",
       "      <td>37549.0</td>\n",
       "      <td>40603.0</td>\n",
       "      <td>39676.0</td>\n",
       "      <td>42407.0</td>\n",
       "      <td>41428.0</td>\n",
       "      <td>45576.0</td>\n",
       "      <td>4000.0</td>\n",
       "      <td>0.0</td>\n",
       "      <td>3700.0</td>\n",
       "      <td>0.0</td>\n",
       "      <td>5000.0</td>\n",
       "      <td>2000.0</td>\n",
       "      <td>Adult</td>\n",
       "    </tr>\n",
       "    <tr>\n",
       "      <th>1231</th>\n",
       "      <td>340000.0</td>\n",
       "      <td>2</td>\n",
       "      <td>3</td>\n",
       "      <td>1</td>\n",
       "      <td>0.0</td>\n",
       "      <td>-1.0</td>\n",
       "      <td>0.0</td>\n",
       "      <td>0.0</td>\n",
       "      <td>0.0</td>\n",
       "      <td>0.0</td>\n",
       "      <td>11049.0</td>\n",
       "      <td>57301.0</td>\n",
       "      <td>59375.0</td>\n",
       "      <td>60216.0</td>\n",
       "      <td>59842.0</td>\n",
       "      <td>46882.0</td>\n",
       "      <td>57301.0</td>\n",
       "      <td>3000.0</td>\n",
       "      <td>2600.0</td>\n",
       "      <td>1000.0</td>\n",
       "      <td>1817.0</td>\n",
       "      <td>11022.0</td>\n",
       "      <td>Adult</td>\n",
       "    </tr>\n",
       "    <tr>\n",
       "      <th>969</th>\n",
       "      <td>130000.0</td>\n",
       "      <td>2</td>\n",
       "      <td>2</td>\n",
       "      <td>1</td>\n",
       "      <td>0.0</td>\n",
       "      <td>0.0</td>\n",
       "      <td>0.0</td>\n",
       "      <td>0.0</td>\n",
       "      <td>0.0</td>\n",
       "      <td>2.0</td>\n",
       "      <td>128671.0</td>\n",
       "      <td>129901.0</td>\n",
       "      <td>127658.0</td>\n",
       "      <td>127362.0</td>\n",
       "      <td>128726.0</td>\n",
       "      <td>129081.0</td>\n",
       "      <td>7000.0</td>\n",
       "      <td>4710.0</td>\n",
       "      <td>4500.0</td>\n",
       "      <td>9400.0</td>\n",
       "      <td>3600.0</td>\n",
       "      <td>5500.0</td>\n",
       "      <td>Middle Age</td>\n",
       "    </tr>\n",
       "  </tbody>\n",
       "</table>\n",
       "<p>1593 rows × 23 columns</p>\n",
       "</div>"
      ],
      "text/plain": [
       "      limit_balance  sex  education_level  marital_status  pay_1  pay_2  \\\n",
       "1613        20000.0    2                2               2   -1.0   -1.0   \n",
       "430         50000.0    1                2               1    0.0    0.0   \n",
       "1640        10000.0    2                3               2    1.0    2.0   \n",
       "1436        20000.0    1                2               2    1.0    2.0   \n",
       "547         30000.0    1                2               2    0.0    0.0   \n",
       "...             ...  ...              ...             ...    ...    ...   \n",
       "48         310000.0    1                1               2    0.0    0.0   \n",
       "772        120000.0    2                2               2    0.0    0.0   \n",
       "1848        60000.0    2                2               1    0.0    0.0   \n",
       "1231       340000.0    2                3               1    0.0   -1.0   \n",
       "969        130000.0    2                2               1    0.0    0.0   \n",
       "\n",
       "      pay_3  pay_4  pay_5  pay_6  bill_amt_1  bill_amt_2  bill_amt_3  \\\n",
       "1613   -1.0    2.0    0.0    0.0       396.0      1301.0     12056.0   \n",
       "430     0.0    0.0    0.0    0.0     25809.0     14888.0     20803.0   \n",
       "1640   -1.0    2.0    0.0    0.0      4474.0       189.0      3510.0   \n",
       "1436    2.0    0.0    0.0    0.0      6962.0      7898.0      7626.0   \n",
       "547     0.0    0.0    0.0    0.0     26788.0     28352.0     86253.0   \n",
       "...     ...    ...    ...    ...         ...         ...         ...   \n",
       "48      0.0    0.0    0.0    0.0    313268.0    278821.0    283847.0   \n",
       "772     0.0    0.0    0.0    0.0     15234.0      8247.0      9624.0   \n",
       "1848    2.0    2.0    2.0    2.0     37549.0     40603.0     39676.0   \n",
       "1231    0.0    0.0    0.0    0.0     11049.0     57301.0     59375.0   \n",
       "969     0.0    0.0    0.0    2.0    128671.0    129901.0    127658.0   \n",
       "\n",
       "      bill_amt_4  bill_amt_5  bill_amt_6  pay_amt_1  pay_amt_2  pay_amt_3  \\\n",
       "1613     11151.0     11219.0     18120.0     1301.0    11151.0        0.0   \n",
       "430      18395.0     18386.0     18420.0     2000.0    20000.0      700.0   \n",
       "1640      3306.0      3551.0      5577.0        0.0     3510.0        0.0   \n",
       "1436      8692.0      9541.0      9885.0     1200.0        0.0     1200.0   \n",
       "547      28351.0     28571.0     23400.0     2001.0     1600.0      600.0   \n",
       "...          ...         ...         ...        ...        ...        ...   \n",
       "48      290135.0    293350.0    300623.0    10010.0    11500.0    11015.0   \n",
       "772      20129.0     10388.0     13316.0     1137.0     1514.0     1069.0   \n",
       "1848     42407.0     41428.0     45576.0     4000.0        0.0     3700.0   \n",
       "1231     60216.0     59842.0     46882.0    57301.0     3000.0     2600.0   \n",
       "969     127362.0    128726.0    129081.0     7000.0     4710.0     4500.0   \n",
       "\n",
       "      pay_amt_4  pay_amt_5  pay_amt_6      age_cat  \n",
       "1613      600.0     8120.0     1500.0  Young Adult  \n",
       "430       665.0      727.0      505.0        Adult  \n",
       "1640      300.0     2260.0     2000.0   Middle Age  \n",
       "1436     1000.0      500.0      500.0  Young Adult  \n",
       "547      1000.0      468.0        0.0        Adult  \n",
       "...         ...        ...        ...          ...  \n",
       "48      11000.0    12000.0    23035.0   Middle Age  \n",
       "772       278.0     3000.0        0.0  Young Adult  \n",
       "1848        0.0     5000.0     2000.0        Adult  \n",
       "1231     1000.0     1817.0    11022.0        Adult  \n",
       "969      9400.0     3600.0     5500.0   Middle Age  \n",
       "\n",
       "[1593 rows x 23 columns]"
      ]
     },
     "execution_count": 1144,
     "metadata": {},
     "output_type": "execute_result"
    }
   ],
   "source": [
    "X_train"
   ]
  },
  {
   "cell_type": "markdown",
   "metadata": {},
   "source": [
    "## 5.4 - Handling Outlier"
   ]
  },
  {
   "cell_type": "markdown",
   "metadata": {},
   "source": [
    "Handling outlier for numerical column `limit_balance` and `age`. Based on EDA at point 4, `limit_balance` and `age` distribution is not normal (skewed distribution), so we use `Tukey's Rule` technique to handle the outliers. To ensure the data distribution isn't changed after split feature, we check it once again as follow."
   ]
  },
  {
   "cell_type": "code",
   "execution_count": 1145,
   "metadata": {},
   "outputs": [
    {
     "name": "stdout",
     "output_type": "stream",
     "text": [
      "Distribution of column `Limit Balance`  :  1.2829048753930652\n"
     ]
    }
   ],
   "source": [
    "print('Distribution of column `Limit Balance`  : ', X_train['limit_balance'].skew())\n",
    "# print('Distribution of column `Age` : ', X_train['age'].skew())"
   ]
  },
  {
   "cell_type": "markdown",
   "metadata": {},
   "source": [
    "Data distribution is not changed, it's still positively skew same with our check on EDA. Next find the outliers using `Tukey's Rule` technique."
   ]
  },
  {
   "cell_type": "code",
   "execution_count": 1146,
   "metadata": {},
   "outputs": [],
   "source": [
    "def diagnostic_plots(df, variable):\n",
    "    # Define figure size\n",
    "    plt.figure(figsize=(16, 4))\n",
    "\n",
    "    # Histogram\n",
    "    plt.subplot(1, 2, 1)\n",
    "    sns.histplot(df, bins=30) if variable is None else sns.histplot(df[variable], bins=30)\n",
    "    plt.title('Histogram')\n",
    "\n",
    "    # Boxplot\n",
    "    plt.subplot(1, 2, 2)\n",
    "    sns.boxplot(y=df) if variable is None else sns.boxplot(y=df[variable])\n",
    "    plt.title('Boxplot')\n",
    "\n",
    "    plt.show()"
   ]
  },
  {
   "cell_type": "code",
   "execution_count": 1147,
   "metadata": {},
   "outputs": [
    {
     "data": {
      "image/png": "[encoded data removed]",
      "text/plain": [
       "<Figure size 1600x400 with 2 Axes>"
      ]
     },
     "metadata": {},
     "output_type": "display_data"
    }
   ],
   "source": [
    "diagnostic_plots(X_train, 'limit_balance')"
   ]
  },
  {
   "cell_type": "code",
   "execution_count": 1148,
   "metadata": {},
   "outputs": [],
   "source": [
    "# diagnostic_plots(X_train, 'age')"
   ]
  },
  {
   "cell_type": "code",
   "execution_count": 1149,
   "metadata": {},
   "outputs": [],
   "source": [
    "def getTukeysRuleBoundary(df, col, iqr_wide):\n",
    "    IQR = df[col].quantile(0.75) - df[col].quantile(0.25)\n",
    "    lower_boundary = df[col].quantile(0.25) - (IQR * iqr_wide)\n",
    "    upper_boundary = df[col].quantile(0.75) + (IQR * iqr_wide)\n",
    "\n",
    "    print(f'Lower Boundary {col} : {lower_boundary}')\n",
    "    print(f'Upper Boundary {col} : {upper_boundary}')\n",
    "\n",
    "    return lower_boundary, upper_boundary\n",
    "\n",
    "def getPrecentageOutliers(df, col, upper_b):\n",
    "    print('Total Data : {}'.format(len(df)))\n",
    "    print('Data which ' + col + ' more than ' + str(upper_b) + ' : {}'.format(len(df[df[col] > upper_b])))\n",
    "    print('% Data which ' + col + ' more than ' + str(upper_b) + ' : {}'.format(len(df[df[col] > upper_b])/len(df) * 100))"
   ]
  },
  {
   "cell_type": "code",
   "execution_count": 1150,
   "metadata": {},
   "outputs": [
    {
     "name": "stdout",
     "output_type": "stream",
     "text": [
      "Lower Boundary limit_balance : -190000.0\n",
      "Upper Boundary limit_balance : 450000.0\n"
     ]
    }
   ],
   "source": [
    "lower_b_limitbalance, upper_b_limitbalance = getTukeysRuleBoundary(X_train, 'limit_balance', 1.5)\n",
    "# lower_b_age, upper_b_age = getTukeysRuleBoundary(X_train, 'age', 1.5)"
   ]
  },
  {
   "cell_type": "code",
   "execution_count": 1151,
   "metadata": {},
   "outputs": [
    {
     "name": "stdout",
     "output_type": "stream",
     "text": [
      "Total Data : 1593\n",
      "Data which limit_balance more than 450000.0 : 52\n",
      "% Data which limit_balance more than 450000.0 : 3.264281230382925\n"
     ]
    }
   ],
   "source": [
    "getPrecentageOutliers(X_train, 'limit_balance', upper_b_limitbalance)\n",
    "# print('-----------------------------------------------------------------')\n",
    "# getPrecentageOutliers(X_train, 'age', upper_b_age)"
   ]
  },
  {
   "cell_type": "markdown",
   "metadata": {},
   "source": [
    "Total outliers for column `limit balance` and `age` is only 52 and 24 row respectively. It's only about 1.5~3.2% of the total data, so it's safe to perform outliers handling."
   ]
  },
  {
   "cell_type": "code",
   "execution_count": 1152,
   "metadata": {},
   "outputs": [
    {
     "name": "stdout",
     "output_type": "stream",
     "text": [
      "Size X_train - Before trimming :  (1593, 23)\n",
      "Size X_train - After trimming  :  (1541, 23)\n",
      "\n",
      "Size y_train - Before trimming :  (1593,)\n",
      "Size y_train - After trimming  :  (1541,)\n"
     ]
    }
   ],
   "source": [
    "# Flag the outliers in column `limit_balance`\n",
    "outliers_limit_balance = np.where(X_train['limit_balance'] > upper_b_limitbalance, True, np.where(X_train['limit_balance'] < lower_b_limitbalance, True, False))\n",
    "\n",
    "# Flag the outliers in column `age`\n",
    "# outliers_age = np.where(X_train['age'] > upper_b_age, True, np.where(X_train['age'] < lower_b_age, True, False))\n",
    "\n",
    "# Trimming the dataset\n",
    "X_train_trimmed = X_train.loc[~(outliers_limit_balance)]# + (outliers_age)]\n",
    "y_train_trimmed = y_train.loc[~(outliers_limit_balance)]# + (outliers_age)]\n",
    "\n",
    "print('Size X_train - Before trimming : ', X_train.shape)\n",
    "print('Size X_train - After trimming  : ', X_train_trimmed.shape)\n",
    "print('')\n",
    "print('Size y_train - Before trimming : ', y_train.shape)\n",
    "print('Size y_train - After trimming  : ', y_train_trimmed.shape)"
   ]
  },
  {
   "cell_type": "markdown",
   "metadata": {},
   "source": [
    "Outliers in column `limit_balance` has been successfully handled."
   ]
  },
  {
   "cell_type": "markdown",
   "metadata": {},
   "source": [
    "## 5.5 - Handling Missing Value"
   ]
  },
  {
   "cell_type": "code",
   "execution_count": 1153,
   "metadata": {},
   "outputs": [
    {
     "data": {
      "text/plain": [
       "limit_balance      0\n",
       "sex                0\n",
       "education_level    0\n",
       "marital_status     0\n",
       "pay_1              0\n",
       "pay_2              0\n",
       "pay_3              0\n",
       "pay_4              0\n",
       "pay_5              0\n",
       "pay_6              0\n",
       "bill_amt_1         0\n",
       "bill_amt_2         0\n",
       "bill_amt_3         0\n",
       "bill_amt_4         0\n",
       "bill_amt_5         0\n",
       "bill_amt_6         0\n",
       "pay_amt_1          0\n",
       "pay_amt_2          0\n",
       "pay_amt_3          0\n",
       "pay_amt_4          0\n",
       "pay_amt_5          0\n",
       "pay_amt_6          0\n",
       "age_cat            0\n",
       "dtype: int64"
      ]
     },
     "execution_count": 1153,
     "metadata": {},
     "output_type": "execute_result"
    }
   ],
   "source": [
    "#Check X_train\n",
    "X_train_trimmed.isnull().sum()"
   ]
  },
  {
   "cell_type": "code",
   "execution_count": 1154,
   "metadata": {},
   "outputs": [
    {
     "data": {
      "text/plain": [
       "limit_balance      0\n",
       "sex                0\n",
       "education_level    0\n",
       "marital_status     0\n",
       "pay_1              0\n",
       "pay_2              0\n",
       "pay_3              0\n",
       "pay_4              0\n",
       "pay_5              0\n",
       "pay_6              0\n",
       "bill_amt_1         0\n",
       "bill_amt_2         0\n",
       "bill_amt_3         0\n",
       "bill_amt_4         0\n",
       "bill_amt_5         0\n",
       "bill_amt_6         0\n",
       "pay_amt_1          0\n",
       "pay_amt_2          0\n",
       "pay_amt_3          0\n",
       "pay_amt_4          0\n",
       "pay_amt_5          0\n",
       "pay_amt_6          0\n",
       "age_cat            0\n",
       "dtype: int64"
      ]
     },
     "execution_count": 1154,
     "metadata": {},
     "output_type": "execute_result"
    }
   ],
   "source": [
    "#Check X_test\n",
    "X_test.isnull().sum()"
   ]
  },
  {
   "cell_type": "code",
   "execution_count": 1155,
   "metadata": {},
   "outputs": [
    {
     "data": {
      "text/plain": [
       "0"
      ]
     },
     "execution_count": 1155,
     "metadata": {},
     "output_type": "execute_result"
    }
   ],
   "source": [
    "#Check y_train\n",
    "y_train_trimmed.isnull().sum()"
   ]
  },
  {
   "cell_type": "code",
   "execution_count": 1156,
   "metadata": {},
   "outputs": [
    {
     "data": {
      "text/plain": [
       "0"
      ]
     },
     "execution_count": 1156,
     "metadata": {},
     "output_type": "execute_result"
    }
   ],
   "source": [
    "#Check y_test\n",
    "y_test.isnull().sum()"
   ]
  },
  {
   "cell_type": "markdown",
   "metadata": {},
   "source": [
    "There is no missing value found from all feature(X) and target(y)."
   ]
  },
  {
   "cell_type": "markdown",
   "metadata": {},
   "source": [
    "## 5.6 - Split Numerical and Categorical Column"
   ]
  },
  {
   "cell_type": "code",
   "execution_count": 1157,
   "metadata": {},
   "outputs": [
    {
     "data": {
      "text/html": [
       "<div>\n",
       "<style scoped>\n",
       "    .dataframe tbody tr th:only-of-type {\n",
       "        vertical-align: middle;\n",
       "    }\n",
       "\n",
       "    .dataframe tbody tr th {\n",
       "        vertical-align: top;\n",
       "    }\n",
       "\n",
       "    .dataframe thead th {\n",
       "        text-align: right;\n",
       "    }\n",
       "</style>\n",
       "<table border=\"1\" class=\"dataframe\">\n",
       "  <thead>\n",
       "    <tr style=\"text-align: right;\">\n",
       "      <th></th>\n",
       "      <th>limit_balance</th>\n",
       "      <th>sex</th>\n",
       "      <th>education_level</th>\n",
       "      <th>marital_status</th>\n",
       "      <th>pay_1</th>\n",
       "      <th>pay_2</th>\n",
       "      <th>pay_3</th>\n",
       "      <th>pay_4</th>\n",
       "      <th>pay_5</th>\n",
       "      <th>pay_6</th>\n",
       "      <th>bill_amt_1</th>\n",
       "      <th>bill_amt_2</th>\n",
       "      <th>bill_amt_3</th>\n",
       "      <th>bill_amt_4</th>\n",
       "      <th>bill_amt_5</th>\n",
       "      <th>bill_amt_6</th>\n",
       "      <th>pay_amt_1</th>\n",
       "      <th>pay_amt_2</th>\n",
       "      <th>pay_amt_3</th>\n",
       "      <th>pay_amt_4</th>\n",
       "      <th>pay_amt_5</th>\n",
       "      <th>pay_amt_6</th>\n",
       "      <th>age_cat</th>\n",
       "    </tr>\n",
       "  </thead>\n",
       "  <tbody>\n",
       "    <tr>\n",
       "      <th>1613</th>\n",
       "      <td>20000.0</td>\n",
       "      <td>2</td>\n",
       "      <td>2</td>\n",
       "      <td>2</td>\n",
       "      <td>-1.0</td>\n",
       "      <td>-1.0</td>\n",
       "      <td>-1.0</td>\n",
       "      <td>2.0</td>\n",
       "      <td>0.0</td>\n",
       "      <td>0.0</td>\n",
       "      <td>396.0</td>\n",
       "      <td>1301.0</td>\n",
       "      <td>12056.0</td>\n",
       "      <td>11151.0</td>\n",
       "      <td>11219.0</td>\n",
       "      <td>18120.0</td>\n",
       "      <td>1301.0</td>\n",
       "      <td>11151.0</td>\n",
       "      <td>0.0</td>\n",
       "      <td>600.0</td>\n",
       "      <td>8120.0</td>\n",
       "      <td>1500.0</td>\n",
       "      <td>Young Adult</td>\n",
       "    </tr>\n",
       "    <tr>\n",
       "      <th>430</th>\n",
       "      <td>50000.0</td>\n",
       "      <td>1</td>\n",
       "      <td>2</td>\n",
       "      <td>1</td>\n",
       "      <td>0.0</td>\n",
       "      <td>0.0</td>\n",
       "      <td>0.0</td>\n",
       "      <td>0.0</td>\n",
       "      <td>0.0</td>\n",
       "      <td>0.0</td>\n",
       "      <td>25809.0</td>\n",
       "      <td>14888.0</td>\n",
       "      <td>20803.0</td>\n",
       "      <td>18395.0</td>\n",
       "      <td>18386.0</td>\n",
       "      <td>18420.0</td>\n",
       "      <td>2000.0</td>\n",
       "      <td>20000.0</td>\n",
       "      <td>700.0</td>\n",
       "      <td>665.0</td>\n",
       "      <td>727.0</td>\n",
       "      <td>505.0</td>\n",
       "      <td>Adult</td>\n",
       "    </tr>\n",
       "    <tr>\n",
       "      <th>1640</th>\n",
       "      <td>10000.0</td>\n",
       "      <td>2</td>\n",
       "      <td>3</td>\n",
       "      <td>2</td>\n",
       "      <td>1.0</td>\n",
       "      <td>2.0</td>\n",
       "      <td>-1.0</td>\n",
       "      <td>2.0</td>\n",
       "      <td>0.0</td>\n",
       "      <td>0.0</td>\n",
       "      <td>4474.0</td>\n",
       "      <td>189.0</td>\n",
       "      <td>3510.0</td>\n",
       "      <td>3306.0</td>\n",
       "      <td>3551.0</td>\n",
       "      <td>5577.0</td>\n",
       "      <td>0.0</td>\n",
       "      <td>3510.0</td>\n",
       "      <td>0.0</td>\n",
       "      <td>300.0</td>\n",
       "      <td>2260.0</td>\n",
       "      <td>2000.0</td>\n",
       "      <td>Middle Age</td>\n",
       "    </tr>\n",
       "    <tr>\n",
       "      <th>1436</th>\n",
       "      <td>20000.0</td>\n",
       "      <td>1</td>\n",
       "      <td>2</td>\n",
       "      <td>2</td>\n",
       "      <td>1.0</td>\n",
       "      <td>2.0</td>\n",
       "      <td>2.0</td>\n",
       "      <td>0.0</td>\n",
       "      <td>0.0</td>\n",
       "      <td>0.0</td>\n",
       "      <td>6962.0</td>\n",
       "      <td>7898.0</td>\n",
       "      <td>7626.0</td>\n",
       "      <td>8692.0</td>\n",
       "      <td>9541.0</td>\n",
       "      <td>9885.0</td>\n",
       "      <td>1200.0</td>\n",
       "      <td>0.0</td>\n",
       "      <td>1200.0</td>\n",
       "      <td>1000.0</td>\n",
       "      <td>500.0</td>\n",
       "      <td>500.0</td>\n",
       "      <td>Young Adult</td>\n",
       "    </tr>\n",
       "    <tr>\n",
       "      <th>547</th>\n",
       "      <td>30000.0</td>\n",
       "      <td>1</td>\n",
       "      <td>2</td>\n",
       "      <td>2</td>\n",
       "      <td>0.0</td>\n",
       "      <td>0.0</td>\n",
       "      <td>0.0</td>\n",
       "      <td>0.0</td>\n",
       "      <td>0.0</td>\n",
       "      <td>0.0</td>\n",
       "      <td>26788.0</td>\n",
       "      <td>28352.0</td>\n",
       "      <td>86253.0</td>\n",
       "      <td>28351.0</td>\n",
       "      <td>28571.0</td>\n",
       "      <td>23400.0</td>\n",
       "      <td>2001.0</td>\n",
       "      <td>1600.0</td>\n",
       "      <td>600.0</td>\n",
       "      <td>1000.0</td>\n",
       "      <td>468.0</td>\n",
       "      <td>0.0</td>\n",
       "      <td>Adult</td>\n",
       "    </tr>\n",
       "    <tr>\n",
       "      <th>...</th>\n",
       "      <td>...</td>\n",
       "      <td>...</td>\n",
       "      <td>...</td>\n",
       "      <td>...</td>\n",
       "      <td>...</td>\n",
       "      <td>...</td>\n",
       "      <td>...</td>\n",
       "      <td>...</td>\n",
       "      <td>...</td>\n",
       "      <td>...</td>\n",
       "      <td>...</td>\n",
       "      <td>...</td>\n",
       "      <td>...</td>\n",
       "      <td>...</td>\n",
       "      <td>...</td>\n",
       "      <td>...</td>\n",
       "      <td>...</td>\n",
       "      <td>...</td>\n",
       "      <td>...</td>\n",
       "      <td>...</td>\n",
       "      <td>...</td>\n",
       "      <td>...</td>\n",
       "      <td>...</td>\n",
       "    </tr>\n",
       "    <tr>\n",
       "      <th>48</th>\n",
       "      <td>310000.0</td>\n",
       "      <td>1</td>\n",
       "      <td>1</td>\n",
       "      <td>2</td>\n",
       "      <td>0.0</td>\n",
       "      <td>0.0</td>\n",
       "      <td>0.0</td>\n",
       "      <td>0.0</td>\n",
       "      <td>0.0</td>\n",
       "      <td>0.0</td>\n",
       "      <td>313268.0</td>\n",
       "      <td>278821.0</td>\n",
       "      <td>283847.0</td>\n",
       "      <td>290135.0</td>\n",
       "      <td>293350.0</td>\n",
       "      <td>300623.0</td>\n",
       "      <td>10010.0</td>\n",
       "      <td>11500.0</td>\n",
       "      <td>11015.0</td>\n",
       "      <td>11000.0</td>\n",
       "      <td>12000.0</td>\n",
       "      <td>23035.0</td>\n",
       "      <td>Middle Age</td>\n",
       "    </tr>\n",
       "    <tr>\n",
       "      <th>772</th>\n",
       "      <td>120000.0</td>\n",
       "      <td>2</td>\n",
       "      <td>2</td>\n",
       "      <td>2</td>\n",
       "      <td>0.0</td>\n",
       "      <td>0.0</td>\n",
       "      <td>0.0</td>\n",
       "      <td>0.0</td>\n",
       "      <td>0.0</td>\n",
       "      <td>0.0</td>\n",
       "      <td>15234.0</td>\n",
       "      <td>8247.0</td>\n",
       "      <td>9624.0</td>\n",
       "      <td>20129.0</td>\n",
       "      <td>10388.0</td>\n",
       "      <td>13316.0</td>\n",
       "      <td>1137.0</td>\n",
       "      <td>1514.0</td>\n",
       "      <td>1069.0</td>\n",
       "      <td>278.0</td>\n",
       "      <td>3000.0</td>\n",
       "      <td>0.0</td>\n",
       "      <td>Young Adult</td>\n",
       "    </tr>\n",
       "    <tr>\n",
       "      <th>1848</th>\n",
       "      <td>60000.0</td>\n",
       "      <td>2</td>\n",
       "      <td>2</td>\n",
       "      <td>1</td>\n",
       "      <td>0.0</td>\n",
       "      <td>0.0</td>\n",
       "      <td>2.0</td>\n",
       "      <td>2.0</td>\n",
       "      <td>2.0</td>\n",
       "      <td>2.0</td>\n",
       "      <td>37549.0</td>\n",
       "      <td>40603.0</td>\n",
       "      <td>39676.0</td>\n",
       "      <td>42407.0</td>\n",
       "      <td>41428.0</td>\n",
       "      <td>45576.0</td>\n",
       "      <td>4000.0</td>\n",
       "      <td>0.0</td>\n",
       "      <td>3700.0</td>\n",
       "      <td>0.0</td>\n",
       "      <td>5000.0</td>\n",
       "      <td>2000.0</td>\n",
       "      <td>Adult</td>\n",
       "    </tr>\n",
       "    <tr>\n",
       "      <th>1231</th>\n",
       "      <td>340000.0</td>\n",
       "      <td>2</td>\n",
       "      <td>3</td>\n",
       "      <td>1</td>\n",
       "      <td>0.0</td>\n",
       "      <td>-1.0</td>\n",
       "      <td>0.0</td>\n",
       "      <td>0.0</td>\n",
       "      <td>0.0</td>\n",
       "      <td>0.0</td>\n",
       "      <td>11049.0</td>\n",
       "      <td>57301.0</td>\n",
       "      <td>59375.0</td>\n",
       "      <td>60216.0</td>\n",
       "      <td>59842.0</td>\n",
       "      <td>46882.0</td>\n",
       "      <td>57301.0</td>\n",
       "      <td>3000.0</td>\n",
       "      <td>2600.0</td>\n",
       "      <td>1000.0</td>\n",
       "      <td>1817.0</td>\n",
       "      <td>11022.0</td>\n",
       "      <td>Adult</td>\n",
       "    </tr>\n",
       "    <tr>\n",
       "      <th>969</th>\n",
       "      <td>130000.0</td>\n",
       "      <td>2</td>\n",
       "      <td>2</td>\n",
       "      <td>1</td>\n",
       "      <td>0.0</td>\n",
       "      <td>0.0</td>\n",
       "      <td>0.0</td>\n",
       "      <td>0.0</td>\n",
       "      <td>0.0</td>\n",
       "      <td>2.0</td>\n",
       "      <td>128671.0</td>\n",
       "      <td>129901.0</td>\n",
       "      <td>127658.0</td>\n",
       "      <td>127362.0</td>\n",
       "      <td>128726.0</td>\n",
       "      <td>129081.0</td>\n",
       "      <td>7000.0</td>\n",
       "      <td>4710.0</td>\n",
       "      <td>4500.0</td>\n",
       "      <td>9400.0</td>\n",
       "      <td>3600.0</td>\n",
       "      <td>5500.0</td>\n",
       "      <td>Middle Age</td>\n",
       "    </tr>\n",
       "  </tbody>\n",
       "</table>\n",
       "<p>1541 rows × 23 columns</p>\n",
       "</div>"
      ],
      "text/plain": [
       "      limit_balance  sex  education_level  marital_status  pay_1  pay_2  \\\n",
       "1613        20000.0    2                2               2   -1.0   -1.0   \n",
       "430         50000.0    1                2               1    0.0    0.0   \n",
       "1640        10000.0    2                3               2    1.0    2.0   \n",
       "1436        20000.0    1                2               2    1.0    2.0   \n",
       "547         30000.0    1                2               2    0.0    0.0   \n",
       "...             ...  ...              ...             ...    ...    ...   \n",
       "48         310000.0    1                1               2    0.0    0.0   \n",
       "772        120000.0    2                2               2    0.0    0.0   \n",
       "1848        60000.0    2                2               1    0.0    0.0   \n",
       "1231       340000.0    2                3               1    0.0   -1.0   \n",
       "969        130000.0    2                2               1    0.0    0.0   \n",
       "\n",
       "      pay_3  pay_4  pay_5  pay_6  bill_amt_1  bill_amt_2  bill_amt_3  \\\n",
       "1613   -1.0    2.0    0.0    0.0       396.0      1301.0     12056.0   \n",
       "430     0.0    0.0    0.0    0.0     25809.0     14888.0     20803.0   \n",
       "1640   -1.0    2.0    0.0    0.0      4474.0       189.0      3510.0   \n",
       "1436    2.0    0.0    0.0    0.0      6962.0      7898.0      7626.0   \n",
       "547     0.0    0.0    0.0    0.0     26788.0     28352.0     86253.0   \n",
       "...     ...    ...    ...    ...         ...         ...         ...   \n",
       "48      0.0    0.0    0.0    0.0    313268.0    278821.0    283847.0   \n",
       "772     0.0    0.0    0.0    0.0     15234.0      8247.0      9624.0   \n",
       "1848    2.0    2.0    2.0    2.0     37549.0     40603.0     39676.0   \n",
       "1231    0.0    0.0    0.0    0.0     11049.0     57301.0     59375.0   \n",
       "969     0.0    0.0    0.0    2.0    128671.0    129901.0    127658.0   \n",
       "\n",
       "      bill_amt_4  bill_amt_5  bill_amt_6  pay_amt_1  pay_amt_2  pay_amt_3  \\\n",
       "1613     11151.0     11219.0     18120.0     1301.0    11151.0        0.0   \n",
       "430      18395.0     18386.0     18420.0     2000.0    20000.0      700.0   \n",
       "1640      3306.0      3551.0      5577.0        0.0     3510.0        0.0   \n",
       "1436      8692.0      9541.0      9885.0     1200.0        0.0     1200.0   \n",
       "547      28351.0     28571.0     23400.0     2001.0     1600.0      600.0   \n",
       "...          ...         ...         ...        ...        ...        ...   \n",
       "48      290135.0    293350.0    300623.0    10010.0    11500.0    11015.0   \n",
       "772      20129.0     10388.0     13316.0     1137.0     1514.0     1069.0   \n",
       "1848     42407.0     41428.0     45576.0     4000.0        0.0     3700.0   \n",
       "1231     60216.0     59842.0     46882.0    57301.0     3000.0     2600.0   \n",
       "969     127362.0    128726.0    129081.0     7000.0     4710.0     4500.0   \n",
       "\n",
       "      pay_amt_4  pay_amt_5  pay_amt_6      age_cat  \n",
       "1613      600.0     8120.0     1500.0  Young Adult  \n",
       "430       665.0      727.0      505.0        Adult  \n",
       "1640      300.0     2260.0     2000.0   Middle Age  \n",
       "1436     1000.0      500.0      500.0  Young Adult  \n",
       "547      1000.0      468.0        0.0        Adult  \n",
       "...         ...        ...        ...          ...  \n",
       "48      11000.0    12000.0    23035.0   Middle Age  \n",
       "772       278.0     3000.0        0.0  Young Adult  \n",
       "1848        0.0     5000.0     2000.0        Adult  \n",
       "1231     1000.0     1817.0    11022.0        Adult  \n",
       "969      9400.0     3600.0     5500.0   Middle Age  \n",
       "\n",
       "[1541 rows x 23 columns]"
      ]
     },
     "execution_count": 1157,
     "metadata": {},
     "output_type": "execute_result"
    }
   ],
   "source": [
    "# num_col = X_train_trimmed.select_dtypes(include=np.number).columns.tolist()\n",
    "# cat_col = X_train_trimmed.select_dtypes(include='object').columns.tolist()\n",
    "X_train_trimmed"
   ]
  },
  {
   "cell_type": "code",
   "execution_count": 1158,
   "metadata": {},
   "outputs": [
    {
     "data": {
      "text/plain": [
       "Index(['limit_balance', 'sex', 'education_level', 'marital_status', 'pay_1',\n",
       "       'pay_2', 'pay_3', 'pay_4', 'pay_5', 'pay_6', 'bill_amt_1', 'bill_amt_2',\n",
       "       'bill_amt_3', 'bill_amt_4', 'bill_amt_5', 'bill_amt_6', 'pay_amt_1',\n",
       "       'pay_amt_2', 'pay_amt_3', 'pay_amt_4', 'pay_amt_5', 'pay_amt_6',\n",
       "       'age_cat'],\n",
       "      dtype='object')"
      ]
     },
     "execution_count": 1158,
     "metadata": {},
     "output_type": "execute_result"
    }
   ],
   "source": [
    "X_train_trimmed.columns"
   ]
  },
  {
   "cell_type": "code",
   "execution_count": 1159,
   "metadata": {},
   "outputs": [],
   "source": [
    "num_col_skew = ['limit_balance', \n",
    "                'bill_amt_1', 'bill_amt_2', 'bill_amt_3', 'bill_amt_4', 'bill_amt_5', 'bill_amt_6', \n",
    "                'pay_amt_1', 'pay_amt_2', 'pay_amt_3', 'pay_amt_4', 'pay_amt_5', 'pay_amt_6']\n",
    "cat_col_ordinal = ['pay_1', 'pay_2', 'pay_3', 'pay_4', 'pay_5', 'pay_6']\n",
    "cat_col_nominal = ['age_cat', 'sex', 'education_level', 'marital_status']"
   ]
  },
  {
   "cell_type": "code",
   "execution_count": 1160,
   "metadata": {},
   "outputs": [],
   "source": [
    "X_train_num_s = X_train_trimmed[num_col_skew]\n",
    "X_train_cat_o = X_train_trimmed[cat_col_ordinal]\n",
    "X_train_cat_n = X_train_trimmed[cat_col_nominal]\n",
    "\n",
    "X_test_num_s = X_test[num_col_skew]\n",
    "X_test_cat_o = X_test[cat_col_ordinal]\n",
    "X_test_cat_n = X_test[cat_col_nominal]"
   ]
  },
  {
   "cell_type": "markdown",
   "metadata": {},
   "source": [
    "Numerical and Categorical column has been successfully splitted both in train-set and test-set."
   ]
  },
  {
   "cell_type": "markdown",
   "metadata": {},
   "source": [
    "## 5.7 - Feature Scaling"
   ]
  },
  {
   "cell_type": "markdown",
   "metadata": {},
   "source": [
    "## 5.7.1 - Scaling Skew Data"
   ]
  },
  {
   "cell_type": "code",
   "execution_count": 1161,
   "metadata": {},
   "outputs": [
    {
     "data": {
      "text/html": [
       "<style>#sk-container-id-118 {color: black;}#sk-container-id-118 pre{padding: 0;}#sk-container-id-118 div.sk-toggleable {background-color: white;}#sk-container-id-118 label.sk-toggleable__label {cursor: pointer;display: block;width: 100%;margin-bottom: 0;padding: 0.3em;box-sizing: border-box;text-align: center;}#sk-container-id-118 label.sk-toggleable__label-arrow:before {content: \"▸\";float: left;margin-right: 0.25em;color: #696969;}#sk-container-id-118 label.sk-toggleable__label-arrow:hover:before {color: black;}#sk-container-id-118 div.sk-estimator:hover label.sk-toggleable__label-arrow:before {color: black;}#sk-container-id-118 div.sk-toggleable__content {max-height: 0;max-width: 0;overflow: hidden;text-align: left;background-color: #f0f8ff;}#sk-container-id-118 div.sk-toggleable__content pre {margin: 0.2em;color: black;border-radius: 0.25em;background-color: #f0f8ff;}#sk-container-id-118 input.sk-toggleable__control:checked~div.sk-toggleable__content {max-height: 200px;max-width: 100%;overflow: auto;}#sk-container-id-118 input.sk-toggleable__control:checked~label.sk-toggleable__label-arrow:before {content: \"▾\";}#sk-container-id-118 div.sk-estimator input.sk-toggleable__control:checked~label.sk-toggleable__label {background-color: #d4ebff;}#sk-container-id-118 div.sk-label input.sk-toggleable__control:checked~label.sk-toggleable__label {background-color: #d4ebff;}#sk-container-id-118 input.sk-hidden--visually {border: 0;clip: rect(1px 1px 1px 1px);clip: rect(1px, 1px, 1px, 1px);height: 1px;margin: -1px;overflow: hidden;padding: 0;position: absolute;width: 1px;}#sk-container-id-118 div.sk-estimator {font-family: monospace;background-color: #f0f8ff;border: 1px dotted black;border-radius: 0.25em;box-sizing: border-box;margin-bottom: 0.5em;}#sk-container-id-118 div.sk-estimator:hover {background-color: #d4ebff;}#sk-container-id-118 div.sk-parallel-item::after {content: \"\";width: 100%;border-bottom: 1px solid gray;flex-grow: 1;}#sk-container-id-118 div.sk-label:hover label.sk-toggleable__label {background-color: #d4ebff;}#sk-container-id-118 div.sk-serial::before {content: \"\";position: absolute;border-left: 1px solid gray;box-sizing: border-box;top: 0;bottom: 0;left: 50%;z-index: 0;}#sk-container-id-118 div.sk-serial {display: flex;flex-direction: column;align-items: center;background-color: white;padding-right: 0.2em;padding-left: 0.2em;position: relative;}#sk-container-id-118 div.sk-item {position: relative;z-index: 1;}#sk-container-id-118 div.sk-parallel {display: flex;align-items: stretch;justify-content: center;background-color: white;position: relative;}#sk-container-id-118 div.sk-item::before, #sk-container-id-118 div.sk-parallel-item::before {content: \"\";position: absolute;border-left: 1px solid gray;box-sizing: border-box;top: 0;bottom: 0;left: 50%;z-index: -1;}#sk-container-id-118 div.sk-parallel-item {display: flex;flex-direction: column;z-index: 1;position: relative;background-color: white;}#sk-container-id-118 div.sk-parallel-item:first-child::after {align-self: flex-end;width: 50%;}#sk-container-id-118 div.sk-parallel-item:last-child::after {align-self: flex-start;width: 50%;}#sk-container-id-118 div.sk-parallel-item:only-child::after {width: 0;}#sk-container-id-118 div.sk-dashed-wrapped {border: 1px dashed gray;margin: 0 0.4em 0.5em 0.4em;box-sizing: border-box;padding-bottom: 0.4em;background-color: white;}#sk-container-id-118 div.sk-label label {font-family: monospace;font-weight: bold;display: inline-block;line-height: 1.2em;}#sk-container-id-118 div.sk-label-container {text-align: center;}#sk-container-id-118 div.sk-container {/* jupyter's `normalize.less` sets `[hidden] { display: none; }` but bootstrap.min.css set `[hidden] { display: none !important; }` so we also need the `!important` here to be able to override the default hidden behavior on the sphinx rendered scikit-learn.org. See: https://github.com/scikit-learn/scikit-learn/issues/21755 */display: inline-block !important;position: relative;}#sk-container-id-118 div.sk-text-repr-fallback {display: none;}</style><div id=\"sk-container-id-118\" class=\"sk-top-container\"><div class=\"sk-text-repr-fallback\"><pre>MinMaxScaler()</pre><b>In a Jupyter environment, please rerun this cell to show the HTML representation or trust the notebook. <br />On GitHub, the HTML representation is unable to render, please try loading this page with nbviewer.org.</b></div><div class=\"sk-container\" hidden><div class=\"sk-item\"><div class=\"sk-estimator sk-toggleable\"><input class=\"sk-toggleable__control sk-hidden--visually\" id=\"sk-estimator-id-258\" type=\"checkbox\" checked><label for=\"sk-estimator-id-258\" class=\"sk-toggleable__label sk-toggleable__label-arrow\">MinMaxScaler</label><div class=\"sk-toggleable__content\"><pre>MinMaxScaler()</pre></div></div></div></div></div>"
      ],
      "text/plain": [
       "MinMaxScaler()"
      ]
     },
     "execution_count": 1161,
     "metadata": {},
     "output_type": "execute_result"
    }
   ],
   "source": [
    "#Scaling Numerical Column with Skew Data\n",
    "scaler_mm = MinMaxScaler()\n",
    "scaler_mm.fit(X_train_num_s)"
   ]
  },
  {
   "cell_type": "markdown",
   "metadata": {},
   "source": [
    "Because the numeric data distribution is not normal or skewed, so we use `MinMaxScaler` to scale the data."
   ]
  },
  {
   "cell_type": "code",
   "execution_count": 1162,
   "metadata": {},
   "outputs": [],
   "source": [
    "X_train_num_s_scaled = scaler_mm.transform(X_train_num_s)\n",
    "X_test_num_s_scaled = scaler_mm.transform(X_test_num_s)"
   ]
  },
  {
   "cell_type": "code",
   "execution_count": 1163,
   "metadata": {},
   "outputs": [
    {
     "data": {
      "text/plain": [
       "array([[0.02272727, 0.00511468, 0.13981668, ..., 0.0035286 , 0.03628807,\n",
       "        0.00874258],\n",
       "       [0.09090909, 0.05748346, 0.16741762, ..., 0.00391087, 0.00324894,\n",
       "        0.00294334],\n",
       "       [0.        , 0.01351825, 0.13755774, ..., 0.0017643 , 0.01009988,\n",
       "        0.01165678],\n",
       "       ...,\n",
       "       [0.11363636, 0.08167618, 0.21965563, ..., 0.        , 0.02234487,\n",
       "        0.01165678],\n",
       "       [0.75      , 0.02706741, 0.25357632, ..., 0.005881  , 0.00812013,\n",
       "        0.0642405 ],\n",
       "       [0.27272727, 0.26945206, 0.40105756, ..., 0.05528144, 0.01608831,\n",
       "        0.03205614]])"
      ]
     },
     "execution_count": 1163,
     "metadata": {},
     "output_type": "execute_result"
    }
   ],
   "source": [
    "X_train_num_s_scaled"
   ]
  },
  {
   "cell_type": "markdown",
   "metadata": {},
   "source": [
    "Numerical data has been successfully scaled."
   ]
  },
  {
   "cell_type": "markdown",
   "metadata": {},
   "source": [
    "## 5.8 - Feature Encoding"
   ]
  },
  {
   "cell_type": "markdown",
   "metadata": {},
   "source": [
    "### 5.8.1 - Encoding Ordinal"
   ]
  },
  {
   "cell_type": "code",
   "execution_count": 1164,
   "metadata": {},
   "outputs": [
    {
     "data": {
      "text/html": [
       "<div>\n",
       "<style scoped>\n",
       "    .dataframe tbody tr th:only-of-type {\n",
       "        vertical-align: middle;\n",
       "    }\n",
       "\n",
       "    .dataframe tbody tr th {\n",
       "        vertical-align: top;\n",
       "    }\n",
       "\n",
       "    .dataframe thead th {\n",
       "        text-align: right;\n",
       "    }\n",
       "</style>\n",
       "<table border=\"1\" class=\"dataframe\">\n",
       "  <thead>\n",
       "    <tr style=\"text-align: right;\">\n",
       "      <th></th>\n",
       "      <th>pay_1</th>\n",
       "      <th>pay_2</th>\n",
       "      <th>pay_3</th>\n",
       "      <th>pay_4</th>\n",
       "      <th>pay_5</th>\n",
       "      <th>pay_6</th>\n",
       "    </tr>\n",
       "  </thead>\n",
       "  <tbody>\n",
       "    <tr>\n",
       "      <th>1613</th>\n",
       "      <td>-1.0</td>\n",
       "      <td>-1.0</td>\n",
       "      <td>-1.0</td>\n",
       "      <td>2.0</td>\n",
       "      <td>0.0</td>\n",
       "      <td>0.0</td>\n",
       "    </tr>\n",
       "    <tr>\n",
       "      <th>430</th>\n",
       "      <td>0.0</td>\n",
       "      <td>0.0</td>\n",
       "      <td>0.0</td>\n",
       "      <td>0.0</td>\n",
       "      <td>0.0</td>\n",
       "      <td>0.0</td>\n",
       "    </tr>\n",
       "    <tr>\n",
       "      <th>1640</th>\n",
       "      <td>1.0</td>\n",
       "      <td>2.0</td>\n",
       "      <td>-1.0</td>\n",
       "      <td>2.0</td>\n",
       "      <td>0.0</td>\n",
       "      <td>0.0</td>\n",
       "    </tr>\n",
       "    <tr>\n",
       "      <th>1436</th>\n",
       "      <td>1.0</td>\n",
       "      <td>2.0</td>\n",
       "      <td>2.0</td>\n",
       "      <td>0.0</td>\n",
       "      <td>0.0</td>\n",
       "      <td>0.0</td>\n",
       "    </tr>\n",
       "    <tr>\n",
       "      <th>547</th>\n",
       "      <td>0.0</td>\n",
       "      <td>0.0</td>\n",
       "      <td>0.0</td>\n",
       "      <td>0.0</td>\n",
       "      <td>0.0</td>\n",
       "      <td>0.0</td>\n",
       "    </tr>\n",
       "    <tr>\n",
       "      <th>...</th>\n",
       "      <td>...</td>\n",
       "      <td>...</td>\n",
       "      <td>...</td>\n",
       "      <td>...</td>\n",
       "      <td>...</td>\n",
       "      <td>...</td>\n",
       "    </tr>\n",
       "    <tr>\n",
       "      <th>48</th>\n",
       "      <td>0.0</td>\n",
       "      <td>0.0</td>\n",
       "      <td>0.0</td>\n",
       "      <td>0.0</td>\n",
       "      <td>0.0</td>\n",
       "      <td>0.0</td>\n",
       "    </tr>\n",
       "    <tr>\n",
       "      <th>772</th>\n",
       "      <td>0.0</td>\n",
       "      <td>0.0</td>\n",
       "      <td>0.0</td>\n",
       "      <td>0.0</td>\n",
       "      <td>0.0</td>\n",
       "      <td>0.0</td>\n",
       "    </tr>\n",
       "    <tr>\n",
       "      <th>1848</th>\n",
       "      <td>0.0</td>\n",
       "      <td>0.0</td>\n",
       "      <td>2.0</td>\n",
       "      <td>2.0</td>\n",
       "      <td>2.0</td>\n",
       "      <td>2.0</td>\n",
       "    </tr>\n",
       "    <tr>\n",
       "      <th>1231</th>\n",
       "      <td>0.0</td>\n",
       "      <td>-1.0</td>\n",
       "      <td>0.0</td>\n",
       "      <td>0.0</td>\n",
       "      <td>0.0</td>\n",
       "      <td>0.0</td>\n",
       "    </tr>\n",
       "    <tr>\n",
       "      <th>969</th>\n",
       "      <td>0.0</td>\n",
       "      <td>0.0</td>\n",
       "      <td>0.0</td>\n",
       "      <td>0.0</td>\n",
       "      <td>0.0</td>\n",
       "      <td>2.0</td>\n",
       "    </tr>\n",
       "  </tbody>\n",
       "</table>\n",
       "<p>1541 rows × 6 columns</p>\n",
       "</div>"
      ],
      "text/plain": [
       "      pay_1  pay_2  pay_3  pay_4  pay_5  pay_6\n",
       "1613   -1.0   -1.0   -1.0    2.0    0.0    0.0\n",
       "430     0.0    0.0    0.0    0.0    0.0    0.0\n",
       "1640    1.0    2.0   -1.0    2.0    0.0    0.0\n",
       "1436    1.0    2.0    2.0    0.0    0.0    0.0\n",
       "547     0.0    0.0    0.0    0.0    0.0    0.0\n",
       "...     ...    ...    ...    ...    ...    ...\n",
       "48      0.0    0.0    0.0    0.0    0.0    0.0\n",
       "772     0.0    0.0    0.0    0.0    0.0    0.0\n",
       "1848    0.0    0.0    2.0    2.0    2.0    2.0\n",
       "1231    0.0   -1.0    0.0    0.0    0.0    0.0\n",
       "969     0.0    0.0    0.0    0.0    0.0    2.0\n",
       "\n",
       "[1541 rows x 6 columns]"
      ]
     },
     "execution_count": 1164,
     "metadata": {},
     "output_type": "execute_result"
    }
   ],
   "source": [
    "X_train_cat_o"
   ]
  },
  {
   "cell_type": "code",
   "execution_count": 1165,
   "metadata": {},
   "outputs": [],
   "source": [
    "# X_train_cat_o_object = X_train_cat_o.copy()\n",
    "# X_train_cat_o_object = X_train_cat_o_object.astype(int).astype(str)\n",
    "\n",
    "# X_test_cat_o_object = X_test_cat_o.copy()\n",
    "# X_test_cat_o_object = X_test_cat_o_object.astype(int).astype(str)"
   ]
  },
  {
   "cell_type": "code",
   "execution_count": 1166,
   "metadata": {},
   "outputs": [],
   "source": [
    "# pay_order_l_t_h = ['-2', '-1', '0', '1', '2', '3', '4', '5', '6']\n",
    "# pay_order_h_t_l = ['6', '5', '4', '3', '2', '1', '0', '-1', '-2']\n",
    "# pay_order = [pay_order_l_t_h, pay_order_l_t_h, pay_order_l_t_h, pay_order_l_t_h, pay_order_l_t_h, pay_order_l_t_h]\n",
    "age_order = ['Children', 'Young Adult', 'Adult', 'Middle Age', 'Old Age']\n",
    "od_order = [age_order]"
   ]
  },
  {
   "cell_type": "code",
   "execution_count": 1167,
   "metadata": {},
   "outputs": [],
   "source": [
    "# od_encoder = OrdinalEncoder(categories=od_order)\n",
    "# od_encoder.fit(X_train_cat_o[['age_cat']])"
   ]
  },
  {
   "cell_type": "code",
   "execution_count": 1168,
   "metadata": {},
   "outputs": [],
   "source": [
    "# X_train_cat_o_encoded = od_encoder.transform(X_train_cat_o[['age_cat']])\n",
    "# X_test_cat_o_encoded = od_encoder.transform(X_test_cat_o[['age_cat']])\n",
    "X_train_cat_o_encoded = X_train_cat_o\n",
    "X_test_cat_o_encoded = X_test_cat_o"
   ]
  },
  {
   "cell_type": "code",
   "execution_count": 1169,
   "metadata": {},
   "outputs": [],
   "source": [
    "# X_train_cat_o_no_age = X_train_cat_o[['pay_1', 'pay_2', 'pay_3', 'pay_4', 'pay_5', 'pay_6']]\n",
    "# X_test_cat_o_no_age = X_test_cat_o[['pay_1', 'pay_2', 'pay_3', 'pay_4', 'pay_5', 'pay_6']]\n",
    "\n",
    "# X_train_cat_o_encoded = np.concatenate([X_train_cat_o_encoded, X_train_cat_o_no_age], axis=1)\n",
    "# X_test_cat_o_encoded = np.concatenate([X_test_cat_o_encoded, X_test_cat_o_no_age], axis=1)"
   ]
  },
  {
   "cell_type": "markdown",
   "metadata": {},
   "source": [
    "We decide to not encode column pay_1 to pay_6 because it already a numerical -2 until 6."
   ]
  },
  {
   "cell_type": "markdown",
   "metadata": {},
   "source": [
    "### 5.8.2 - Encoding Nominal"
   ]
  },
  {
   "cell_type": "code",
   "execution_count": 1170,
   "metadata": {},
   "outputs": [
    {
     "data": {
      "text/html": [
       "<div>\n",
       "<style scoped>\n",
       "    .dataframe tbody tr th:only-of-type {\n",
       "        vertical-align: middle;\n",
       "    }\n",
       "\n",
       "    .dataframe tbody tr th {\n",
       "        vertical-align: top;\n",
       "    }\n",
       "\n",
       "    .dataframe thead th {\n",
       "        text-align: right;\n",
       "    }\n",
       "</style>\n",
       "<table border=\"1\" class=\"dataframe\">\n",
       "  <thead>\n",
       "    <tr style=\"text-align: right;\">\n",
       "      <th></th>\n",
       "      <th>age_cat</th>\n",
       "      <th>sex</th>\n",
       "      <th>education_level</th>\n",
       "      <th>marital_status</th>\n",
       "    </tr>\n",
       "  </thead>\n",
       "  <tbody>\n",
       "    <tr>\n",
       "      <th>1613</th>\n",
       "      <td>Young Adult</td>\n",
       "      <td>2</td>\n",
       "      <td>2</td>\n",
       "      <td>2</td>\n",
       "    </tr>\n",
       "    <tr>\n",
       "      <th>430</th>\n",
       "      <td>Adult</td>\n",
       "      <td>1</td>\n",
       "      <td>2</td>\n",
       "      <td>1</td>\n",
       "    </tr>\n",
       "    <tr>\n",
       "      <th>1640</th>\n",
       "      <td>Middle Age</td>\n",
       "      <td>2</td>\n",
       "      <td>3</td>\n",
       "      <td>2</td>\n",
       "    </tr>\n",
       "    <tr>\n",
       "      <th>1436</th>\n",
       "      <td>Young Adult</td>\n",
       "      <td>1</td>\n",
       "      <td>2</td>\n",
       "      <td>2</td>\n",
       "    </tr>\n",
       "    <tr>\n",
       "      <th>547</th>\n",
       "      <td>Adult</td>\n",
       "      <td>1</td>\n",
       "      <td>2</td>\n",
       "      <td>2</td>\n",
       "    </tr>\n",
       "    <tr>\n",
       "      <th>...</th>\n",
       "      <td>...</td>\n",
       "      <td>...</td>\n",
       "      <td>...</td>\n",
       "      <td>...</td>\n",
       "    </tr>\n",
       "    <tr>\n",
       "      <th>48</th>\n",
       "      <td>Middle Age</td>\n",
       "      <td>1</td>\n",
       "      <td>1</td>\n",
       "      <td>2</td>\n",
       "    </tr>\n",
       "    <tr>\n",
       "      <th>772</th>\n",
       "      <td>Young Adult</td>\n",
       "      <td>2</td>\n",
       "      <td>2</td>\n",
       "      <td>2</td>\n",
       "    </tr>\n",
       "    <tr>\n",
       "      <th>1848</th>\n",
       "      <td>Adult</td>\n",
       "      <td>2</td>\n",
       "      <td>2</td>\n",
       "      <td>1</td>\n",
       "    </tr>\n",
       "    <tr>\n",
       "      <th>1231</th>\n",
       "      <td>Adult</td>\n",
       "      <td>2</td>\n",
       "      <td>3</td>\n",
       "      <td>1</td>\n",
       "    </tr>\n",
       "    <tr>\n",
       "      <th>969</th>\n",
       "      <td>Middle Age</td>\n",
       "      <td>2</td>\n",
       "      <td>2</td>\n",
       "      <td>1</td>\n",
       "    </tr>\n",
       "  </tbody>\n",
       "</table>\n",
       "<p>1541 rows × 4 columns</p>\n",
       "</div>"
      ],
      "text/plain": [
       "          age_cat  sex  education_level  marital_status\n",
       "1613  Young Adult    2                2               2\n",
       "430         Adult    1                2               1\n",
       "1640   Middle Age    2                3               2\n",
       "1436  Young Adult    1                2               2\n",
       "547         Adult    1                2               2\n",
       "...           ...  ...              ...             ...\n",
       "48     Middle Age    1                1               2\n",
       "772   Young Adult    2                2               2\n",
       "1848        Adult    2                2               1\n",
       "1231        Adult    2                3               1\n",
       "969    Middle Age    2                2               1\n",
       "\n",
       "[1541 rows x 4 columns]"
      ]
     },
     "execution_count": 1170,
     "metadata": {},
     "output_type": "execute_result"
    }
   ],
   "source": [
    "X_train_cat_n"
   ]
  },
  {
   "cell_type": "code",
   "execution_count": 1171,
   "metadata": {},
   "outputs": [
    {
     "data": {
      "text/html": [
       "<style>#sk-container-id-119 {color: black;}#sk-container-id-119 pre{padding: 0;}#sk-container-id-119 div.sk-toggleable {background-color: white;}#sk-container-id-119 label.sk-toggleable__label {cursor: pointer;display: block;width: 100%;margin-bottom: 0;padding: 0.3em;box-sizing: border-box;text-align: center;}#sk-container-id-119 label.sk-toggleable__label-arrow:before {content: \"▸\";float: left;margin-right: 0.25em;color: #696969;}#sk-container-id-119 label.sk-toggleable__label-arrow:hover:before {color: black;}#sk-container-id-119 div.sk-estimator:hover label.sk-toggleable__label-arrow:before {color: black;}#sk-container-id-119 div.sk-toggleable__content {max-height: 0;max-width: 0;overflow: hidden;text-align: left;background-color: #f0f8ff;}#sk-container-id-119 div.sk-toggleable__content pre {margin: 0.2em;color: black;border-radius: 0.25em;background-color: #f0f8ff;}#sk-container-id-119 input.sk-toggleable__control:checked~div.sk-toggleable__content {max-height: 200px;max-width: 100%;overflow: auto;}#sk-container-id-119 input.sk-toggleable__control:checked~label.sk-toggleable__label-arrow:before {content: \"▾\";}#sk-container-id-119 div.sk-estimator input.sk-toggleable__control:checked~label.sk-toggleable__label {background-color: #d4ebff;}#sk-container-id-119 div.sk-label input.sk-toggleable__control:checked~label.sk-toggleable__label {background-color: #d4ebff;}#sk-container-id-119 input.sk-hidden--visually {border: 0;clip: rect(1px 1px 1px 1px);clip: rect(1px, 1px, 1px, 1px);height: 1px;margin: -1px;overflow: hidden;padding: 0;position: absolute;width: 1px;}#sk-container-id-119 div.sk-estimator {font-family: monospace;background-color: #f0f8ff;border: 1px dotted black;border-radius: 0.25em;box-sizing: border-box;margin-bottom: 0.5em;}#sk-container-id-119 div.sk-estimator:hover {background-color: #d4ebff;}#sk-container-id-119 div.sk-parallel-item::after {content: \"\";width: 100%;border-bottom: 1px solid gray;flex-grow: 1;}#sk-container-id-119 div.sk-label:hover label.sk-toggleable__label {background-color: #d4ebff;}#sk-container-id-119 div.sk-serial::before {content: \"\";position: absolute;border-left: 1px solid gray;box-sizing: border-box;top: 0;bottom: 0;left: 50%;z-index: 0;}#sk-container-id-119 div.sk-serial {display: flex;flex-direction: column;align-items: center;background-color: white;padding-right: 0.2em;padding-left: 0.2em;position: relative;}#sk-container-id-119 div.sk-item {position: relative;z-index: 1;}#sk-container-id-119 div.sk-parallel {display: flex;align-items: stretch;justify-content: center;background-color: white;position: relative;}#sk-container-id-119 div.sk-item::before, #sk-container-id-119 div.sk-parallel-item::before {content: \"\";position: absolute;border-left: 1px solid gray;box-sizing: border-box;top: 0;bottom: 0;left: 50%;z-index: -1;}#sk-container-id-119 div.sk-parallel-item {display: flex;flex-direction: column;z-index: 1;position: relative;background-color: white;}#sk-container-id-119 div.sk-parallel-item:first-child::after {align-self: flex-end;width: 50%;}#sk-container-id-119 div.sk-parallel-item:last-child::after {align-self: flex-start;width: 50%;}#sk-container-id-119 div.sk-parallel-item:only-child::after {width: 0;}#sk-container-id-119 div.sk-dashed-wrapped {border: 1px dashed gray;margin: 0 0.4em 0.5em 0.4em;box-sizing: border-box;padding-bottom: 0.4em;background-color: white;}#sk-container-id-119 div.sk-label label {font-family: monospace;font-weight: bold;display: inline-block;line-height: 1.2em;}#sk-container-id-119 div.sk-label-container {text-align: center;}#sk-container-id-119 div.sk-container {/* jupyter's `normalize.less` sets `[hidden] { display: none; }` but bootstrap.min.css set `[hidden] { display: none !important; }` so we also need the `!important` here to be able to override the default hidden behavior on the sphinx rendered scikit-learn.org. See: https://github.com/scikit-learn/scikit-learn/issues/21755 */display: inline-block !important;position: relative;}#sk-container-id-119 div.sk-text-repr-fallback {display: none;}</style><div id=\"sk-container-id-119\" class=\"sk-top-container\"><div class=\"sk-text-repr-fallback\"><pre>OneHotEncoder(handle_unknown=&#x27;ignore&#x27;)</pre><b>In a Jupyter environment, please rerun this cell to show the HTML representation or trust the notebook. <br />On GitHub, the HTML representation is unable to render, please try loading this page with nbviewer.org.</b></div><div class=\"sk-container\" hidden><div class=\"sk-item\"><div class=\"sk-estimator sk-toggleable\"><input class=\"sk-toggleable__control sk-hidden--visually\" id=\"sk-estimator-id-259\" type=\"checkbox\" checked><label for=\"sk-estimator-id-259\" class=\"sk-toggleable__label sk-toggleable__label-arrow\">OneHotEncoder</label><div class=\"sk-toggleable__content\"><pre>OneHotEncoder(handle_unknown=&#x27;ignore&#x27;)</pre></div></div></div></div></div>"
      ],
      "text/plain": [
       "OneHotEncoder(handle_unknown='ignore')"
      ]
     },
     "execution_count": 1171,
     "metadata": {},
     "output_type": "execute_result"
    }
   ],
   "source": [
    "oh_encoder = OneHotEncoder(handle_unknown='ignore')\n",
    "oh_encoder.fit(X_train_cat_n)"
   ]
  },
  {
   "cell_type": "code",
   "execution_count": 1172,
   "metadata": {},
   "outputs": [],
   "source": [
    "X_train_cat_n_encoded = oh_encoder.transform(X_train_cat_n).toarray()\n",
    "X_test_cat_n_encoded = oh_encoder.transform(X_test_cat_n).toarray()"
   ]
  },
  {
   "cell_type": "markdown",
   "metadata": {},
   "source": [
    "## 5.9 Merge Data"
   ]
  },
  {
   "cell_type": "code",
   "execution_count": 1173,
   "metadata": {},
   "outputs": [],
   "source": [
    "X_train_final = np.concatenate([X_train_num_s_scaled, X_train_cat_o_encoded, X_train_cat_n_encoded], axis=1)\n",
    "X_test_final = np.concatenate([X_test_num_s_scaled, X_test_cat_o_encoded, X_test_cat_n_encoded], axis=1)"
   ]
  },
  {
   "cell_type": "code",
   "execution_count": 1174,
   "metadata": {},
   "outputs": [
    {
     "name": "stdout",
     "output_type": "stream",
     "text": [
      "[[0.02272727 0.00511468 0.13981668 ... 0.         1.         0.        ]\n",
      " [0.09090909 0.05748346 0.16741762 ... 1.         0.         0.        ]\n",
      " [0.         0.01351825 0.13755774 ... 0.         1.         0.        ]\n",
      " ...\n",
      " [0.11363636 0.08167618 0.21965563 ... 1.         0.         0.        ]\n",
      " [0.75       0.02706741 0.25357632 ... 1.         0.         0.        ]\n",
      " [0.27272727 0.26945206 0.40105756 ... 1.         0.         0.        ]]\n"
     ]
    }
   ],
   "source": [
    "print(X_train_final)"
   ]
  },
  {
   "cell_type": "markdown",
   "metadata": {},
   "source": [
    "# 6 - Model Definition"
   ]
  },
  {
   "cell_type": "markdown",
   "metadata": {},
   "source": [
    "## 6.1 - Logistic Regression"
   ]
  },
  {
   "cell_type": "code",
   "execution_count": 1175,
   "metadata": {},
   "outputs": [],
   "source": [
    "model_logreg = LogisticRegression()"
   ]
  },
  {
   "cell_type": "markdown",
   "metadata": {},
   "source": [
    "## 6.2 - SVM"
   ]
  },
  {
   "cell_type": "code",
   "execution_count": 1176,
   "metadata": {},
   "outputs": [],
   "source": [
    "model_svm = SVC()"
   ]
  },
  {
   "cell_type": "markdown",
   "metadata": {},
   "source": [
    "## 6.3 - KNN"
   ]
  },
  {
   "cell_type": "code",
   "execution_count": 1177,
   "metadata": {},
   "outputs": [],
   "source": [
    "model_knn = KNeighborsClassifier(n_neighbors=3)"
   ]
  },
  {
   "cell_type": "markdown",
   "metadata": {},
   "source": [
    "# 7 - Model Training"
   ]
  },
  {
   "cell_type": "markdown",
   "metadata": {},
   "source": [
    "## 7.1 - Logistic Regression Training"
   ]
  },
  {
   "cell_type": "code",
   "execution_count": 1178,
   "metadata": {},
   "outputs": [
    {
     "data": {
      "text/html": [
       "<style>#sk-container-id-120 {color: black;}#sk-container-id-120 pre{padding: 0;}#sk-container-id-120 div.sk-toggleable {background-color: white;}#sk-container-id-120 label.sk-toggleable__label {cursor: pointer;display: block;width: 100%;margin-bottom: 0;padding: 0.3em;box-sizing: border-box;text-align: center;}#sk-container-id-120 label.sk-toggleable__label-arrow:before {content: \"▸\";float: left;margin-right: 0.25em;color: #696969;}#sk-container-id-120 label.sk-toggleable__label-arrow:hover:before {color: black;}#sk-container-id-120 div.sk-estimator:hover label.sk-toggleable__label-arrow:before {color: black;}#sk-container-id-120 div.sk-toggleable__content {max-height: 0;max-width: 0;overflow: hidden;text-align: left;background-color: #f0f8ff;}#sk-container-id-120 div.sk-toggleable__content pre {margin: 0.2em;color: black;border-radius: 0.25em;background-color: #f0f8ff;}#sk-container-id-120 input.sk-toggleable__control:checked~div.sk-toggleable__content {max-height: 200px;max-width: 100%;overflow: auto;}#sk-container-id-120 input.sk-toggleable__control:checked~label.sk-toggleable__label-arrow:before {content: \"▾\";}#sk-container-id-120 div.sk-estimator input.sk-toggleable__control:checked~label.sk-toggleable__label {background-color: #d4ebff;}#sk-container-id-120 div.sk-label input.sk-toggleable__control:checked~label.sk-toggleable__label {background-color: #d4ebff;}#sk-container-id-120 input.sk-hidden--visually {border: 0;clip: rect(1px 1px 1px 1px);clip: rect(1px, 1px, 1px, 1px);height: 1px;margin: -1px;overflow: hidden;padding: 0;position: absolute;width: 1px;}#sk-container-id-120 div.sk-estimator {font-family: monospace;background-color: #f0f8ff;border: 1px dotted black;border-radius: 0.25em;box-sizing: border-box;margin-bottom: 0.5em;}#sk-container-id-120 div.sk-estimator:hover {background-color: #d4ebff;}#sk-container-id-120 div.sk-parallel-item::after {content: \"\";width: 100%;border-bottom: 1px solid gray;flex-grow: 1;}#sk-container-id-120 div.sk-label:hover label.sk-toggleable__label {background-color: #d4ebff;}#sk-container-id-120 div.sk-serial::before {content: \"\";position: absolute;border-left: 1px solid gray;box-sizing: border-box;top: 0;bottom: 0;left: 50%;z-index: 0;}#sk-container-id-120 div.sk-serial {display: flex;flex-direction: column;align-items: center;background-color: white;padding-right: 0.2em;padding-left: 0.2em;position: relative;}#sk-container-id-120 div.sk-item {position: relative;z-index: 1;}#sk-container-id-120 div.sk-parallel {display: flex;align-items: stretch;justify-content: center;background-color: white;position: relative;}#sk-container-id-120 div.sk-item::before, #sk-container-id-120 div.sk-parallel-item::before {content: \"\";position: absolute;border-left: 1px solid gray;box-sizing: border-box;top: 0;bottom: 0;left: 50%;z-index: -1;}#sk-container-id-120 div.sk-parallel-item {display: flex;flex-direction: column;z-index: 1;position: relative;background-color: white;}#sk-container-id-120 div.sk-parallel-item:first-child::after {align-self: flex-end;width: 50%;}#sk-container-id-120 div.sk-parallel-item:last-child::after {align-self: flex-start;width: 50%;}#sk-container-id-120 div.sk-parallel-item:only-child::after {width: 0;}#sk-container-id-120 div.sk-dashed-wrapped {border: 1px dashed gray;margin: 0 0.4em 0.5em 0.4em;box-sizing: border-box;padding-bottom: 0.4em;background-color: white;}#sk-container-id-120 div.sk-label label {font-family: monospace;font-weight: bold;display: inline-block;line-height: 1.2em;}#sk-container-id-120 div.sk-label-container {text-align: center;}#sk-container-id-120 div.sk-container {/* jupyter's `normalize.less` sets `[hidden] { display: none; }` but bootstrap.min.css set `[hidden] { display: none !important; }` so we also need the `!important` here to be able to override the default hidden behavior on the sphinx rendered scikit-learn.org. See: https://github.com/scikit-learn/scikit-learn/issues/21755 */display: inline-block !important;position: relative;}#sk-container-id-120 div.sk-text-repr-fallback {display: none;}</style><div id=\"sk-container-id-120\" class=\"sk-top-container\"><div class=\"sk-text-repr-fallback\"><pre>LogisticRegression()</pre><b>In a Jupyter environment, please rerun this cell to show the HTML representation or trust the notebook. <br />On GitHub, the HTML representation is unable to render, please try loading this page with nbviewer.org.</b></div><div class=\"sk-container\" hidden><div class=\"sk-item\"><div class=\"sk-estimator sk-toggleable\"><input class=\"sk-toggleable__control sk-hidden--visually\" id=\"sk-estimator-id-260\" type=\"checkbox\" checked><label for=\"sk-estimator-id-260\" class=\"sk-toggleable__label sk-toggleable__label-arrow\">LogisticRegression</label><div class=\"sk-toggleable__content\"><pre>LogisticRegression()</pre></div></div></div></div></div>"
      ],
      "text/plain": [
       "LogisticRegression()"
      ]
     },
     "execution_count": 1178,
     "metadata": {},
     "output_type": "execute_result"
    }
   ],
   "source": [
    "model_logreg.fit(X_train_final, y_train_trimmed)"
   ]
  },
  {
   "cell_type": "markdown",
   "metadata": {},
   "source": [
    "## 7.2 - SVM Training"
   ]
  },
  {
   "cell_type": "code",
   "execution_count": 1179,
   "metadata": {},
   "outputs": [
    {
     "data": {
      "text/html": [
       "<style>#sk-container-id-121 {color: black;}#sk-container-id-121 pre{padding: 0;}#sk-container-id-121 div.sk-toggleable {background-color: white;}#sk-container-id-121 label.sk-toggleable__label {cursor: pointer;display: block;width: 100%;margin-bottom: 0;padding: 0.3em;box-sizing: border-box;text-align: center;}#sk-container-id-121 label.sk-toggleable__label-arrow:before {content: \"▸\";float: left;margin-right: 0.25em;color: #696969;}#sk-container-id-121 label.sk-toggleable__label-arrow:hover:before {color: black;}#sk-container-id-121 div.sk-estimator:hover label.sk-toggleable__label-arrow:before {color: black;}#sk-container-id-121 div.sk-toggleable__content {max-height: 0;max-width: 0;overflow: hidden;text-align: left;background-color: #f0f8ff;}#sk-container-id-121 div.sk-toggleable__content pre {margin: 0.2em;color: black;border-radius: 0.25em;background-color: #f0f8ff;}#sk-container-id-121 input.sk-toggleable__control:checked~div.sk-toggleable__content {max-height: 200px;max-width: 100%;overflow: auto;}#sk-container-id-121 input.sk-toggleable__control:checked~label.sk-toggleable__label-arrow:before {content: \"▾\";}#sk-container-id-121 div.sk-estimator input.sk-toggleable__control:checked~label.sk-toggleable__label {background-color: #d4ebff;}#sk-container-id-121 div.sk-label input.sk-toggleable__control:checked~label.sk-toggleable__label {background-color: #d4ebff;}#sk-container-id-121 input.sk-hidden--visually {border: 0;clip: rect(1px 1px 1px 1px);clip: rect(1px, 1px, 1px, 1px);height: 1px;margin: -1px;overflow: hidden;padding: 0;position: absolute;width: 1px;}#sk-container-id-121 div.sk-estimator {font-family: monospace;background-color: #f0f8ff;border: 1px dotted black;border-radius: 0.25em;box-sizing: border-box;margin-bottom: 0.5em;}#sk-container-id-121 div.sk-estimator:hover {background-color: #d4ebff;}#sk-container-id-121 div.sk-parallel-item::after {content: \"\";width: 100%;border-bottom: 1px solid gray;flex-grow: 1;}#sk-container-id-121 div.sk-label:hover label.sk-toggleable__label {background-color: #d4ebff;}#sk-container-id-121 div.sk-serial::before {content: \"\";position: absolute;border-left: 1px solid gray;box-sizing: border-box;top: 0;bottom: 0;left: 50%;z-index: 0;}#sk-container-id-121 div.sk-serial {display: flex;flex-direction: column;align-items: center;background-color: white;padding-right: 0.2em;padding-left: 0.2em;position: relative;}#sk-container-id-121 div.sk-item {position: relative;z-index: 1;}#sk-container-id-121 div.sk-parallel {display: flex;align-items: stretch;justify-content: center;background-color: white;position: relative;}#sk-container-id-121 div.sk-item::before, #sk-container-id-121 div.sk-parallel-item::before {content: \"\";position: absolute;border-left: 1px solid gray;box-sizing: border-box;top: 0;bottom: 0;left: 50%;z-index: -1;}#sk-container-id-121 div.sk-parallel-item {display: flex;flex-direction: column;z-index: 1;position: relative;background-color: white;}#sk-container-id-121 div.sk-parallel-item:first-child::after {align-self: flex-end;width: 50%;}#sk-container-id-121 div.sk-parallel-item:last-child::after {align-self: flex-start;width: 50%;}#sk-container-id-121 div.sk-parallel-item:only-child::after {width: 0;}#sk-container-id-121 div.sk-dashed-wrapped {border: 1px dashed gray;margin: 0 0.4em 0.5em 0.4em;box-sizing: border-box;padding-bottom: 0.4em;background-color: white;}#sk-container-id-121 div.sk-label label {font-family: monospace;font-weight: bold;display: inline-block;line-height: 1.2em;}#sk-container-id-121 div.sk-label-container {text-align: center;}#sk-container-id-121 div.sk-container {/* jupyter's `normalize.less` sets `[hidden] { display: none; }` but bootstrap.min.css set `[hidden] { display: none !important; }` so we also need the `!important` here to be able to override the default hidden behavior on the sphinx rendered scikit-learn.org. See: https://github.com/scikit-learn/scikit-learn/issues/21755 */display: inline-block !important;position: relative;}#sk-container-id-121 div.sk-text-repr-fallback {display: none;}</style><div id=\"sk-container-id-121\" class=\"sk-top-container\"><div class=\"sk-text-repr-fallback\"><pre>SVC()</pre><b>In a Jupyter environment, please rerun this cell to show the HTML representation or trust the notebook. <br />On GitHub, the HTML representation is unable to render, please try loading this page with nbviewer.org.</b></div><div class=\"sk-container\" hidden><div class=\"sk-item\"><div class=\"sk-estimator sk-toggleable\"><input class=\"sk-toggleable__control sk-hidden--visually\" id=\"sk-estimator-id-261\" type=\"checkbox\" checked><label for=\"sk-estimator-id-261\" class=\"sk-toggleable__label sk-toggleable__label-arrow\">SVC</label><div class=\"sk-toggleable__content\"><pre>SVC()</pre></div></div></div></div></div>"
      ],
      "text/plain": [
       "SVC()"
      ]
     },
     "execution_count": 1179,
     "metadata": {},
     "output_type": "execute_result"
    }
   ],
   "source": [
    "model_svm.fit(X_train_final, y_train_trimmed)"
   ]
  },
  {
   "cell_type": "markdown",
   "metadata": {},
   "source": [
    "## 7.3 - KNN Training"
   ]
  },
  {
   "cell_type": "code",
   "execution_count": 1180,
   "metadata": {},
   "outputs": [
    {
     "data": {
      "text/html": [
       "<style>#sk-container-id-122 {color: black;}#sk-container-id-122 pre{padding: 0;}#sk-container-id-122 div.sk-toggleable {background-color: white;}#sk-container-id-122 label.sk-toggleable__label {cursor: pointer;display: block;width: 100%;margin-bottom: 0;padding: 0.3em;box-sizing: border-box;text-align: center;}#sk-container-id-122 label.sk-toggleable__label-arrow:before {content: \"▸\";float: left;margin-right: 0.25em;color: #696969;}#sk-container-id-122 label.sk-toggleable__label-arrow:hover:before {color: black;}#sk-container-id-122 div.sk-estimator:hover label.sk-toggleable__label-arrow:before {color: black;}#sk-container-id-122 div.sk-toggleable__content {max-height: 0;max-width: 0;overflow: hidden;text-align: left;background-color: #f0f8ff;}#sk-container-id-122 div.sk-toggleable__content pre {margin: 0.2em;color: black;border-radius: 0.25em;background-color: #f0f8ff;}#sk-container-id-122 input.sk-toggleable__control:checked~div.sk-toggleable__content {max-height: 200px;max-width: 100%;overflow: auto;}#sk-container-id-122 input.sk-toggleable__control:checked~label.sk-toggleable__label-arrow:before {content: \"▾\";}#sk-container-id-122 div.sk-estimator input.sk-toggleable__control:checked~label.sk-toggleable__label {background-color: #d4ebff;}#sk-container-id-122 div.sk-label input.sk-toggleable__control:checked~label.sk-toggleable__label {background-color: #d4ebff;}#sk-container-id-122 input.sk-hidden--visually {border: 0;clip: rect(1px 1px 1px 1px);clip: rect(1px, 1px, 1px, 1px);height: 1px;margin: -1px;overflow: hidden;padding: 0;position: absolute;width: 1px;}#sk-container-id-122 div.sk-estimator {font-family: monospace;background-color: #f0f8ff;border: 1px dotted black;border-radius: 0.25em;box-sizing: border-box;margin-bottom: 0.5em;}#sk-container-id-122 div.sk-estimator:hover {background-color: #d4ebff;}#sk-container-id-122 div.sk-parallel-item::after {content: \"\";width: 100%;border-bottom: 1px solid gray;flex-grow: 1;}#sk-container-id-122 div.sk-label:hover label.sk-toggleable__label {background-color: #d4ebff;}#sk-container-id-122 div.sk-serial::before {content: \"\";position: absolute;border-left: 1px solid gray;box-sizing: border-box;top: 0;bottom: 0;left: 50%;z-index: 0;}#sk-container-id-122 div.sk-serial {display: flex;flex-direction: column;align-items: center;background-color: white;padding-right: 0.2em;padding-left: 0.2em;position: relative;}#sk-container-id-122 div.sk-item {position: relative;z-index: 1;}#sk-container-id-122 div.sk-parallel {display: flex;align-items: stretch;justify-content: center;background-color: white;position: relative;}#sk-container-id-122 div.sk-item::before, #sk-container-id-122 div.sk-parallel-item::before {content: \"\";position: absolute;border-left: 1px solid gray;box-sizing: border-box;top: 0;bottom: 0;left: 50%;z-index: -1;}#sk-container-id-122 div.sk-parallel-item {display: flex;flex-direction: column;z-index: 1;position: relative;background-color: white;}#sk-container-id-122 div.sk-parallel-item:first-child::after {align-self: flex-end;width: 50%;}#sk-container-id-122 div.sk-parallel-item:last-child::after {align-self: flex-start;width: 50%;}#sk-container-id-122 div.sk-parallel-item:only-child::after {width: 0;}#sk-container-id-122 div.sk-dashed-wrapped {border: 1px dashed gray;margin: 0 0.4em 0.5em 0.4em;box-sizing: border-box;padding-bottom: 0.4em;background-color: white;}#sk-container-id-122 div.sk-label label {font-family: monospace;font-weight: bold;display: inline-block;line-height: 1.2em;}#sk-container-id-122 div.sk-label-container {text-align: center;}#sk-container-id-122 div.sk-container {/* jupyter's `normalize.less` sets `[hidden] { display: none; }` but bootstrap.min.css set `[hidden] { display: none !important; }` so we also need the `!important` here to be able to override the default hidden behavior on the sphinx rendered scikit-learn.org. See: https://github.com/scikit-learn/scikit-learn/issues/21755 */display: inline-block !important;position: relative;}#sk-container-id-122 div.sk-text-repr-fallback {display: none;}</style><div id=\"sk-container-id-122\" class=\"sk-top-container\"><div class=\"sk-text-repr-fallback\"><pre>KNeighborsClassifier(n_neighbors=3)</pre><b>In a Jupyter environment, please rerun this cell to show the HTML representation or trust the notebook. <br />On GitHub, the HTML representation is unable to render, please try loading this page with nbviewer.org.</b></div><div class=\"sk-container\" hidden><div class=\"sk-item\"><div class=\"sk-estimator sk-toggleable\"><input class=\"sk-toggleable__control sk-hidden--visually\" id=\"sk-estimator-id-262\" type=\"checkbox\" checked><label for=\"sk-estimator-id-262\" class=\"sk-toggleable__label sk-toggleable__label-arrow\">KNeighborsClassifier</label><div class=\"sk-toggleable__content\"><pre>KNeighborsClassifier(n_neighbors=3)</pre></div></div></div></div></div>"
      ],
      "text/plain": [
       "KNeighborsClassifier(n_neighbors=3)"
      ]
     },
     "execution_count": 1180,
     "metadata": {},
     "output_type": "execute_result"
    }
   ],
   "source": [
    "model_knn.fit(X_train_final, y_train_trimmed)"
   ]
  },
  {
   "cell_type": "markdown",
   "metadata": {},
   "source": [
    "# 8 - Model Evaluation"
   ]
  },
  {
   "cell_type": "markdown",
   "metadata": {},
   "source": [
    "## 8.1 - Logistic Regression"
   ]
  },
  {
   "cell_type": "code",
   "execution_count": 1181,
   "metadata": {},
   "outputs": [
    {
     "name": "stdout",
     "output_type": "stream",
     "text": [
      "              precision    recall  f1-score   support\n",
      "\n",
      "           0       0.84      0.95      0.89      1169\n",
      "           1       0.74      0.45      0.56       372\n",
      "\n",
      "    accuracy                           0.83      1541\n",
      "   macro avg       0.79      0.70      0.73      1541\n",
      "weighted avg       0.82      0.83      0.81      1541\n",
      "\n",
      "              precision    recall  f1-score   support\n",
      "\n",
      "           0       0.85      0.91      0.88       300\n",
      "           1       0.66      0.52      0.58        99\n",
      "\n",
      "    accuracy                           0.81       399\n",
      "   macro avg       0.76      0.71      0.73       399\n",
      "weighted avg       0.80      0.81      0.81       399\n",
      "\n",
      "Precision Score Train - LogReg :  0.7433628318584071\n",
      "Precision Score Test - LogReg :  0.6623376623376623\n"
     ]
    }
   ],
   "source": [
    "# Predict Train and test set\n",
    "y_pred_train_lg = model_logreg.predict(X_train_final)\n",
    "y_pred_test_lg = model_logreg.predict(X_test_final)\n",
    "# print('Accuracy - Train Set : ', model_logreg.score(X_train_final, y_train_trimmed))\n",
    "# print('Accuracy - Test Set  : ', model_logreg.score(X_test_final, y_test))\n",
    "print(classification_report(y_train_trimmed, y_pred_train_lg))\n",
    "print(classification_report(y_test, y_pred_test_lg))\n",
    "print('Precision Score Train - LogReg : ', precision_score(y_train_trimmed, y_pred_train_lg))\n",
    "print('Precision Score Test - LogReg : ', precision_score(y_test, y_pred_test_lg))"
   ]
  },
  {
   "cell_type": "code",
   "execution_count": 1182,
   "metadata": {},
   "outputs": [
    {
     "data": {
      "text/plain": [
       "<sklearn.metrics._plot.confusion_matrix.ConfusionMatrixDisplay at 0x20b8d0d1b50>"
      ]
     },
     "execution_count": 1182,
     "metadata": {},
     "output_type": "execute_result"
    },
    {
     "data": {
      "image/png": "[encoded data removed]",
      "text/plain": [
       "<Figure size 640x480 with 2 Axes>"
      ]
     },
     "metadata": {},
     "output_type": "display_data"
    }
   ],
   "source": [
    "cm_train = confusion_matrix(y_train_trimmed, y_pred_train_lg)\n",
    "ConfusionMatrixDisplay(cm_train).plot()"
   ]
  },
  {
   "cell_type": "markdown",
   "metadata": {},
   "source": [
    "Using Logistic Regression with default hyperparameter we got `Precision` Score 0.75 for train set and 0.66 for test set. This is kinda bad result for a model, let's check using `Cross Validation` if this model is really bad or just coincidence."
   ]
  },
  {
   "cell_type": "markdown",
   "metadata": {},
   "source": [
    "Check result using cross validation mean give almost the same value as train-set prediction rate. About 0.73, so it's not coincedence the model is bad, most likely because the data for target (y) is imbalanced."
   ]
  },
  {
   "cell_type": "markdown",
   "metadata": {},
   "source": [
    "## 8.2 - SVM"
   ]
  },
  {
   "cell_type": "code",
   "execution_count": 1183,
   "metadata": {},
   "outputs": [
    {
     "name": "stdout",
     "output_type": "stream",
     "text": [
      "              precision    recall  f1-score   support\n",
      "\n",
      "           0       0.87      0.96      0.91      1169\n",
      "           1       0.80      0.55      0.65       372\n",
      "\n",
      "    accuracy                           0.86      1541\n",
      "   macro avg       0.84      0.75      0.78      1541\n",
      "weighted avg       0.85      0.86      0.85      1541\n",
      "\n",
      "              precision    recall  f1-score   support\n",
      "\n",
      "           0       0.86      0.92      0.89       300\n",
      "           1       0.69      0.57      0.62        99\n",
      "\n",
      "    accuracy                           0.83       399\n",
      "   macro avg       0.78      0.74      0.76       399\n",
      "weighted avg       0.82      0.83      0.82       399\n",
      "\n",
      "Precision - SVM :  0.803921568627451\n",
      "Precision - SVM :  0.691358024691358\n"
     ]
    }
   ],
   "source": [
    "# Predict Train and test set\n",
    "y_pred_train_svm = model_svm.predict(X_train_final)\n",
    "y_pred_test_svm = model_svm.predict(X_test_final)\n",
    "\n",
    "print(classification_report(y_train_trimmed, y_pred_train_svm))\n",
    "print(classification_report(y_test, y_pred_test_svm))\n",
    "print('Precision - SVM : ', precision_score(y_train_trimmed, y_pred_train_svm))\n",
    "print('Precision - SVM : ', precision_score(y_test, y_pred_test_svm))"
   ]
  },
  {
   "cell_type": "code",
   "execution_count": 1184,
   "metadata": {},
   "outputs": [
    {
     "data": {
      "text/plain": [
       "<sklearn.metrics._plot.confusion_matrix.ConfusionMatrixDisplay at 0x20b8d0304d0>"
      ]
     },
     "execution_count": 1184,
     "metadata": {},
     "output_type": "execute_result"
    },
    {
     "data": {
      "image/png": "[encoded data removed]",
      "text/plain": [
       "<Figure size 640x480 with 2 Axes>"
      ]
     },
     "metadata": {},
     "output_type": "display_data"
    }
   ],
   "source": [
    "cm_train = confusion_matrix(y_train_trimmed, y_pred_train_svm)\n",
    "ConfusionMatrixDisplay(cm_train).plot()"
   ]
  },
  {
   "cell_type": "markdown",
   "metadata": {},
   "source": [
    "Using SVM with default hyperparameter we got worst `precision` compared to Logistic Regression which is 0.73 for train set and 0.64 for test set. Let's check using `KNN` Model."
   ]
  },
  {
   "cell_type": "markdown",
   "metadata": {},
   "source": [
    "## 8.3 - KNN"
   ]
  },
  {
   "cell_type": "code",
   "execution_count": 1185,
   "metadata": {},
   "outputs": [
    {
     "name": "stdout",
     "output_type": "stream",
     "text": [
      "              precision    recall  f1-score   support\n",
      "\n",
      "           0       0.88      0.95      0.91      1169\n",
      "           1       0.79      0.61      0.69       372\n",
      "\n",
      "    accuracy                           0.87      1541\n",
      "   macro avg       0.84      0.78      0.80      1541\n",
      "weighted avg       0.86      0.87      0.86      1541\n",
      "\n",
      "              precision    recall  f1-score   support\n",
      "\n",
      "           0       0.86      0.87      0.86       300\n",
      "           1       0.59      0.57      0.58        99\n",
      "\n",
      "    accuracy                           0.79       399\n",
      "   macro avg       0.72      0.72      0.72       399\n",
      "weighted avg       0.79      0.79      0.79       399\n",
      "\n",
      "Precision - SVM :  0.7874564459930313\n",
      "Precision - SVM :  0.5894736842105263\n"
     ]
    }
   ],
   "source": [
    "# Predict Train and test set\n",
    "y_pred_train_knn = model_knn.predict(X_train_final)\n",
    "y_pred_test_knn = model_knn.predict(X_test_final)\n",
    "\n",
    "print(classification_report(y_train_trimmed, y_pred_train_knn))\n",
    "print(classification_report(y_test, y_pred_test_knn))\n",
    "print('Precision - SVM : ', precision_score(y_train_trimmed, y_pred_train_knn))\n",
    "print('Precision - SVM : ', precision_score(y_test, y_pred_test_knn))"
   ]
  },
  {
   "cell_type": "code",
   "execution_count": 1186,
   "metadata": {},
   "outputs": [
    {
     "data": {
      "text/plain": [
       "<sklearn.metrics._plot.confusion_matrix.ConfusionMatrixDisplay at 0x20b8d04d990>"
      ]
     },
     "execution_count": 1186,
     "metadata": {},
     "output_type": "execute_result"
    },
    {
     "data": {
      "image/png": "[encoded data removed]",
      "text/plain": [
       "<Figure size 640x480 with 2 Axes>"
      ]
     },
     "metadata": {},
     "output_type": "display_data"
    }
   ],
   "source": [
    "cm_train = confusion_matrix(y_train_trimmed, y_pred_train_knn)\n",
    "ConfusionMatrixDisplay(cm_train).plot()"
   ]
  },
  {
   "cell_type": "markdown",
   "metadata": {},
   "source": [
    "Using KNN Model with default hyperparameter we got better `precision` for train set compared to SVM which is 0.81 but the test set is much worst at 0.53. The model seems to overfitting. Overall all the model give bad result, so we will try to improve it with hyperparameter tuning."
   ]
  },
  {
   "cell_type": "markdown",
   "metadata": {},
   "source": [
    "# 9 - Model Improvement"
   ]
  },
  {
   "cell_type": "markdown",
   "metadata": {},
   "source": [
    "## 9.1 - Logistic Regression"
   ]
  },
  {
   "cell_type": "code",
   "execution_count": 1187,
   "metadata": {},
   "outputs": [],
   "source": [
    "#Create Param Tuning for Logistic Regression\n",
    "grid_search_params_LR = {\n",
    "    'penalty': ['l1', 'l2', 'elasticnet'],\n",
    "    'dual': [True, False],\n",
    "    'C': [0.1, 1, 50],\n",
    "    'fit_intercept': [True, False],\n",
    "    # 'intercept_scaling': [0.30, 0.35],\n",
    "    'solver': ['saga', 'liblinear'],\n",
    "    'verbose': [0, 1],\n",
    "    'l1_ratio': [0.1, 0.2],\n",
    "    'max_iter': [2, 3, 4],\n",
    "    'multi_class': ['auto','ovr','multinomial'],\n",
    "    'random_state': [5]\n",
    "}"
   ]
  },
  {
   "cell_type": "code",
   "execution_count": 1188,
   "metadata": {},
   "outputs": [
    {
     "name": "stdout",
     "output_type": "stream",
     "text": [
      "Fitting 3 folds for each of 2592 candidates, totalling 7776 fits\n"
     ]
    },
    {
     "data": {
      "text/html": [
       "<style>#sk-container-id-123 {color: black;}#sk-container-id-123 pre{padding: 0;}#sk-container-id-123 div.sk-toggleable {background-color: white;}#sk-container-id-123 label.sk-toggleable__label {cursor: pointer;display: block;width: 100%;margin-bottom: 0;padding: 0.3em;box-sizing: border-box;text-align: center;}#sk-container-id-123 label.sk-toggleable__label-arrow:before {content: \"▸\";float: left;margin-right: 0.25em;color: #696969;}#sk-container-id-123 label.sk-toggleable__label-arrow:hover:before {color: black;}#sk-container-id-123 div.sk-estimator:hover label.sk-toggleable__label-arrow:before {color: black;}#sk-container-id-123 div.sk-toggleable__content {max-height: 0;max-width: 0;overflow: hidden;text-align: left;background-color: #f0f8ff;}#sk-container-id-123 div.sk-toggleable__content pre {margin: 0.2em;color: black;border-radius: 0.25em;background-color: #f0f8ff;}#sk-container-id-123 input.sk-toggleable__control:checked~div.sk-toggleable__content {max-height: 200px;max-width: 100%;overflow: auto;}#sk-container-id-123 input.sk-toggleable__control:checked~label.sk-toggleable__label-arrow:before {content: \"▾\";}#sk-container-id-123 div.sk-estimator input.sk-toggleable__control:checked~label.sk-toggleable__label {background-color: #d4ebff;}#sk-container-id-123 div.sk-label input.sk-toggleable__control:checked~label.sk-toggleable__label {background-color: #d4ebff;}#sk-container-id-123 input.sk-hidden--visually {border: 0;clip: rect(1px 1px 1px 1px);clip: rect(1px, 1px, 1px, 1px);height: 1px;margin: -1px;overflow: hidden;padding: 0;position: absolute;width: 1px;}#sk-container-id-123 div.sk-estimator {font-family: monospace;background-color: #f0f8ff;border: 1px dotted black;border-radius: 0.25em;box-sizing: border-box;margin-bottom: 0.5em;}#sk-container-id-123 div.sk-estimator:hover {background-color: #d4ebff;}#sk-container-id-123 div.sk-parallel-item::after {content: \"\";width: 100%;border-bottom: 1px solid gray;flex-grow: 1;}#sk-container-id-123 div.sk-label:hover label.sk-toggleable__label {background-color: #d4ebff;}#sk-container-id-123 div.sk-serial::before {content: \"\";position: absolute;border-left: 1px solid gray;box-sizing: border-box;top: 0;bottom: 0;left: 50%;z-index: 0;}#sk-container-id-123 div.sk-serial {display: flex;flex-direction: column;align-items: center;background-color: white;padding-right: 0.2em;padding-left: 0.2em;position: relative;}#sk-container-id-123 div.sk-item {position: relative;z-index: 1;}#sk-container-id-123 div.sk-parallel {display: flex;align-items: stretch;justify-content: center;background-color: white;position: relative;}#sk-container-id-123 div.sk-item::before, #sk-container-id-123 div.sk-parallel-item::before {content: \"\";position: absolute;border-left: 1px solid gray;box-sizing: border-box;top: 0;bottom: 0;left: 50%;z-index: -1;}#sk-container-id-123 div.sk-parallel-item {display: flex;flex-direction: column;z-index: 1;position: relative;background-color: white;}#sk-container-id-123 div.sk-parallel-item:first-child::after {align-self: flex-end;width: 50%;}#sk-container-id-123 div.sk-parallel-item:last-child::after {align-self: flex-start;width: 50%;}#sk-container-id-123 div.sk-parallel-item:only-child::after {width: 0;}#sk-container-id-123 div.sk-dashed-wrapped {border: 1px dashed gray;margin: 0 0.4em 0.5em 0.4em;box-sizing: border-box;padding-bottom: 0.4em;background-color: white;}#sk-container-id-123 div.sk-label label {font-family: monospace;font-weight: bold;display: inline-block;line-height: 1.2em;}#sk-container-id-123 div.sk-label-container {text-align: center;}#sk-container-id-123 div.sk-container {/* jupyter's `normalize.less` sets `[hidden] { display: none; }` but bootstrap.min.css set `[hidden] { display: none !important; }` so we also need the `!important` here to be able to override the default hidden behavior on the sphinx rendered scikit-learn.org. See: https://github.com/scikit-learn/scikit-learn/issues/21755 */display: inline-block !important;position: relative;}#sk-container-id-123 div.sk-text-repr-fallback {display: none;}</style><div id=\"sk-container-id-123\" class=\"sk-top-container\"><div class=\"sk-text-repr-fallback\"><pre>GridSearchCV(cv=3, estimator=LogisticRegression(), n_jobs=-1,\n",
       "             param_grid={&#x27;C&#x27;: [0.1, 1, 50], &#x27;dual&#x27;: [True, False],\n",
       "                         &#x27;fit_intercept&#x27;: [True, False], &#x27;l1_ratio&#x27;: [0.1, 0.2],\n",
       "                         &#x27;max_iter&#x27;: [2, 3, 4],\n",
       "                         &#x27;multi_class&#x27;: [&#x27;auto&#x27;, &#x27;ovr&#x27;, &#x27;multinomial&#x27;],\n",
       "                         &#x27;penalty&#x27;: [&#x27;l1&#x27;, &#x27;l2&#x27;, &#x27;elasticnet&#x27;],\n",
       "                         &#x27;random_state&#x27;: [5], &#x27;solver&#x27;: [&#x27;saga&#x27;, &#x27;liblinear&#x27;],\n",
       "                         &#x27;verbose&#x27;: [0, 1]},\n",
       "             scoring=&#x27;precision&#x27;, verbose=2)</pre><b>In a Jupyter environment, please rerun this cell to show the HTML representation or trust the notebook. <br />On GitHub, the HTML representation is unable to render, please try loading this page with nbviewer.org.</b></div><div class=\"sk-container\" hidden><div class=\"sk-item sk-dashed-wrapped\"><div class=\"sk-label-container\"><div class=\"sk-label sk-toggleable\"><input class=\"sk-toggleable__control sk-hidden--visually\" id=\"sk-estimator-id-263\" type=\"checkbox\" ><label for=\"sk-estimator-id-263\" class=\"sk-toggleable__label sk-toggleable__label-arrow\">GridSearchCV</label><div class=\"sk-toggleable__content\"><pre>GridSearchCV(cv=3, estimator=LogisticRegression(), n_jobs=-1,\n",
       "             param_grid={&#x27;C&#x27;: [0.1, 1, 50], &#x27;dual&#x27;: [True, False],\n",
       "                         &#x27;fit_intercept&#x27;: [True, False], &#x27;l1_ratio&#x27;: [0.1, 0.2],\n",
       "                         &#x27;max_iter&#x27;: [2, 3, 4],\n",
       "                         &#x27;multi_class&#x27;: [&#x27;auto&#x27;, &#x27;ovr&#x27;, &#x27;multinomial&#x27;],\n",
       "                         &#x27;penalty&#x27;: [&#x27;l1&#x27;, &#x27;l2&#x27;, &#x27;elasticnet&#x27;],\n",
       "                         &#x27;random_state&#x27;: [5], &#x27;solver&#x27;: [&#x27;saga&#x27;, &#x27;liblinear&#x27;],\n",
       "                         &#x27;verbose&#x27;: [0, 1]},\n",
       "             scoring=&#x27;precision&#x27;, verbose=2)</pre></div></div></div><div class=\"sk-parallel\"><div class=\"sk-parallel-item\"><div class=\"sk-item\"><div class=\"sk-label-container\"><div class=\"sk-label sk-toggleable\"><input class=\"sk-toggleable__control sk-hidden--visually\" id=\"sk-estimator-id-264\" type=\"checkbox\" ><label for=\"sk-estimator-id-264\" class=\"sk-toggleable__label sk-toggleable__label-arrow\">estimator: LogisticRegression</label><div class=\"sk-toggleable__content\"><pre>LogisticRegression()</pre></div></div></div><div class=\"sk-serial\"><div class=\"sk-item\"><div class=\"sk-estimator sk-toggleable\"><input class=\"sk-toggleable__control sk-hidden--visually\" id=\"sk-estimator-id-265\" type=\"checkbox\" ><label for=\"sk-estimator-id-265\" class=\"sk-toggleable__label sk-toggleable__label-arrow\">LogisticRegression</label><div class=\"sk-toggleable__content\"><pre>LogisticRegression()</pre></div></div></div></div></div></div></div></div></div></div>"
      ],
      "text/plain": [
       "GridSearchCV(cv=3, estimator=LogisticRegression(), n_jobs=-1,\n",
       "             param_grid={'C': [0.1, 1, 50], 'dual': [True, False],\n",
       "                         'fit_intercept': [True, False], 'l1_ratio': [0.1, 0.2],\n",
       "                         'max_iter': [2, 3, 4],\n",
       "                         'multi_class': ['auto', 'ovr', 'multinomial'],\n",
       "                         'penalty': ['l1', 'l2', 'elasticnet'],\n",
       "                         'random_state': [5], 'solver': ['saga', 'liblinear'],\n",
       "                         'verbose': [0, 1]},\n",
       "             scoring='precision', verbose=2)"
      ]
     },
     "execution_count": 1188,
     "metadata": {},
     "output_type": "execute_result"
    }
   ],
   "source": [
    "lr_gridcv = GridSearchCV(estimator=LogisticRegression(), param_grid=grid_search_params_LR, cv=3, n_jobs=-1, verbose=2, scoring='precision')\n",
    "lr_gridcv.fit(X_train_final, y_train_trimmed)"
   ]
  },
  {
   "cell_type": "code",
   "execution_count": 1189,
   "metadata": {},
   "outputs": [
    {
     "data": {
      "text/plain": [
       "{'C': 0.1,\n",
       " 'dual': False,\n",
       " 'fit_intercept': True,\n",
       " 'l1_ratio': 0.1,\n",
       " 'max_iter': 3,\n",
       " 'multi_class': 'multinomial',\n",
       " 'penalty': 'l1',\n",
       " 'random_state': 5,\n",
       " 'solver': 'saga',\n",
       " 'verbose': 0}"
      ]
     },
     "execution_count": 1189,
     "metadata": {},
     "output_type": "execute_result"
    }
   ],
   "source": [
    "lr_gridcv.best_params_\n",
    "#{'C': 0.1, 'l1_ratio': 0.1, 'penalty': 'l1', 'solver': 'saga', 'verbose': 0}"
   ]
  },
  {
   "cell_type": "code",
   "execution_count": 1190,
   "metadata": {},
   "outputs": [],
   "source": [
    "lr_gridcv_best = lr_gridcv.best_estimator_"
   ]
  },
  {
   "cell_type": "code",
   "execution_count": 1191,
   "metadata": {},
   "outputs": [
    {
     "name": "stdout",
     "output_type": "stream",
     "text": [
      "              precision    recall  f1-score   support\n",
      "\n",
      "           0       0.83      0.95      0.89      1169\n",
      "           1       0.73      0.38      0.50       372\n",
      "\n",
      "    accuracy                           0.82      1541\n",
      "   macro avg       0.78      0.67      0.70      1541\n",
      "weighted avg       0.80      0.82      0.79      1541\n",
      "\n",
      "              precision    recall  f1-score   support\n",
      "\n",
      "           0       0.84      0.93      0.88       300\n",
      "           1       0.68      0.47      0.56        99\n",
      "\n",
      "    accuracy                           0.81       399\n",
      "   macro avg       0.76      0.70      0.72       399\n",
      "weighted avg       0.80      0.81      0.80       399\n",
      "\n",
      "Precision Score Train - LogReg :  0.7258883248730964\n",
      "Precision Score Test - LogReg:  0.6811594202898551\n"
     ]
    }
   ],
   "source": [
    "y_pred_train_lg = lr_gridcv_best.predict(X_train_final)\n",
    "y_pred_test_lg = lr_gridcv_best.predict(X_test_final)\n",
    "\n",
    "print(classification_report(y_train_trimmed, y_pred_train_lg))\n",
    "print(classification_report(y_test, y_pred_test_lg))\n",
    "print('Precision Score Train - LogReg : ', precision_score(y_train_trimmed, y_pred_train_lg))\n",
    "print('Precision Score Test - LogReg: ', precision_score(y_test, y_pred_test_lg))"
   ]
  },
  {
   "cell_type": "markdown",
   "metadata": {},
   "source": [
    "After we use severall hyperparameter tuning, we found hyperparameter that work best for `Logistic Regression` model. The result is better than the baseline model, from 0.74 - 0.66 Train-Set to 0.72 - 0.68 Train-Set. But let's check another model using different hyperparameter."
   ]
  },
  {
   "cell_type": "code",
   "execution_count": 1192,
   "metadata": {},
   "outputs": [
    {
     "name": "stdout",
     "output_type": "stream",
     "text": [
      "Precision Train - All - Cross Validation  :  [0.72972973 0.83870968 0.72093023 0.59375    0.76086957]\n",
      "Precision Train - Mean - Cross Validation :  0.7287978409849231\n"
     ]
    }
   ],
   "source": [
    "precision_train_cross_val = cross_val_score(lr_gridcv_best, X_train_final, y_train_trimmed, cv=5, scoring=\"precision\")\n",
    "print('Precision Train - All - Cross Validation  : ', precision_train_cross_val)\n",
    "print('Precision Train - Mean - Cross Validation : ', precision_train_cross_val.mean())"
   ]
  },
  {
   "cell_type": "markdown",
   "metadata": {},
   "source": [
    "Check result using `cross validation` mean give almost the same value as train-set prediction rate. About 0.76, so the model result is not coincedence."
   ]
  },
  {
   "cell_type": "markdown",
   "metadata": {},
   "source": [
    "## 9.2 - SVM"
   ]
  },
  {
   "cell_type": "code",
   "execution_count": 1193,
   "metadata": {},
   "outputs": [],
   "source": [
    "#Create Param Tuning for SVM\n",
    "grid_search_params_SVM = {\n",
    "    'kernel': ['rbf'],\n",
    "    'C': [0.1, 1, 50, 200, 500],\n",
    "    'gamma': [0.1, 1, 50, 200, 500]\n",
    "}"
   ]
  },
  {
   "cell_type": "code",
   "execution_count": 1194,
   "metadata": {},
   "outputs": [
    {
     "name": "stdout",
     "output_type": "stream",
     "text": [
      "Fitting 5 folds for each of 25 candidates, totalling 125 fits\n"
     ]
    },
    {
     "data": {
      "text/html": [
       "<style>#sk-container-id-124 {color: black;}#sk-container-id-124 pre{padding: 0;}#sk-container-id-124 div.sk-toggleable {background-color: white;}#sk-container-id-124 label.sk-toggleable__label {cursor: pointer;display: block;width: 100%;margin-bottom: 0;padding: 0.3em;box-sizing: border-box;text-align: center;}#sk-container-id-124 label.sk-toggleable__label-arrow:before {content: \"▸\";float: left;margin-right: 0.25em;color: #696969;}#sk-container-id-124 label.sk-toggleable__label-arrow:hover:before {color: black;}#sk-container-id-124 div.sk-estimator:hover label.sk-toggleable__label-arrow:before {color: black;}#sk-container-id-124 div.sk-toggleable__content {max-height: 0;max-width: 0;overflow: hidden;text-align: left;background-color: #f0f8ff;}#sk-container-id-124 div.sk-toggleable__content pre {margin: 0.2em;color: black;border-radius: 0.25em;background-color: #f0f8ff;}#sk-container-id-124 input.sk-toggleable__control:checked~div.sk-toggleable__content {max-height: 200px;max-width: 100%;overflow: auto;}#sk-container-id-124 input.sk-toggleable__control:checked~label.sk-toggleable__label-arrow:before {content: \"▾\";}#sk-container-id-124 div.sk-estimator input.sk-toggleable__control:checked~label.sk-toggleable__label {background-color: #d4ebff;}#sk-container-id-124 div.sk-label input.sk-toggleable__control:checked~label.sk-toggleable__label {background-color: #d4ebff;}#sk-container-id-124 input.sk-hidden--visually {border: 0;clip: rect(1px 1px 1px 1px);clip: rect(1px, 1px, 1px, 1px);height: 1px;margin: -1px;overflow: hidden;padding: 0;position: absolute;width: 1px;}#sk-container-id-124 div.sk-estimator {font-family: monospace;background-color: #f0f8ff;border: 1px dotted black;border-radius: 0.25em;box-sizing: border-box;margin-bottom: 0.5em;}#sk-container-id-124 div.sk-estimator:hover {background-color: #d4ebff;}#sk-container-id-124 div.sk-parallel-item::after {content: \"\";width: 100%;border-bottom: 1px solid gray;flex-grow: 1;}#sk-container-id-124 div.sk-label:hover label.sk-toggleable__label {background-color: #d4ebff;}#sk-container-id-124 div.sk-serial::before {content: \"\";position: absolute;border-left: 1px solid gray;box-sizing: border-box;top: 0;bottom: 0;left: 50%;z-index: 0;}#sk-container-id-124 div.sk-serial {display: flex;flex-direction: column;align-items: center;background-color: white;padding-right: 0.2em;padding-left: 0.2em;position: relative;}#sk-container-id-124 div.sk-item {position: relative;z-index: 1;}#sk-container-id-124 div.sk-parallel {display: flex;align-items: stretch;justify-content: center;background-color: white;position: relative;}#sk-container-id-124 div.sk-item::before, #sk-container-id-124 div.sk-parallel-item::before {content: \"\";position: absolute;border-left: 1px solid gray;box-sizing: border-box;top: 0;bottom: 0;left: 50%;z-index: -1;}#sk-container-id-124 div.sk-parallel-item {display: flex;flex-direction: column;z-index: 1;position: relative;background-color: white;}#sk-container-id-124 div.sk-parallel-item:first-child::after {align-self: flex-end;width: 50%;}#sk-container-id-124 div.sk-parallel-item:last-child::after {align-self: flex-start;width: 50%;}#sk-container-id-124 div.sk-parallel-item:only-child::after {width: 0;}#sk-container-id-124 div.sk-dashed-wrapped {border: 1px dashed gray;margin: 0 0.4em 0.5em 0.4em;box-sizing: border-box;padding-bottom: 0.4em;background-color: white;}#sk-container-id-124 div.sk-label label {font-family: monospace;font-weight: bold;display: inline-block;line-height: 1.2em;}#sk-container-id-124 div.sk-label-container {text-align: center;}#sk-container-id-124 div.sk-container {/* jupyter's `normalize.less` sets `[hidden] { display: none; }` but bootstrap.min.css set `[hidden] { display: none !important; }` so we also need the `!important` here to be able to override the default hidden behavior on the sphinx rendered scikit-learn.org. See: https://github.com/scikit-learn/scikit-learn/issues/21755 */display: inline-block !important;position: relative;}#sk-container-id-124 div.sk-text-repr-fallback {display: none;}</style><div id=\"sk-container-id-124\" class=\"sk-top-container\"><div class=\"sk-text-repr-fallback\"><pre>GridSearchCV(cv=5, estimator=SVC(), n_jobs=-1,\n",
       "             param_grid={&#x27;C&#x27;: [0.1, 1, 50, 200, 500],\n",
       "                         &#x27;gamma&#x27;: [0.1, 1, 50, 200, 500], &#x27;kernel&#x27;: [&#x27;rbf&#x27;]},\n",
       "             scoring=&#x27;precision&#x27;, verbose=2)</pre><b>In a Jupyter environment, please rerun this cell to show the HTML representation or trust the notebook. <br />On GitHub, the HTML representation is unable to render, please try loading this page with nbviewer.org.</b></div><div class=\"sk-container\" hidden><div class=\"sk-item sk-dashed-wrapped\"><div class=\"sk-label-container\"><div class=\"sk-label sk-toggleable\"><input class=\"sk-toggleable__control sk-hidden--visually\" id=\"sk-estimator-id-266\" type=\"checkbox\" ><label for=\"sk-estimator-id-266\" class=\"sk-toggleable__label sk-toggleable__label-arrow\">GridSearchCV</label><div class=\"sk-toggleable__content\"><pre>GridSearchCV(cv=5, estimator=SVC(), n_jobs=-1,\n",
       "             param_grid={&#x27;C&#x27;: [0.1, 1, 50, 200, 500],\n",
       "                         &#x27;gamma&#x27;: [0.1, 1, 50, 200, 500], &#x27;kernel&#x27;: [&#x27;rbf&#x27;]},\n",
       "             scoring=&#x27;precision&#x27;, verbose=2)</pre></div></div></div><div class=\"sk-parallel\"><div class=\"sk-parallel-item\"><div class=\"sk-item\"><div class=\"sk-label-container\"><div class=\"sk-label sk-toggleable\"><input class=\"sk-toggleable__control sk-hidden--visually\" id=\"sk-estimator-id-267\" type=\"checkbox\" ><label for=\"sk-estimator-id-267\" class=\"sk-toggleable__label sk-toggleable__label-arrow\">estimator: SVC</label><div class=\"sk-toggleable__content\"><pre>SVC()</pre></div></div></div><div class=\"sk-serial\"><div class=\"sk-item\"><div class=\"sk-estimator sk-toggleable\"><input class=\"sk-toggleable__control sk-hidden--visually\" id=\"sk-estimator-id-268\" type=\"checkbox\" ><label for=\"sk-estimator-id-268\" class=\"sk-toggleable__label sk-toggleable__label-arrow\">SVC</label><div class=\"sk-toggleable__content\"><pre>SVC()</pre></div></div></div></div></div></div></div></div></div></div>"
      ],
      "text/plain": [
       "GridSearchCV(cv=5, estimator=SVC(), n_jobs=-1,\n",
       "             param_grid={'C': [0.1, 1, 50, 200, 500],\n",
       "                         'gamma': [0.1, 1, 50, 200, 500], 'kernel': ['rbf']},\n",
       "             scoring='precision', verbose=2)"
      ]
     },
     "execution_count": 1194,
     "metadata": {},
     "output_type": "execute_result"
    }
   ],
   "source": [
    "svm_gridcv = GridSearchCV(estimator=SVC(), param_grid=grid_search_params_SVM, cv=5, n_jobs=-1, verbose=2, scoring='precision')\n",
    "svm_gridcv.fit(X_train_final, y_train_trimmed)"
   ]
  },
  {
   "cell_type": "code",
   "execution_count": 1195,
   "metadata": {},
   "outputs": [
    {
     "data": {
      "text/plain": [
       "{'C': 0.1, 'gamma': 0.1, 'kernel': 'rbf'}"
      ]
     },
     "execution_count": 1195,
     "metadata": {},
     "output_type": "execute_result"
    }
   ],
   "source": [
    "svm_gridcv.best_params_"
   ]
  },
  {
   "cell_type": "code",
   "execution_count": 1196,
   "metadata": {},
   "outputs": [],
   "source": [
    "svm_gridcv_best = svm_gridcv.best_estimator_"
   ]
  },
  {
   "cell_type": "code",
   "execution_count": 1197,
   "metadata": {},
   "outputs": [
    {
     "name": "stdout",
     "output_type": "stream",
     "text": [
      "              precision    recall  f1-score   support\n",
      "\n",
      "           0       0.85      0.96      0.90      1169\n",
      "           1       0.78      0.45      0.57       372\n",
      "\n",
      "    accuracy                           0.84      1541\n",
      "   macro avg       0.81      0.71      0.74      1541\n",
      "weighted avg       0.83      0.84      0.82      1541\n",
      "\n",
      "              precision    recall  f1-score   support\n",
      "\n",
      "           0       0.84      0.92      0.88       300\n",
      "           1       0.66      0.47      0.55        99\n",
      "\n",
      "    accuracy                           0.81       399\n",
      "   macro avg       0.75      0.70      0.72       399\n",
      "weighted avg       0.80      0.81      0.80       399\n",
      "\n",
      "Precision Score Train - SVM :  0.7752293577981652\n",
      "Precision Score Test - SVM :  0.6619718309859155\n"
     ]
    }
   ],
   "source": [
    "y_pred_train_svm = svm_gridcv_best.predict(X_train_final)\n",
    "y_pred_test_svm = svm_gridcv_best.predict(X_test_final)\n",
    "\n",
    "print(classification_report(y_train_trimmed, y_pred_train_svm))\n",
    "print(classification_report(y_test, y_pred_test_svm))\n",
    "print('Precision Score Train - SVM : ', precision_score(y_train_trimmed, y_pred_train_svm))\n",
    "print('Precision Score Test - SVM : ', precision_score(y_test, y_pred_test_svm))"
   ]
  },
  {
   "cell_type": "markdown",
   "metadata": {},
   "source": [
    "After we use severall hyperparameter tuning, we found hyperparameter that work best for `SVM` model. The result is bit better than the baseline SVM model, but it's still overfit. So we will check another model using different hyperparameter."
   ]
  },
  {
   "cell_type": "markdown",
   "metadata": {},
   "source": [
    "## 9.3 - KNN"
   ]
  },
  {
   "cell_type": "code",
   "execution_count": 1198,
   "metadata": {},
   "outputs": [],
   "source": [
    "#Create Param Tuning for KNN 15, 50\n",
    "grid_search_params_KNN = {\n",
    "    'n_neighbors': [11, 13, 15],\n",
    "    'weights': ['uniform', 'distance'],\n",
    "    'algorithm': ['auto', 'ball_tree', 'kd_tree', 'brute'],\n",
    "    'p': [1, 2]\n",
    "}"
   ]
  },
  {
   "cell_type": "code",
   "execution_count": 1199,
   "metadata": {},
   "outputs": [
    {
     "name": "stdout",
     "output_type": "stream",
     "text": [
      "Fitting 5 folds for each of 48 candidates, totalling 240 fits\n"
     ]
    },
    {
     "data": {
      "text/html": [
       "<style>#sk-container-id-125 {color: black;}#sk-container-id-125 pre{padding: 0;}#sk-container-id-125 div.sk-toggleable {background-color: white;}#sk-container-id-125 label.sk-toggleable__label {cursor: pointer;display: block;width: 100%;margin-bottom: 0;padding: 0.3em;box-sizing: border-box;text-align: center;}#sk-container-id-125 label.sk-toggleable__label-arrow:before {content: \"▸\";float: left;margin-right: 0.25em;color: #696969;}#sk-container-id-125 label.sk-toggleable__label-arrow:hover:before {color: black;}#sk-container-id-125 div.sk-estimator:hover label.sk-toggleable__label-arrow:before {color: black;}#sk-container-id-125 div.sk-toggleable__content {max-height: 0;max-width: 0;overflow: hidden;text-align: left;background-color: #f0f8ff;}#sk-container-id-125 div.sk-toggleable__content pre {margin: 0.2em;color: black;border-radius: 0.25em;background-color: #f0f8ff;}#sk-container-id-125 input.sk-toggleable__control:checked~div.sk-toggleable__content {max-height: 200px;max-width: 100%;overflow: auto;}#sk-container-id-125 input.sk-toggleable__control:checked~label.sk-toggleable__label-arrow:before {content: \"▾\";}#sk-container-id-125 div.sk-estimator input.sk-toggleable__control:checked~label.sk-toggleable__label {background-color: #d4ebff;}#sk-container-id-125 div.sk-label input.sk-toggleable__control:checked~label.sk-toggleable__label {background-color: #d4ebff;}#sk-container-id-125 input.sk-hidden--visually {border: 0;clip: rect(1px 1px 1px 1px);clip: rect(1px, 1px, 1px, 1px);height: 1px;margin: -1px;overflow: hidden;padding: 0;position: absolute;width: 1px;}#sk-container-id-125 div.sk-estimator {font-family: monospace;background-color: #f0f8ff;border: 1px dotted black;border-radius: 0.25em;box-sizing: border-box;margin-bottom: 0.5em;}#sk-container-id-125 div.sk-estimator:hover {background-color: #d4ebff;}#sk-container-id-125 div.sk-parallel-item::after {content: \"\";width: 100%;border-bottom: 1px solid gray;flex-grow: 1;}#sk-container-id-125 div.sk-label:hover label.sk-toggleable__label {background-color: #d4ebff;}#sk-container-id-125 div.sk-serial::before {content: \"\";position: absolute;border-left: 1px solid gray;box-sizing: border-box;top: 0;bottom: 0;left: 50%;z-index: 0;}#sk-container-id-125 div.sk-serial {display: flex;flex-direction: column;align-items: center;background-color: white;padding-right: 0.2em;padding-left: 0.2em;position: relative;}#sk-container-id-125 div.sk-item {position: relative;z-index: 1;}#sk-container-id-125 div.sk-parallel {display: flex;align-items: stretch;justify-content: center;background-color: white;position: relative;}#sk-container-id-125 div.sk-item::before, #sk-container-id-125 div.sk-parallel-item::before {content: \"\";position: absolute;border-left: 1px solid gray;box-sizing: border-box;top: 0;bottom: 0;left: 50%;z-index: -1;}#sk-container-id-125 div.sk-parallel-item {display: flex;flex-direction: column;z-index: 1;position: relative;background-color: white;}#sk-container-id-125 div.sk-parallel-item:first-child::after {align-self: flex-end;width: 50%;}#sk-container-id-125 div.sk-parallel-item:last-child::after {align-self: flex-start;width: 50%;}#sk-container-id-125 div.sk-parallel-item:only-child::after {width: 0;}#sk-container-id-125 div.sk-dashed-wrapped {border: 1px dashed gray;margin: 0 0.4em 0.5em 0.4em;box-sizing: border-box;padding-bottom: 0.4em;background-color: white;}#sk-container-id-125 div.sk-label label {font-family: monospace;font-weight: bold;display: inline-block;line-height: 1.2em;}#sk-container-id-125 div.sk-label-container {text-align: center;}#sk-container-id-125 div.sk-container {/* jupyter's `normalize.less` sets `[hidden] { display: none; }` but bootstrap.min.css set `[hidden] { display: none !important; }` so we also need the `!important` here to be able to override the default hidden behavior on the sphinx rendered scikit-learn.org. See: https://github.com/scikit-learn/scikit-learn/issues/21755 */display: inline-block !important;position: relative;}#sk-container-id-125 div.sk-text-repr-fallback {display: none;}</style><div id=\"sk-container-id-125\" class=\"sk-top-container\"><div class=\"sk-text-repr-fallback\"><pre>GridSearchCV(cv=5, estimator=KNeighborsClassifier(), n_jobs=-1,\n",
       "             param_grid={&#x27;algorithm&#x27;: [&#x27;auto&#x27;, &#x27;ball_tree&#x27;, &#x27;kd_tree&#x27;, &#x27;brute&#x27;],\n",
       "                         &#x27;n_neighbors&#x27;: [11, 13, 15], &#x27;p&#x27;: [1, 2],\n",
       "                         &#x27;weights&#x27;: [&#x27;uniform&#x27;, &#x27;distance&#x27;]},\n",
       "             scoring=&#x27;precision&#x27;, verbose=2)</pre><b>In a Jupyter environment, please rerun this cell to show the HTML representation or trust the notebook. <br />On GitHub, the HTML representation is unable to render, please try loading this page with nbviewer.org.</b></div><div class=\"sk-container\" hidden><div class=\"sk-item sk-dashed-wrapped\"><div class=\"sk-label-container\"><div class=\"sk-label sk-toggleable\"><input class=\"sk-toggleable__control sk-hidden--visually\" id=\"sk-estimator-id-269\" type=\"checkbox\" ><label for=\"sk-estimator-id-269\" class=\"sk-toggleable__label sk-toggleable__label-arrow\">GridSearchCV</label><div class=\"sk-toggleable__content\"><pre>GridSearchCV(cv=5, estimator=KNeighborsClassifier(), n_jobs=-1,\n",
       "             param_grid={&#x27;algorithm&#x27;: [&#x27;auto&#x27;, &#x27;ball_tree&#x27;, &#x27;kd_tree&#x27;, &#x27;brute&#x27;],\n",
       "                         &#x27;n_neighbors&#x27;: [11, 13, 15], &#x27;p&#x27;: [1, 2],\n",
       "                         &#x27;weights&#x27;: [&#x27;uniform&#x27;, &#x27;distance&#x27;]},\n",
       "             scoring=&#x27;precision&#x27;, verbose=2)</pre></div></div></div><div class=\"sk-parallel\"><div class=\"sk-parallel-item\"><div class=\"sk-item\"><div class=\"sk-label-container\"><div class=\"sk-label sk-toggleable\"><input class=\"sk-toggleable__control sk-hidden--visually\" id=\"sk-estimator-id-270\" type=\"checkbox\" ><label for=\"sk-estimator-id-270\" class=\"sk-toggleable__label sk-toggleable__label-arrow\">estimator: KNeighborsClassifier</label><div class=\"sk-toggleable__content\"><pre>KNeighborsClassifier()</pre></div></div></div><div class=\"sk-serial\"><div class=\"sk-item\"><div class=\"sk-estimator sk-toggleable\"><input class=\"sk-toggleable__control sk-hidden--visually\" id=\"sk-estimator-id-271\" type=\"checkbox\" ><label for=\"sk-estimator-id-271\" class=\"sk-toggleable__label sk-toggleable__label-arrow\">KNeighborsClassifier</label><div class=\"sk-toggleable__content\"><pre>KNeighborsClassifier()</pre></div></div></div></div></div></div></div></div></div></div>"
      ],
      "text/plain": [
       "GridSearchCV(cv=5, estimator=KNeighborsClassifier(), n_jobs=-1,\n",
       "             param_grid={'algorithm': ['auto', 'ball_tree', 'kd_tree', 'brute'],\n",
       "                         'n_neighbors': [11, 13, 15], 'p': [1, 2],\n",
       "                         'weights': ['uniform', 'distance']},\n",
       "             scoring='precision', verbose=2)"
      ]
     },
     "execution_count": 1199,
     "metadata": {},
     "output_type": "execute_result"
    }
   ],
   "source": [
    "knn_gridcv = GridSearchCV(estimator=KNeighborsClassifier(), param_grid=grid_search_params_KNN, cv=5, n_jobs=-1, verbose=2, scoring='precision')\n",
    "knn_gridcv.fit(X_train_final, y_train_trimmed)"
   ]
  },
  {
   "cell_type": "code",
   "execution_count": 1200,
   "metadata": {},
   "outputs": [
    {
     "data": {
      "text/plain": [
       "{'algorithm': 'auto', 'n_neighbors': 15, 'p': 1, 'weights': 'uniform'}"
      ]
     },
     "execution_count": 1200,
     "metadata": {},
     "output_type": "execute_result"
    }
   ],
   "source": [
    "knn_gridcv.best_params_"
   ]
  },
  {
   "cell_type": "code",
   "execution_count": 1201,
   "metadata": {},
   "outputs": [],
   "source": [
    "knn_gridcv_best = knn_gridcv.best_estimator_"
   ]
  },
  {
   "cell_type": "code",
   "execution_count": 1202,
   "metadata": {},
   "outputs": [
    {
     "name": "stdout",
     "output_type": "stream",
     "text": [
      "              precision    recall  f1-score   support\n",
      "\n",
      "           0       0.83      0.95      0.89      1169\n",
      "           1       0.74      0.40      0.52       372\n",
      "\n",
      "    accuracy                           0.82      1541\n",
      "   macro avg       0.79      0.68      0.71      1541\n",
      "weighted avg       0.81      0.82      0.80      1541\n",
      "\n",
      "              precision    recall  f1-score   support\n",
      "\n",
      "           0       0.84      0.93      0.88       300\n",
      "           1       0.69      0.46      0.55        99\n",
      "\n",
      "    accuracy                           0.81       399\n",
      "   macro avg       0.76      0.70      0.72       399\n",
      "weighted avg       0.80      0.81      0.80       399\n",
      "\n",
      "Precision Score Train - KNN :  0.7389162561576355\n",
      "Precision Score Test - KNN :  0.6865671641791045\n"
     ]
    }
   ],
   "source": [
    "y_pred_train_knn = knn_gridcv_best.predict(X_train_final)\n",
    "y_pred_test_knn = knn_gridcv_best.predict(X_test_final)\n",
    "\n",
    "print(classification_report(y_train_trimmed, y_pred_train_knn))\n",
    "print(classification_report(y_test, y_pred_test_knn))\n",
    "print('Precision Score Train - KNN : ', precision_score(y_train_trimmed, y_pred_train_knn))\n",
    "print('Precision Score Test - KNN : ', precision_score(y_test, y_pred_test_knn))"
   ]
  },
  {
   "cell_type": "code",
   "execution_count": 1203,
   "metadata": {},
   "outputs": [
    {
     "name": "stdout",
     "output_type": "stream",
     "text": [
      "Precision - All - Cross Validation  :  [0.76       0.66129032 0.73846154]\n",
      "Precision Score - Mean - Cross Validation :  0.7199172870140612\n"
     ]
    }
   ],
   "source": [
    "precision_train_cross_val = cross_val_score(knn_gridcv_best, X_train_final, y_train_trimmed, cv=3, scoring=\"precision\")\n",
    "print('Precision - All - Cross Validation  : ', precision_train_cross_val)\n",
    "print('Precision Score - Mean - Cross Validation : ', precision_train_cross_val.mean())"
   ]
  },
  {
   "cell_type": "markdown",
   "metadata": {},
   "source": [
    "After severall hyperparameter tuning, we got the best parameter and result using `KNN` model. With 0.74 `precision` score on train-set and 0.69 on test-set. The different between train result and test result is small, but we need more `precision` score to make the model good fit. Let's change the threeshold a bit."
   ]
  },
  {
   "cell_type": "markdown",
   "metadata": {},
   "source": [
    "## 9.4 - Change Threshold"
   ]
  },
  {
   "cell_type": "markdown",
   "metadata": {},
   "source": [
    "### 9.4.1 - Logistic Regression"
   ]
  },
  {
   "cell_type": "code",
   "execution_count": 1204,
   "metadata": {},
   "outputs": [],
   "source": [
    "threshold = 0.6"
   ]
  },
  {
   "cell_type": "code",
   "execution_count": 1205,
   "metadata": {},
   "outputs": [
    {
     "name": "stdout",
     "output_type": "stream",
     "text": [
      "              precision    recall  f1-score   support\n",
      "\n",
      "           0       0.81      0.97      0.88      1169\n",
      "           1       0.75      0.30      0.43       372\n",
      "\n",
      "    accuracy                           0.81      1541\n",
      "   macro avg       0.78      0.63      0.66      1541\n",
      "weighted avg       0.80      0.81      0.77      1541\n",
      "\n",
      "              precision    recall  f1-score   support\n",
      "\n",
      "           0       0.83      0.94      0.88       300\n",
      "           1       0.70      0.39      0.50        99\n",
      "\n",
      "    accuracy                           0.81       399\n",
      "   macro avg       0.76      0.67      0.69       399\n",
      "weighted avg       0.79      0.81      0.79       399\n",
      "\n",
      "LogReg Precision - Train Set :  0.7516778523489933\n",
      "LogReg Precision - Test Set :  0.6964285714285714\n"
     ]
    }
   ],
   "source": [
    "y_pred_new_proba_train = lr_gridcv_best.predict_proba(X_train_final)\n",
    "y_pred_new_train = np.where(y_pred_new_proba_train[:,1] >= threshold, 1, 0)\n",
    "\n",
    "y_pred_new_proba_test = lr_gridcv_best.predict_proba(X_test_final)\n",
    "y_pred_new_test = np.where(y_pred_new_proba_test[:,1] >= threshold, 1, 0)\n",
    "\n",
    "print(classification_report(y_train_trimmed, y_pred_new_train))\n",
    "print(classification_report(y_test, y_pred_new_test))\n",
    "print('LogReg Precision - Train Set : ', precision_score(y_train_trimmed, y_pred_new_train))\n",
    "print('LogReg Precision - Test Set : ', precision_score(y_test, y_pred_new_test))"
   ]
  },
  {
   "cell_type": "markdown",
   "metadata": {},
   "source": [
    "### 9.4.2 - KNN"
   ]
  },
  {
   "cell_type": "code",
   "execution_count": 1206,
   "metadata": {},
   "outputs": [
    {
     "name": "stdout",
     "output_type": "stream",
     "text": [
      "              precision    recall  f1-score   support\n",
      "\n",
      "           0       0.82      0.97      0.89      1169\n",
      "           1       0.77      0.35      0.49       372\n",
      "\n",
      "    accuracy                           0.82      1541\n",
      "   macro avg       0.80      0.66      0.69      1541\n",
      "weighted avg       0.81      0.82      0.79      1541\n",
      "\n",
      "              precision    recall  f1-score   support\n",
      "\n",
      "           0       0.84      0.95      0.89       300\n",
      "           1       0.74      0.43      0.55        99\n",
      "\n",
      "    accuracy                           0.82       399\n",
      "   macro avg       0.79      0.69      0.72       399\n",
      "weighted avg       0.81      0.82      0.80       399\n",
      "\n",
      "KNN Precision - Train Set :  0.7674418604651163\n",
      "KNN Precision - Test Set :  0.7413793103448276\n"
     ]
    }
   ],
   "source": [
    "y_pred_new_proba_train = knn_gridcv_best.predict_proba(X_train_final)\n",
    "y_pred_new_train = np.where(y_pred_new_proba_train[:,1] >= threshold, 1, 0)\n",
    "\n",
    "y_pred_new_proba_test = knn_gridcv_best.predict_proba(X_test_final)\n",
    "y_pred_new_test = np.where(y_pred_new_proba_test[:,1] >= threshold, 1, 0)\n",
    "\n",
    "print(classification_report(y_train_trimmed, y_pred_new_train))\n",
    "print(classification_report(y_test, y_pred_new_test))\n",
    "print('KNN Precision - Train Set : ', precision_score(y_train_trimmed, y_pred_new_train))\n",
    "print('KNN Precision - Test Set : ', precision_score(y_test, y_pred_new_test))"
   ]
  },
  {
   "cell_type": "markdown",
   "metadata": {},
   "source": [
    "After changing threshold for best `Logistic Regresion` and `KNN` model we got the best result. We change the threshold to 0.6 from 0.5 and the `KNN` model give a 0.77 `precision` score on train-set and 0.74 `precision` score on test-set. Finally we get the model that give `Goodfit` as a result. So we will use this model."
   ]
  },
  {
   "cell_type": "markdown",
   "metadata": {},
   "source": [
    "# 10 - Model Analysis"
   ]
  },
  {
   "cell_type": "markdown",
   "metadata": {},
   "source": [
    "- To analyze this model, we use `precision` metrics because we want to maximize the model to correctly predict positive as much as it can.\n",
    "\n",
    "- From all the three model we tried as baseline, `Logistic Regression` model give us the best result compared to `SVM` and `KNN` with precision score 0.74 on train-set and 0.66 on test-set. However all the model give us a bad result, because it seems to be overfit, especially `KNN` model which precision score is 0.78 on train-set and 0.58 on test set. So we need to improve all the model using hyperparameter tuning.\n",
    "\n",
    "- After hyperparameter tuning, The result for `Logistic Regression` is 0.72 precision score on train-set and 0.68 precision score on test-set. This is a bit better than the baseline model, while `SVM` after hyperparameter tuning still gave a bad result wich is 0.77 and 0.66 on train and test set respectively. Then `KNN` result of hyperparameter tuning is very good compared to its baseline, which is 0.74 and 0.69 precision score on train and test set. So we can assume `KNN` is best model after hyperparameter tuning improvement, but we still need to improve its precision to make it goodfit, so we try to give it a threshold.\n",
    "\n",
    "- After giving a threshold by 0.6 on our two best model `Logistic Regression` and `KNN`, as we can see `KNN` give more good result with 0.77 precision score on train-set and 0.74 precision score on test-set, these can already be categorized as `Goodfit`. Compared to all the result before this is the best result we got so far, so we will use this model for inferencing."
   ]
  },
  {
   "cell_type": "markdown",
   "metadata": {},
   "source": [
    "# 11 - Conclusion"
   ]
  },
  {
   "cell_type": "markdown",
   "metadata": {},
   "source": [
    "- Based on the EDA of Bill Statement and Payment, we can see the average amount of bill statement is keep declined in the last 6 month. Means people are using their credit card less during this period.\n",
    "\n",
    "- Based on model evaluation and model improvement, out of 3 model we tried, the best model is `KNN` after hyperparameter tuning and set the threshold at 0.6. This model give 76% precision score which mean it can correctly predict 76 out of 100 data.\n",
    "\n",
    "- But this model still has a weaknesses, which is its precision score. The best precision score we can get is only 76%. The problem is because data of target(y) is imbalance, there is only 400~ positive data from all 1900~ data target(y).\n",
    "\n",
    "- For next improvement, we can try to do oversampling on the data. Oversampling instead of undersampling simply because the dataset contains small data, with only 1900~ data. SMOTE is a good technique to try with this dataset and has a possibility to improve the result."
   ]
  },
  {
   "cell_type": "markdown",
   "metadata": {},
   "source": [
    "# 12 - Model Saving for Inference Dataset"
   ]
  },
  {
   "cell_type": "code",
   "execution_count": 1207,
   "metadata": {},
   "outputs": [],
   "source": [
    "#MODEL\n",
    "with open('model_knn.pkl', 'wb') as file_1:\n",
    "    pickle.dump(knn_gridcv_best, file_1)\n",
    "\n",
    "#SCALER\n",
    "with open('model_scaler_mm.pkl', 'wb') as file_2:\n",
    "    pickle.dump(scaler_mm, file_2)\n",
    "\n",
    "#ENCODER\n",
    "with open('model_oh_encoder.pkl', 'wb') as file_3:\n",
    "    pickle.dump(oh_encoder, file_3)\n",
    "\n",
    "#NUMERICAL\n",
    "with open('list_num_column_skew.txt', 'wb') as file_4:\n",
    "    pickle.dump(num_col_skew, file_4)\n",
    "\n",
    "#CATEGORICAL\n",
    "with open('list_cat_column_ordinal.txt', 'wb') as file_5:\n",
    "    pickle.dump(cat_col_ordinal, file_5)\n",
    "\n",
    "with open('list_cat_column_nominal.txt', 'wb') as file_6:\n",
    "    pickle.dump(cat_col_nominal, file_6)"
   ]
  },
  {
   "cell_type": "markdown",
   "metadata": {},
   "source": [
    "# 13 - Conceptual Problem"
   ]
  },
  {
   "cell_type": "markdown",
   "metadata": {},
   "source": [
    "## 13.1 - Apakah yang dimaksud dengan coeficient pada logistic regression?"
   ]
  },
  {
   "cell_type": "code",
   "execution_count": 1208,
   "metadata": {},
   "outputs": [
    {
     "name": "stdout",
     "output_type": "stream",
     "text": [
      "Coefficient :  [[-1.03917838e-01 -2.66748767e-04 -1.21193502e-03  0.00000000e+00\n",
      "  -3.84295212e-04 -2.86122321e-04 -1.15478498e-03  0.00000000e+00\n",
      "   0.00000000e+00  0.00000000e+00  0.00000000e+00  0.00000000e+00\n",
      "   0.00000000e+00  4.20420073e-01  4.38495587e-02  1.29731472e-01\n",
      "   7.00497331e-02  1.35485944e-01  6.05903923e-02 -4.42988800e-03\n",
      "   1.88401165e-03 -1.82507709e-03  4.67510652e-04 -8.65097652e-03\n",
      "   9.73655400e-04  0.00000000e+00  5.50590090e-02 -2.76235465e-04\n",
      "   0.00000000e+00 -1.22298149e-03 -2.93935039e-03  0.00000000e+00]]\n"
     ]
    }
   ],
   "source": [
    "print('Coefficient : ', lr_gridcv_best.coef_)"
   ]
  },
  {
   "cell_type": "markdown",
   "metadata": {},
   "source": [
    "Diatas adalah list _coefficient_ dari _logistic regression_. Jumlah nilai _coefficient_ sesuai dengan jumlah _feature_(X) yang digunakan. Karena setiap _feature_(X) akan dikalikan dengan _coefficient_ nya masing - masing."
   ]
  },
  {
   "cell_type": "markdown",
   "metadata": {},
   "source": [
    "## 13.2 - Apakah fungsi parameter kernel pada SVM? Jelaskan salah satu kernel yang kalian pahami!\n",
    "\n"
   ]
  },
  {
   "cell_type": "markdown",
   "metadata": {},
   "source": [
    "Kernel pada SVM berfungsi untuk mentransform _feature_ kedalam dimensi yang lebih besar. Misalnya dari 2D menjadi 3D atau 4D untuk memudahkan model dalam mengklasifikasikan data sehingga lebih efektif. Terdapat beberapa kernel dalam SVM, yang sering digunakan diantaranya adalah :\n",
    "- Linear Kernel : Digunakan ketika kita mengetahui distribusi datanya linear, dapat digunakan sebagai baseline sebelum mencoba kernel yang lain.\n",
    "- Polynomial Kernel : Digunakan ketika kita mengetahui distribusi datanya tidak linear.\n",
    "- RBF Kernel : Digunakan ketika kita tidak memiliki pengetahuan tentang distribusi datanya."
   ]
  },
  {
   "cell_type": "markdown",
   "metadata": {},
   "source": [
    "## 13.3 - Bagaimana cara memilih `K` yang optimal pada KNN ?"
   ]
  },
  {
   "cell_type": "markdown",
   "metadata": {},
   "source": [
    "Dalam menentukan nilai K pada model KNN, tidak terdapat cara yang optimal untuk langsung menentukan nilai terbaik K. Kita perlu mencoba memasukan nilai K terlebih dahulu lalu kemudian membandingkan hasilnya dengan nilai K yang lain. Dalam model klasifikasi disarankan untuk memberikan nilai K dengan angka ganjil."
   ]
  },
  {
   "cell_type": "markdown",
   "metadata": {},
   "source": [
    "## 13.4 - Apa yang dimaksud dengan metrics-metrics berikut : Accuracy, Precision, Recall, F1 Score, dan kapan waktu yang tepat untuk menggunakannya ?"
   ]
  },
  {
   "cell_type": "markdown",
   "metadata": {},
   "source": [
    "- _Accuracy_ adalah metrics yang digunakan untuk mengevaluasi klasifikasi model dengan menghitung prosentase prediksi yang benar dari seluruh data, semakin tinggi nilainya maka semakin bagus. Tetap _accuracy_ kurang cocok jika digunakan dalam data yang tidak imbang, sebagai contoh jika terdapat 100 data, ada 80 A dan 20 B, model berhasil memprediksi seluruh A yaitu 80, sedangkan hanya 10 B yang berhasil diprediksi, dari khasus ini _accuracy_ akan memberikan nilai 90% karena model berhasil memprediksi 90 (80 A + 10 B) data dengan benar meskipun prediksi untuk B itu sendiri hanya 50% dari data B.\n",
    "\n",
    "- _Precision_ adalah metrics yg digunakan untuk mengevaluasi klasifikasi model jika kita ingin memaksimalkan presisi dari prediksi model. Sebisa mungkin jangan sampai ada yang salah prediksi, meminimalisir salah prediksi.\n",
    "\n",
    "- _Recall_ adalah metrics yg digunakan untuk mengevaluasi klasifikasi model jika kita ingin memaksimalkan jumlah positif yang terprediksi. Kebalikan dari _precision_, _recall_ tidak mengutamakan presisi, sehingga seringkali akan salah memprediksi, tetapi lebih memaksimalkan seluruh data positifnya harus terprediksi.\n",
    "\n",
    "- _F1 Score_ adalah metrics yg digunakan untuk mengevaluasi klasifikasi model jika ingin menyeimbangkan nilai dari _precision_ dan _recall_."
   ]
  },
  {
   "cell_type": "code",
   "execution_count": 1209,
   "metadata": {},
   "outputs": [],
   "source": [
    "# X_train_trimmed.tail().reset_index().to_dict()"
   ]
  }
 ],
 "metadata": {
  "kernelspec": {
   "display_name": "base",
   "language": "python",
   "name": "python3"
  },
  "language_info": {
   "codemirror_mode": {
    "name": "ipython",
    "version": 3
   },
   "file_extension": ".py",
   "mimetype": "text/x-python",
   "name": "python",
   "nbconvert_exporter": "python",
   "pygments_lexer": "ipython3",
   "version": "3.11.4"
  },
  "orig_nbformat": 4
 },
 "nbformat": 4,
 "nbformat_minor": 2
}
